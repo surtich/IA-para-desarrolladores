{
 "cells": [
  {
   "cell_type": "markdown",
   "id": "fcb14617",
   "metadata": {},
   "source": [
    "### Sidekick (continuación)"
   ]
  },
  {
   "cell_type": "code",
   "execution_count": 1,
   "id": "62098d9b",
   "metadata": {},
   "outputs": [
    {
     "name": "stderr",
     "output_type": "stream",
     "text": [
      "/home/surtich/projects/IA para desarrolladores/.venv/lib/python3.13/site-packages/tqdm/auto.py:21: TqdmWarning: IProgress not found. Please update jupyter and ipywidgets. See https://ipywidgets.readthedocs.io/en/stable/user_install.html\n",
      "  from .autonotebook import tqdm as notebook_tqdm\n"
     ]
    }
   ],
   "source": [
    "from typing import Annotated, TypedDict, List, Dict, Any, Optional\n",
    "from typing_extensions import TypedDict\n",
    "from langchain_core.messages import AIMessage, HumanMessage, SystemMessage\n",
    "from langchain_google_genai import ChatGoogleGenerativeAI\n",
    "from langchain_community.agent_toolkits import PlayWrightBrowserToolkit\n",
    "from langchain_community.tools.playwright.utils import create_async_playwright_browser\n",
    "from langgraph.graph import StateGraph, START, END\n",
    "from langgraph.checkpoint.memory import MemorySaver\n",
    "from langgraph.prebuilt import ToolNode, tools_condition\n",
    "from langgraph.graph.message import add_messages\n",
    "from pydantic import BaseModel, Field\n",
    "from IPython.display import Image, display\n",
    "import gradio as gr\n",
    "import uuid\n",
    "from dotenv import load_dotenv"
   ]
  },
  {
   "cell_type": "markdown",
   "id": "6996ecd7",
   "metadata": {},
   "source": [
    "En esta práctica vamos a usar `Structured Outputs`"
   ]
  },
  {
   "cell_type": "code",
   "execution_count": 2,
   "id": "b0d41860",
   "metadata": {},
   "outputs": [],
   "source": [
    "# Primero define una salida estructurada\n",
    "\n",
    "class EvaluatorOutput(BaseModel):\n",
    "    feedback: str = Field(description=\"Comentarios sobre la respuesta del asistente\")\n",
    "    success_criteria_met: bool = Field(description=\"Indica si se han cumplido los criterios de éxito\")\n",
    "    user_input_needed: bool = Field(description=\"Verdadero si se necesita más información del usuario, aclaraciones, o si el asistente está atascado\")\n"
   ]
  },
  {
   "cell_type": "markdown",
   "id": "484f5972",
   "metadata": {},
   "source": [
    "Para el estado, además de los mensajes, vamos a tener información del `evaluator` para el `worker`. Sólo `messages` usa un `reducer`. Los mensajes serán acumulados, pero el resto de los valores serán sobreescritos."
   ]
  },
  {
   "cell_type": "code",
   "execution_count": 3,
   "id": "45d8462d",
   "metadata": {},
   "outputs": [],
   "source": [
    "# The state\n",
    "\n",
    "class State(TypedDict):\n",
    "    messages: Annotated[List[Any], add_messages]\n",
    "    success_criteria: str\n",
    "    feedback_on_work: Optional[str]\n",
    "    success_criteria_met: bool\n",
    "    user_input_needed: bool"
   ]
  },
  {
   "cell_type": "markdown",
   "id": "5d63dfdf",
   "metadata": {},
   "source": [
    "Añadimos las `tools` de PlayWright."
   ]
  },
  {
   "cell_type": "code",
   "execution_count": 4,
   "id": "5ed9dfdd",
   "metadata": {},
   "outputs": [],
   "source": [
    "import nest_asyncio\n",
    "nest_asyncio.apply()\n",
    "async_browser =  create_async_playwright_browser(headless=False)  # headful mode\n",
    "toolkit = PlayWrightBrowserToolkit.from_browser(async_browser=async_browser)\n",
    "tools = toolkit.get_tools()"
   ]
  },
  {
   "cell_type": "markdown",
   "id": "4fe8af88",
   "metadata": {},
   "source": [
    "Creamos dos LLMs, uno para el `worker` y otro para el `evaluator`."
   ]
  },
  {
   "cell_type": "code",
   "execution_count": 5,
   "id": "4d14631f",
   "metadata": {},
   "outputs": [],
   "source": [
    "# Initialize the LLMs\n",
    "\n",
    "# Initialize the LLMs\n",
    "\n",
    "worker_llm = ChatGoogleGenerativeAI(model=\"gemini-2.0-flash\")\n",
    "worker_llm_with_tools = worker_llm.bind_tools(tools)\n",
    "\n",
    "evaluator_llm = ChatGoogleGenerativeAI(model=\"gemini-2.0-flash\")\n",
    "evaluator_llm_with_output = evaluator_llm.with_structured_output(EvaluatorOutput)"
   ]
  },
  {
   "cell_type": "markdown",
   "id": "97f53a55",
   "metadata": {},
   "source": [
    "Ahora creamos los nodos"
   ]
  },
  {
   "cell_type": "code",
   "execution_count": 6,
   "id": "79546996",
   "metadata": {},
   "outputs": [],
   "source": [
    "# El nodo trabajador\n",
    "\n",
    "def worker(state: State) -> Dict[str, Any]:\n",
    "    system_message = f\"\"\"Eres un asistente útil que puede utilizar herramientas para completar tareas.\n",
    "Sigues trabajando en una tarea hasta que tengas una pregunta o aclaración para el usuario, o se cumplan los criterios de éxito.\n",
    "Estos son los criterios de éxito:\n",
    "{state['success_criteria']}\n",
    "Debes responder con una pregunta para el usuario sobre esta tarea, o con tu respuesta final.\n",
    "Si tienes una pregunta para el usuario, debes responder indicando claramente tu pregunta. Un ejemplo podría ser:\n",
    "\n",
    "Pregunta: por favor, aclara si deseas un resumen o una respuesta detallada\n",
    "\n",
    "Si has terminado, responde con la respuesta final y no hagas ninguna pregunta; simplemente responde con la respuesta.\n",
    "\"\"\"\n",
    "    \n",
    "    if state.get(\"feedback_on_work\"):\n",
    "        system_message += f\"\"\"\n",
    "Anteriormente pensaste que habías completado la tarea, pero tu respuesta fue rechazada porque no se cumplieron los criterios de éxito.\n",
    "Aquí tienes los comentarios sobre por qué fue rechazada:\n",
    "{state['feedback_on_work']}\n",
    "Con estos comentarios, por favor continúa con la tarea, asegurándote de cumplir los criterios de éxito o de tener una pregunta para el usuario.\"\"\"\n",
    "    \n",
    "    # Añadir el mensaje del sistema\n",
    "\n",
    "    found_system_message = False\n",
    "    messages = state[\"messages\"]\n",
    "    for message in messages:\n",
    "        if isinstance(message, SystemMessage):\n",
    "            message.content = system_message\n",
    "            found_system_message = True\n",
    "    \n",
    "    if not found_system_message:\n",
    "        messages = [SystemMessage(content=system_message)] + messages\n",
    "    \n",
    "    # Invocar el LLM con herramientas\n",
    "    response = worker_llm_with_tools.invoke(messages)\n",
    "    \n",
    "    # Devolver el estado actualizado\n",
    "    return {\n",
    "        \"messages\": [response],\n",
    "    }\n"
   ]
  },
  {
   "cell_type": "markdown",
   "id": "82281a8e",
   "metadata": {},
   "source": [
    "Creamos un `worker_router`. Un `router` es una función que utiliza un `edge` para decidir qué nodo toma el control."
   ]
  },
  {
   "cell_type": "code",
   "execution_count": 7,
   "id": "141a29fe",
   "metadata": {},
   "outputs": [],
   "source": [
    "def worker_router(state: State) -> str:\n",
    "    last_message = state[\"messages\"][-1]\n",
    "    \n",
    "    if hasattr(last_message, \"tool_calls\") and last_message.tool_calls:\n",
    "        return \"tools\"\n",
    "    else:\n",
    "        return \"evaluator\""
   ]
  },
  {
   "cell_type": "markdown",
   "id": "bbee5458",
   "metadata": {},
   "source": [
    "Función de utilidad para crear el historial de conversación que alterne entre los roles `user`y `assistant`."
   ]
  },
  {
   "cell_type": "code",
   "execution_count": 8,
   "id": "34f067e1",
   "metadata": {},
   "outputs": [],
   "source": [
    "def format_conversation(messages: List[Any]) -> str:\n",
    "    conversation = \"Conversation history:\\n\\n\"\n",
    "    for message in messages:\n",
    "        if isinstance(message, HumanMessage):\n",
    "            conversation += f\"User: {message.content}\\n\"\n",
    "        elif isinstance(message, AIMessage):\n",
    "            text = message.content or \"[Tools use]\"\n",
    "            conversation += f\"Assistant: {text}\\n\"\n",
    "    return conversation"
   ]
  },
  {
   "cell_type": "code",
   "execution_count": 9,
   "id": "95e3d87a",
   "metadata": {},
   "outputs": [],
   "source": [
    "def evaluator(state: State) -> State:\n",
    "    last_response = state[\"messages\"][-1].content\n",
    "\n",
    "    system_message = f\"\"\"Eres un evaluador que determina si una tarea ha sido completada exitosamente por un Asistente.\n",
    "Evalúa la última respuesta del Asistente en base a los criterios dados. Responde con tus comentarios y con tu decisión sobre si se han cumplido los criterios de éxito,\n",
    "y si se necesita más información por parte del usuario.\"\"\"\n",
    "    \n",
    "    user_message = f\"\"\"Estás evaluando una conversación entre el Usuario y el Asistente. Decides qué acción tomar basándote en la última respuesta del Asistente.\n",
    "\n",
    "Toda la conversación con el asistente, incluyendo la solicitud original del usuario y todas las respuestas, es:\n",
    "{format_conversation(state['messages'])}\n",
    "\n",
    "Los criterios de éxito para esta tarea son:\n",
    "{state['success_criteria']}\n",
    "\n",
    "Y la respuesta final del Asistente que estás evaluando es:\n",
    "{last_response}\n",
    "\n",
    "Responde con tus comentarios y decide si los criterios de éxito se cumplen con esta respuesta.\n",
    "Además, decide si se requiere más información del usuario, ya sea porque el asistente tiene una pregunta, necesita aclaración, o parece estar atascado y no puede responder sin ayuda.\n",
    "\"\"\"\n",
    "    if state[\"feedback_on_work\"]:\n",
    "        user_message += f\"Además, ten en cuenta que en un intento previo del Asistente, proporcionaste estos comentarios: {state['feedback_on_work']}\\n\"\n",
    "        user_message += \"Si observas que el Asistente está repitiendo los mismos errores, entonces considera responder que se requiere información del usuario.\"\n",
    "    \n",
    "    evaluator_messages = [SystemMessage(content=system_message), HumanMessage(content=user_message)]\n",
    "\n",
    "    eval_result = evaluator_llm_with_output.invoke(evaluator_messages)\n",
    "    new_state = {\n",
    "        \"messages\": [{\"role\": \"assistant\", \"content\": f\"Comentarios del Evaluador sobre esta respuesta: {eval_result.feedback}\"}],\n",
    "        \"feedback_on_work\": eval_result.feedback,\n",
    "        \"success_criteria_met\": eval_result.success_criteria_met,\n",
    "        \"user_input_needed\": eval_result.user_input_needed\n",
    "    }\n",
    "    return new_state\n"
   ]
  },
  {
   "cell_type": "code",
   "execution_count": 10,
   "id": "d16b667b",
   "metadata": {},
   "outputs": [],
   "source": [
    "def route_based_on_evaluation(state: State) -> str:\n",
    "    if state[\"success_criteria_met\"] or state[\"user_input_needed\"]:\n",
    "        return \"END\"\n",
    "    else:\n",
    "        return \"worker\""
   ]
  },
  {
   "cell_type": "code",
   "execution_count": 11,
   "id": "0d578d3c",
   "metadata": {},
   "outputs": [],
   "source": [
    "# Set up Graph Builder with State\n",
    "graph_builder = StateGraph(State)\n",
    "\n",
    "# Add nodes\n",
    "graph_builder.add_node(\"worker\", worker)\n",
    "graph_builder.add_node(\"tools\", ToolNode(tools=tools))\n",
    "graph_builder.add_node(\"evaluator\", evaluator)\n",
    "\n",
    "# Add edges\n",
    "graph_builder.add_conditional_edges(\"worker\", worker_router, {\"tools\": \"tools\", \"evaluator\": \"evaluator\"})\n",
    "graph_builder.add_edge(\"tools\", \"worker\")\n",
    "graph_builder.add_conditional_edges(\"evaluator\", route_based_on_evaluation, {\"worker\": \"worker\", \"END\": END})\n",
    "graph_builder.add_edge(START, \"worker\")\n",
    "\n",
    "# Compile the graph\n",
    "memory = MemorySaver()\n",
    "graph = graph_builder.compile(checkpointer=memory)"
   ]
  },
  {
   "cell_type": "code",
   "execution_count": 12,
   "id": "cc27fbf2",
   "metadata": {},
   "outputs": [
    {
     "data": {
      "image/png": "[encoded data removed]",
      "text/plain": [
       "<IPython.core.display.Image object>"
      ]
     },
     "metadata": {},
     "output_type": "display_data"
    }
   ],
   "source": [
    "display(Image(graph.get_graph().draw_mermaid_png()))"
   ]
  },
  {
   "cell_type": "code",
   "execution_count": 13,
   "id": "b38698ac",
   "metadata": {},
   "outputs": [],
   "source": [
    "def make_thread_id() -> str:\n",
    "    return str(uuid.uuid4())\n",
    "\n",
    "\n",
    "async def process_message(message, success_criteria, history, thread):\n",
    "\n",
    "    config = {\"configurable\": {\"thread_id\": thread}}\n",
    "\n",
    "    state = {\n",
    "        \"messages\": message,\n",
    "        \"success_criteria\": success_criteria,\n",
    "        \"feedback_on_work\": None,\n",
    "        \"success_criteria_met\": False,\n",
    "        \"user_input_needed\": False\n",
    "    }\n",
    "    result = await graph.ainvoke(state, config=config)\n",
    "    user = {\"role\": \"user\", \"content\": message}\n",
    "    reply = {\"role\": \"assistant\", \"content\": result[\"messages\"][-2].content}\n",
    "    feedback = {\"role\": \"assistant\", \"content\": result[\"messages\"][-1].content}\n",
    "    return history + [user, reply, feedback]\n",
    "\n",
    "async def reset():\n",
    "    return \"\", \"\", None, make_thread_id()\n",
    "\n"
   ]
  },
  {
   "cell_type": "code",
   "execution_count": 14,
   "id": "720f4fac",
   "metadata": {},
   "outputs": [],
   "source": [
    "# Esto evita el error: There is no current event loop in thread 'MainThread'\n",
    "import uvicorn\n",
    "\n",
    "uvicorn.config.LOOP_SETUPS = {\n",
    "    \"none\": None,\n",
    "    \"auto\": \"uvicorn.loops.asyncio:asyncio_setup\",\n",
    "    \"asyncio\": \"uvicorn.loops.asyncio:asyncio_setup\",\n",
    "    \"uvloop\": \"uvicorn.loops.uvloop:uvloop_setup\",\n",
    "}"
   ]
  },
  {
   "cell_type": "code",
   "execution_count": 15,
   "id": "285ca416",
   "metadata": {},
   "outputs": [
    {
     "name": "stdout",
     "output_type": "stream",
     "text": [
      "* Running on local URL:  http://127.0.0.1:7864\n",
      "* To create a public link, set `share=True` in `launch()`.\n"
     ]
    },
    {
     "data": {
      "text/html": [
       "<div><iframe src=\"http://127.0.0.1:7864/\" width=\"100%\" height=\"500\" allow=\"autoplay; camera; microphone; clipboard-read; clipboard-write;\" frameborder=\"0\" allowfullscreen></iframe></div>"
      ],
      "text/plain": [
       "<IPython.core.display.HTML object>"
      ]
     },
     "metadata": {},
     "output_type": "display_data"
    },
    {
     "data": {
      "text/plain": []
     },
     "execution_count": 15,
     "metadata": {},
     "output_type": "execute_result"
    }
   ],
   "source": [
    "with gr.Blocks(theme=gr.themes.Default(primary_hue=\"emerald\")) as demo:\n",
    "    gr.Markdown(\"## Sidekick Personal Co-worker\")\n",
    "    thread = gr.State(make_thread_id())\n",
    "    \n",
    "    with gr.Row():\n",
    "        chatbot = gr.Chatbot(label=\"Sidekick\", height=300, type=\"messages\")\n",
    "    with gr.Group():\n",
    "        with gr.Row():\n",
    "            message = gr.Textbox(show_label=False, placeholder=\"Your request to your sidekick\")\n",
    "        with gr.Row():\n",
    "            success_criteria = gr.Textbox(show_label=False, placeholder=\"What are your success critiera?\")\n",
    "    with gr.Row():\n",
    "        reset_button = gr.Button(\"Reset\", variant=\"stop\")\n",
    "        go_button = gr.Button(\"Go!\", variant=\"primary\")\n",
    "    message.submit(process_message, [message, success_criteria, chatbot, thread], [chatbot])\n",
    "    success_criteria.submit(process_message, [message, success_criteria, chatbot, thread], [chatbot])\n",
    "    go_button.click(process_message, [message, success_criteria, chatbot, thread], [chatbot])\n",
    "    reset_button.click(reset, [], [message, success_criteria, chatbot, thread])\n",
    "\n",
    "    \n",
    "demo.launch()"
   ]
  }
 ],
 "metadata": {
  "kernelspec": {
   "display_name": ".venv",
   "language": "python",
   "name": "python3"
  },
  "language_info": {
   "codemirror_mode": {
    "name": "ipython",
    "version": 3
   },
   "file_extension": ".py",
   "mimetype": "text/x-python",
   "name": "python",
   "nbconvert_exporter": "python",
   "pygments_lexer": "ipython3",
   "version": "3.13.3"
  }
 },
 "nbformat": 4,
 "nbformat_minor": 5
}
