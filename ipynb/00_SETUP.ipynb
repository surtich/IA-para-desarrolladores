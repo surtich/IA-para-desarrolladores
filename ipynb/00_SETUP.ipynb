{
 "cells": [
  {
   "cell_type": "markdown",
   "id": "73378332",
   "metadata": {},
   "source": [
    "## Instalación de uv\n",
    "\n",
    "Compruebe que tiene instalado Python en su sistema. Después siga las instrucciones de instalación de [`uv`](https://github.com/astral-sh/uv).\n",
    "\n",
    "## Instalación de dependencias del proyecto\n",
    "\n",
    "Sitúese en el directorio raíz del proyecto y ejecute:\n",
    "\n",
    "```bash \n",
    "uv sync\n",
    "```"
   ]
  }
 ],
 "metadata": {
  "kernelspec": {
   "display_name": ".venv",
   "language": "python",
   "name": "python3"
  },
  "language_info": {
   "codemirror_mode": {
    "name": "ipython",
    "version": 3
   },
   "file_extension": ".py",
   "mimetype": "text/x-python",
   "name": "python",
   "nbconvert_exporter": "python",
   "pygments_lexer": "ipython3",
   "version": "3.13.3"
  }
 },
 "nbformat": 4,
 "nbformat_minor": 5
}
