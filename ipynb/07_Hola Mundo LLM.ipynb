{
 "cells": [
  {
   "cell_type": "markdown",
   "id": "4f407a39",
   "metadata": {},
   "source": [
    "### Primera aplicación basada en LLM\n",
    "\n",
    "En esta lección vamos a integrar un LLM en una aplicación Python. Empezamos probando que podemos conversar con un modelo LLM. En estas y sucesivas lecciones, se usará el proveedor Google Gemini, cámbielo si prefiere usar otro."
   ]
  },
  {
   "cell_type": "code",
   "execution_count": 1,
   "id": "b8503cf6",
   "metadata": {},
   "outputs": [
    {
     "name": "stdout",
     "output_type": "stream",
     "text": [
      "2 + 2 son 4.\n",
      "\n"
     ]
    }
   ],
   "source": [
    "import os\n",
    "from openai import OpenAI\n",
    "from dotenv import load_dotenv\n",
    "\n",
    "load_dotenv()\n",
    "api_key = os.getenv('GOOGLE_API_KEY')\n",
    "\n",
    "MODEL = \"gemini-2.0-flash\"\n",
    "openai = OpenAI(base_url=\"https://generativelanguage.googleapis.com/v1beta\", api_key=api_key)\n",
    "\n",
    "response = openai.chat.completions.create(\n",
    " model=MODEL,\n",
    " messages=[{\"role\": \"user\", \"content\": \"¿Cuánto son 2 + 2?\"}]\n",
    ")\n",
    "\n",
    "print(response.choices[0].message.content)"
   ]
  },
  {
   "cell_type": "markdown",
   "id": "0150efae",
   "metadata": {},
   "source": [
    "En la siguiente celda definimos la clase `Website` que permite hacer `scrapping` de una URL pasada como parámetro utilizando la librería `BeautifulSoup4`. Observe que lo que hace es obtener el `title` de la página y el texto. Para ello, elimina previamente el contenido de etiquetas irrelevantes con el método `BeautifulSoup.decompose()`."
   ]
  },
  {
   "cell_type": "code",
   "execution_count": 2,
   "id": "fdc8182d",
   "metadata": {},
   "outputs": [],
   "source": [
    "import requests\n",
    "from bs4 import BeautifulSoup\n",
    "\n",
    "# A class to represent a Webpage\n",
    "# Code from: https://github.com/ed-donner/llm_engineering \n",
    "\n",
    "# Some websites need you to use proper headers when fetching them:\n",
    "headers = {\n",
    " \"User-Agent\": \"Mozilla/5.0 (Windows NT 10.0; Win64; x64) AppleWebKit/537.36 (KHTML, like Gecko) Chrome/117.0.0.0 Safari/537.36\"\n",
    "}\n",
    "\n",
    "class Website:\n",
    "\n",
    "    def __init__(self, url):\n",
    "        \"\"\"\n",
    "        Create this Website object from the given url using the BeautifulSoup library\n",
    "        \"\"\"\n",
    "        self.url = url\n",
    "        response = requests.get(url, headers=headers)\n",
    "        soup = BeautifulSoup(response.content, 'html.parser')\n",
    "        self.title = soup.title.string if soup.title else \"No title found\"\n",
    "        for irrelevant in soup.body([\"script\", \"style\", \"img\", \"input\"]):\n",
    "            irrelevant.decompose()\n",
    "        self.text = soup.body.get_text(separator=\"\\n\", strip=True)"
   ]
  },
  {
   "cell_type": "markdown",
   "id": "c29b34d8",
   "metadata": {},
   "source": [
    "En la siguiente celda, descargamos y mostramos el código de una página de Wikipedia."
   ]
  },
  {
   "cell_type": "code",
   "execution_count": 3,
   "id": "e65d0df5",
   "metadata": {},
   "outputs": [
    {
     "name": "stdout",
     "output_type": "stream",
     "text": [
      "Novak Djokovic - Wikipedia\n",
      " editors\n",
      "learn more\n",
      "Contributions\n",
      "Talk\n",
      "Contents\n",
      "mo\n"
     ]
    }
   ],
   "source": [
    "# Versión en inglés de la página de Novak Djokovic\n",
    "novak_url = \"https://en.wikipedia.org/wiki/Novak_Djokovic\"\n",
    "novak_web = Website(novak_url)\n",
    "print(novak_web.title)\n",
    "print(novak_web.text[350:400])"
   ]
  },
  {
   "cell_type": "markdown",
   "id": "38a19420",
   "metadata": {},
   "source": [
    "Creamos una función que cree el `prompt` de  `user` para resumir páginas de Wikipedia."
   ]
  },
  {
   "cell_type": "code",
   "execution_count": 7,
   "id": "b772b65c",
   "metadata": {},
   "outputs": [],
   "source": [
    "def user_prompt_for(website):\n",
    "    user_prompt = f\"Estás buscando una página con título {website.title}\"\n",
    "    user_prompt += \"\\nLos contenidos de este sitio web son los siguientes; \\\n",
    "                    por favor, proporciona un breve resumen de este sitio web en markdown. \\\n",
    "                    Si incluye noticias o anuncios, resúmelos también.\\n\\n\"\n",
    "    user_prompt += website.text\n",
    "    return user_prompt"
   ]
  },
  {
   "cell_type": "markdown",
   "id": "132831fa",
   "metadata": {},
   "source": [
    "Creamos el `prompt` de `system`:"
   ]
  },
  {
   "cell_type": "code",
   "execution_count": 4,
   "id": "4ebc2876",
   "metadata": {},
   "outputs": [],
   "source": [
    "system_prompt = \"Eres un asistente que analiza el contenido de un sitio web \\\n",
    "                    y proporciona un resumen breve, ignorando el texto que podría estar relacionado con la navegación. \\\n",
    "                    No añades ningún comentario inicial ni final. \\\n",
    "                    Respondes en markdown. Respondes en español.\"\n",
    "    \n",
    "def messages_for(website):\n",
    "    return [\n",
    "        {\"role\": \"system\", \"content\": system_prompt},\n",
    "        {\"role\": \"user\", \"content\": user_prompt_for(website)}\n",
    "    ]"
   ]
  },
  {
   "cell_type": "markdown",
   "id": "d8248a5f",
   "metadata": {},
   "source": [
    "Creamos la función que llama a la API para crear el resumen de la página:"
   ]
  },
  {
   "cell_type": "code",
   "execution_count": 5,
   "id": "4b59a8f8",
   "metadata": {},
   "outputs": [],
   "source": [
    "def summarize(url):\n",
    "    website = Website(url)\n",
    "    response = openai.chat.completions.create(\n",
    "        model = MODEL,\n",
    "        messages = messages_for(website)\n",
    "    )\n",
    "    return response.choices[0].message.content"
   ]
  },
  {
   "cell_type": "markdown",
   "id": "a33dfdcb",
   "metadata": {},
   "source": [
    "Vemos que el resumen se hace en español a pesar de que la página está en inglés."
   ]
  },
  {
   "cell_type": "code",
   "execution_count": 8,
   "id": "24110988",
   "metadata": {},
   "outputs": [
    {
     "data": {
      "text/plain": [
       "'Novak Djokovic es un tenista profesional serbio, nacido el 22 de mayo de 1987, considerado uno de los mejores de todos los tiempos. Ha sido número 1 del mundo por un récord de 428 semanas y ha terminado el año como número 1 en ocho ocasiones, también un récord.\\n\\n**Carrera:**\\n*   Ha ganado 24 títulos de Grand Slam, el máximo en la historia del tenis masculino.\\n*   Es el único hombre en lograr el \"Triple Career Grand Slam\" y el único en completar el \"Career Golden Masters\" en dos ocasiones.\\n*   Ha ganado 100 títulos individuales en total.\\n*   Medallista olímpico.\\n\\n**Fuera de la cancha:**\\n*   Fundador de la Fundación Novak Djokovic, enfocada en apoyar a niños de comunidades desfavorecidas.\\n*   Embajador de Buena Voluntad de UNICEF.\\n\\n**Controversias:**\\n*   Su postura en contra de la vacuna COVID-19 le impidió participar en varios torneos.\\n\\nLa página también detalla sus rivalidades más destacadas, su estilo de juego, su equipo de trabajo, sus patrocinios, sus inversiones y sus opiniones sobre diversos temas.'"
      ]
     },
     "execution_count": 8,
     "metadata": {},
     "output_type": "execute_result"
    }
   ],
   "source": [
    "summarize(novak_url)"
   ]
  },
  {
   "cell_type": "markdown",
   "id": "0e112026",
   "metadata": {},
   "source": [
    "Para verlo mejor creamos una función que interprete el código Markdown:"
   ]
  },
  {
   "cell_type": "code",
   "execution_count": 9,
   "id": "633956ba",
   "metadata": {},
   "outputs": [],
   "source": [
    "from IPython.display import Markdown, display, update_display\n",
    "\n",
    "def display_summary(url):\n",
    "    summary = summarize(url)\n",
    "    display(Markdown(summary))"
   ]
  },
  {
   "cell_type": "code",
   "execution_count": 10,
   "id": "19cf1c17",
   "metadata": {},
   "outputs": [
    {
     "data": {
      "text/markdown": [
       "Este artículo de Wikipedia trata sobre Novak Djokovic, un tenista profesional serbio nacido en 1987. Actualmente es el número 6 del mundo y ha sido el número 1 durante un récord de 428 semanas. Djokovic tiene 100 títulos individuales, incluyendo 24 títulos de Grand Slam, un récord. Es el único hombre en la historia del tenis en ser el campeón reinante de los cuatro majors a la vez en tres superficies diferentes. También ha ganado 40 Masters, siete campeonatos de fin de año y una medalla de oro olímpica.\n",
       "\n",
       "El artículo cubre su vida temprana, carrera, rivalidades, estilo de juego, equipo y actividades fuera de la cancha, como su trabajo filantrópico a través de la Fundación Novak Djokovic y su nombramiento como Embajador de Buena Voluntad de UNICEF. También aborda sus puntos de vista sobre la dieta, la medicina y la ciencia, así como su oposición al mandato de la vacuna COVID-19. Además, el artículo destaca sus logros, estadísticas de carrera y su legado en el tenis."
      ],
      "text/plain": [
       "<IPython.core.display.Markdown object>"
      ]
     },
     "metadata": {},
     "output_type": "display_data"
    }
   ],
   "source": [
    "display_summary(novak_url)"
   ]
  },
  {
   "cell_type": "markdown",
   "id": "5b9b30e0",
   "metadata": {},
   "source": [
    "**¿Qué hemos conseguido?**\n",
    "\n",
    "La capa gratuita de la API de Google Gemini no tiene acceso a Internet, y si le pedidos que nos resuma una página de Wikipedia, no puede hacerlo. Sin embargo, si le pasamos el texto de la página, puede resumirlo. En este caso, hemos hecho `scrapping` de la página y le hemos pasado el texto a la API. La API ha sido capaz de resumirlo y devolverlo en formato Markdown."
   ]
  },
  {
   "cell_type": "markdown",
   "id": "a712550f",
   "metadata": {},
   "source": [
    "Podemos mejorar la clase Website para que incorpore información de los `links`que tenga la página que queremos resumir:"
   ]
  },
  {
   "cell_type": "code",
   "execution_count": 11,
   "id": "7ddb8e94",
   "metadata": {},
   "outputs": [],
   "source": [
    "# Some websites need you to use proper headers when fetching them:\n",
    "headers = {\n",
    " \"User-Agent\": \"Mozilla/5.0 (Windows NT 10.0; Win64; x64) AppleWebKit/537.36 (KHTML, like Gecko) Chrome/117.0.0.0 Safari/537.36\"\n",
    "}\n",
    "\n",
    "class Website:\n",
    "    \"\"\"\n",
    "    A utility class to represent a Website that we have scraped, now with links\n",
    "    \"\"\"\n",
    "\n",
    "    def __init__(self, url):\n",
    "        self.url = url\n",
    "        response = requests.get(url, headers=headers)\n",
    "        self.body = response.content\n",
    "        soup = BeautifulSoup(self.body, 'html.parser')\n",
    "        self.title = soup.title.string if soup.title else \"No title found\"\n",
    "        if soup.body:\n",
    "            for irrelevant in soup.body([\"script\", \"style\", \"img\", \"input\"]):\n",
    "                irrelevant.decompose()\n",
    "            self.text = soup.body.get_text(separator=\"\\n\", strip=True)\n",
    "        else:\n",
    "            self.text = \"\"\n",
    "        links = [link.get('href') for link in soup.find_all('a')]\n",
    "        self.links = [link for link in links if link]\n",
    "\n",
    "    def get_contents(self):\n",
    "        return f\"Webpage Title:\\n{self.title}\\nWebpage Contents:\\n{self.text}\\n\\n\""
   ]
  },
  {
   "cell_type": "markdown",
   "id": "4a8d8093",
   "metadata": {},
   "source": [
    "Vemos que hay muchos `links` que no son relevantes porque no tienen que ver con el instituto."
   ]
  },
  {
   "cell_type": "code",
   "execution_count": 12,
   "id": "fc656adc",
   "metadata": {},
   "outputs": [
    {
     "data": {
      "text/plain": [
       "['#ht-content',\n",
       " 'https://site.educa.madrid.org/ies.mariadezayas.majadahonda/',\n",
       " '#',\n",
       " 'https://site.educa.madrid.org/ies.mariadezayas.majadahonda/',\n",
       " 'https://site.educa.madrid.org/ies.mariadezayas.majadahonda/index.php/el-centro/quienes-somos/',\n",
       " 'https://site.educa.madrid.org/ies.mariadezayas.majadahonda/index.php/el-centro/quienes-somos/',\n",
       " 'https://site.educa.madrid.org/ies.mariadezayas.majadahonda/index.php/informacion-centro/',\n",
       " 'https://site.educa.madrid.org/ies.mariadezayas.majadahonda/index.php/oferta/',\n",
       " 'https://site.educa.madrid.org/ies.mariadezayas.majadahonda/index.php/oferta/curso-de-especializacion-en-panaderia-y-bolleria-artesanales/',\n",
       " 'https://site.educa.madrid.org/ies.mariadezayas.majadahonda/index.php/oferta/fp-grado-superior/']"
      ]
     },
     "execution_count": 12,
     "metadata": {},
     "output_type": "execute_result"
    }
   ],
   "source": [
    "url_zayas = \"https://site.educa.madrid.org/ies.mariadezayas.majadahonda/\"\n",
    "web_zayas = Website(url_zayas)\n",
    "web_zayas.links[:10]"
   ]
  },
  {
   "cell_type": "markdown",
   "id": "7b36230c",
   "metadata": {},
   "source": [
    "Preparamos un `prompt` para que el modelo ignore los `links` irrelevantes. Utilizamos la técnica \"one shot prompting\" para instruir al modelo con un ejemplo. En este caso le decimos la estructura del JSON que queremos que genere."
   ]
  },
  {
   "cell_type": "code",
   "execution_count": 13,
   "id": "4f3087cf",
   "metadata": {},
   "outputs": [],
   "source": [
    "link_system_prompt = \"Se te proporciona una lista de enlaces encontrados en una página web. \\\n",
    "Eres capaz de decidir cuáles de los enlaces son más relevantes para incluir en un folleto sobre la empresa, \\\n",
    "como enlaces a una página Acerca de, o una página de la Empresa, o páginas de Carreras/Empleos.\\n\"\n",
    "link_system_prompt += \"Debes responder en JSON como en este ejemplo:\"\n",
    "link_system_prompt += \"\"\"\n",
    "{\n",
    "    \"links\": [\n",
    "        {\"type\": \"página acerca de\", \"url\": \"https://url.completa/aquí/acerca\"},\n",
    "        {\"type\": \"página de carreras\", \"url\": \"https://otra.url.completa/carreras\"}\n",
    "    ]\n",
    "}\n",
    "\"\"\""
   ]
  },
  {
   "cell_type": "markdown",
   "id": "52534775",
   "metadata": {},
   "source": [
    "Creamos el `prompt` de `user` para que el modelo genere el JSON:"
   ]
  },
  {
   "cell_type": "code",
   "execution_count": 14,
   "id": "2aa1cd54",
   "metadata": {},
   "outputs": [],
   "source": [
    "def get_links_user_prompt(website):\n",
    "    user_prompt = f\"Aquí tienes la lista de enlaces del sitio web de {website.url} - \"\n",
    "    user_prompt += \"por favor, decide cuáles de estos son enlaces web relevantes para un folleto sobre la empresa, responde con la URL completa en formato JSON. \\\n",
    "                    No incluyas Términos de Servicio, Privacidad ni enlaces de correo electrónico. \\\n",
    "                    ni de fuera del sitio web \\n\"\n",
    "    user_prompt += \"Enlaces (algunos pueden ser enlaces relativos):\\n\"\n",
    "    user_prompt += \"\\n\".join(website.links)\n",
    "    return user_prompt\n"
   ]
  },
  {
   "cell_type": "markdown",
   "id": "c328a49e",
   "metadata": {},
   "source": [
    "Usamos la IA para que decida los `links` más relevantes y los muestre en formato JSON:"
   ]
  },
  {
   "cell_type": "code",
   "execution_count": 15,
   "id": "85f30950",
   "metadata": {},
   "outputs": [],
   "source": [
    "import json\n",
    "\n",
    "def get_links(url):\n",
    "    website = Website(url)\n",
    "    response = openai.chat.completions.create(\n",
    "        model=MODEL,\n",
    "        messages=[\n",
    "            {\"role\": \"system\", \"content\": link_system_prompt},\n",
    "            {\"role\": \"user\", \"content\": get_links_user_prompt(website)}\n",
    "      ],\n",
    "        response_format={\"type\": \"json_object\"}\n",
    "    )\n",
    "    result = response.choices[0].message.content\n",
    "    return json.loads(result)"
   ]
  },
  {
   "cell_type": "code",
   "execution_count": 16,
   "id": "ac75ddba",
   "metadata": {},
   "outputs": [
    {
     "data": {
      "text/plain": [
       "{'links': [{'type': 'página acerca de',\n",
       "   'url': 'https://site.educa.madrid.org/ies.mariadezayas.majadahonda/index.php/el-centro/quienes-somos/'},\n",
       "  {'type': 'información del centro',\n",
       "   'url': 'https://site.educa.madrid.org/ies.mariadezayas.majadahonda/index.php/informacion-centro/'},\n",
       "  {'type': 'oferta formativa',\n",
       "   'url': 'https://site.educa.madrid.org/ies.mariadezayas.majadahonda/index.php/oferta/'},\n",
       "  {'type': 'donde encontrarnos',\n",
       "   'url': 'https://site.educa.madrid.org/ies.mariadezayas.majadahonda/index.php/el-centro/donde-encontrarnos/'},\n",
       "  {'type': 'contacto',\n",
       "   'url': 'https://site.educa.madrid.org/ies.mariadezayas.majadahonda/index.php/el-centro/contacto/'},\n",
       "  {'type': 'documentos del centro',\n",
       "   'url': 'https://site.educa.madrid.org/ies.mariadezayas.majadahonda/index.php/el-centro/documentos-del-centro/'},\n",
       "  {'type': 'profesorado',\n",
       "   'url': 'https://site.educa.madrid.org/ies.mariadezayas.majadahonda/index.php/el-centro/profesorado/'},\n",
       "  {'type': 'aula de emprendimiento',\n",
       "   'url': 'https://site.educa.madrid.org/ies.mariadezayas.majadahonda/index.php/el-centro/aula-de-emprendimiento/'},\n",
       "  {'type': 'proyecto biodigestor',\n",
       "   'url': 'https://site.educa.madrid.org/ies.mariadezayas.majadahonda/index.php/proyecto-biodigestor-del-zayas/'},\n",
       "  {'type': 'aula de gestión turística',\n",
       "   'url': 'https://site.educa.madrid.org/ies.mariadezayas.majadahonda/index.php/el-centro/aula-de-gestion-turistica/'},\n",
       "  {'type': 'restaurantes zayas y tienda',\n",
       "   'url': 'https://site.educa.madrid.org/ies.mariadezayas.majadahonda/index.php/el-centro/restaurantes-zayas-y-tienda/'},\n",
       "  {'type': 'secretaría',\n",
       "   'url': 'https://site.educa.madrid.org/ies.mariadezayas.majadahonda/index.php/secretaria/'},\n",
       "  {'type': 'horarios secretaría',\n",
       "   'url': 'https://site.educa.madrid.org/ies.mariadezayas.majadahonda/index.php/secretaria/horarios-secretaria/'},\n",
       "  {'type': 'matriculaciones',\n",
       "   'url': 'https://site.educa.madrid.org/ies.mariadezayas.majadahonda/index.php/matriculaciones/'},\n",
       "  {'type': 'modelos de solicitudes',\n",
       "   'url': 'https://site.educa.madrid.org/ies.mariadezayas.majadahonda/index.php/secretaria/modelos-de-solicitudes/'},\n",
       "  {'type': 'FAQ secretaría',\n",
       "   'url': 'https://site.educa.madrid.org/ies.mariadezayas.majadahonda/index.php/secretaria/faq/'},\n",
       "  {'type': 'alumnado',\n",
       "   'url': 'https://site.educa.madrid.org/ies.mariadezayas.majadahonda/index.php/alumnado/'},\n",
       "  {'type': 'calendario escolar',\n",
       "   'url': 'https://site.educa.madrid.org/ies.mariadezayas.majadahonda/index.php/alumnado/calendario-escolar/'},\n",
       "  {'type': 'calendario pruebas',\n",
       "   'url': 'https://site.educa.madrid.org/ies.mariadezayas.majadahonda/index.php/alumnado/calendario-pruebas/'},\n",
       "  {'type': 'horarios de aulas',\n",
       "   'url': 'https://site.educa.madrid.org/ies.mariadezayas.majadahonda/index.php/alumnado/horarios-de-aulas/'},\n",
       "  {'type': 'mentor fp',\n",
       "   'url': 'https://site.educa.madrid.org/ies.mariadezayas.majadahonda/index.php/alumnado/mentor-fp/'},\n",
       "  {'type': 'aula de emprendimiento',\n",
       "   'url': 'https://site.educa.madrid.org/ies.mariadezayas.majadahonda/index.php/el-centro/aula-de-emprendimiento/'},\n",
       "  {'type': 'uniforme y utillaje',\n",
       "   'url': 'https://site.educa.madrid.org/ies.mariadezayas.majadahonda/index.php/alumnado/uniforme-y-utillaje/'},\n",
       "  {'type': 'bolsa de empleo',\n",
       "   'url': 'https://site.educa.madrid.org/ies.mariadezayas.majadahonda/index.php/alumnado/bolsa-de-empleo/'},\n",
       "  {'type': 'erasmus',\n",
       "   'url': 'https://site.educa.madrid.org/ies.mariadezayas.majadahonda/index.php/erasmus/'},\n",
       "  {'type': 'fpdual',\n",
       "   'url': 'https://site.educa.madrid.org/ies.mariadezayas.majadahonda/index.php/fpdual/'},\n",
       "  {'type': 'reservas aula restaurante zayas',\n",
       "   'url': 'https://site.educa.madrid.org/ies.mariadezayas.majadahonda/index.php/reservas-aula-restaurante-zayas/'},\n",
       "  {'type': 'mentor fp',\n",
       "   'url': 'https://site.educa.madrid.org/ies.mariadezayas.majadahonda/index.php/mentor-fp/'}]}"
      ]
     },
     "execution_count": 16,
     "metadata": {},
     "output_type": "execute_result"
    }
   ],
   "source": [
    "get_links(url_zayas)"
   ]
  },
  {
   "cell_type": "markdown",
   "id": "40861ab0",
   "metadata": {},
   "source": [
    "Creamos una función que añada los `links` al texto de la página:"
   ]
  },
  {
   "cell_type": "code",
   "execution_count": 17,
   "id": "98633b4d",
   "metadata": {},
   "outputs": [],
   "source": [
    "def get_all_details(url):\n",
    "    result = \"Landing page:\\n\"\n",
    "    result += Website(url).get_contents()\n",
    "    links = get_links(url)\n",
    "    print(\"Found links:\", links)\n",
    "    for link in links[\"links\"]:\n",
    "        result += f\"\\n\\n{link['type']}\\n\"\n",
    "        result += Website(link[\"url\"]).get_contents()\n",
    "    return result"
   ]
  },
  {
   "cell_type": "markdown",
   "id": "4f8d8f37",
   "metadata": {},
   "source": [
    "Preparamos el `prompt` de `user` para que le pida a la IA que prepare un folleto con la información que reciba:"
   ]
  },
  {
   "cell_type": "code",
   "execution_count": 18,
   "id": "7eb132df",
   "metadata": {},
   "outputs": [],
   "source": [
    "system_prompt = (\n",
    "    \"Eres un asistente que analiza el contenido de varias páginas relevantes de un sitio web de una empresa \"\n",
    "    \"y crea un folleto corto, humorístico, entretenido y con chistes sobre la compañía para futuros clientes, \"\n",
    "    \"inversores e interesados. Responde en markdown.\\n\\n\"\n",
    "    \"Incluye detalles de la cultura de la empresa, los clientes y las carreras/empleos si tienes la información.\"\n",
    ")\n",
    "\n",
    "def get_brochure_user_prompt(company_name, url):\n",
    "    user_prompt = f\"Estás viendo una empresa llamada: {company_name}\\n\"\n",
    "    user_prompt += \"Aquí tienes el contenido de su página principal y otras páginas relevantes.\\\n",
    "                    usa esta información para crear un folleto breve de la empresa en markdown.\\n\"\n",
    "    user_prompt += get_all_details(url)\n",
    "    user_prompt = user_prompt[:5_000]  # Truncate if more than 5,000 characters\n",
    "    return user_prompt"
   ]
  },
  {
   "cell_type": "markdown",
   "id": "505b9454",
   "metadata": {},
   "source": [
    "Creamos la función que llama a la API para crear el folleto y la probamos:"
   ]
  },
  {
   "cell_type": "code",
   "execution_count": 19,
   "id": "7addd2cb",
   "metadata": {},
   "outputs": [],
   "source": [
    "def create_brochure(company_name, url):\n",
    "    response = openai.chat.completions.create(\n",
    "        model=MODEL,\n",
    "        messages=[\n",
    "            {\"role\": \"system\", \"content\": system_prompt},\n",
    "            {\"role\": \"user\", \"content\": get_brochure_user_prompt(company_name, url)}\n",
    "          ],\n",
    "    )\n",
    "    result = response.choices[0].message.content\n",
    "    display(Markdown(result))"
   ]
  },
  {
   "cell_type": "code",
   "execution_count": 20,
   "id": "13d2dbbf",
   "metadata": {},
   "outputs": [
    {
     "name": "stdout",
     "output_type": "stream",
     "text": [
      "Found links: {'links': [{'type': 'página acerca de', 'url': 'https://site.educa.madrid.org/ies.mariadezayas.majadahonda/index.php/el-centro/quienes-somos/'}, {'type': 'información del centro', 'url': 'https://site.educa.madrid.org/ies.mariadezayas.majadahonda/index.php/informacion-centro/'}, {'type': 'oferta formativa', 'url': 'https://site.educa.madrid.org/ies.mariadezayas.majadahonda/index.php/oferta/'}, {'type': 'órganos de gestión', 'url': 'https://site.educa.madrid.org/ies.mariadezayas.majadahonda/index.php/el-centro/organos-de-gestion/'}, {'type': 'dónde encontrarnos', 'url': 'https://site.educa.madrid.org/ies.mariadezayas.majadahonda/index.php/el-centro/donde-encontrarnos/'}, {'type': 'contacto', 'url': 'https://site.educa.madrid.org/ies.mariadezayas.majadahonda/index.php/el-centro/contacto/'}, {'type': 'documentos del centro', 'url': 'https://site.educa.madrid.org/ies.mariadezayas.majadahonda/index.php/el-centro/documentos-del-centro/'}, {'type': 'profesorado', 'url': 'https://site.educa.madrid.org/ies.mariadezayas.majadahonda/index.php/el-centro/profesorado/'}, {'type': 'aula de emprendimiento', 'url': 'https://site.educa.madrid.org/ies.mariadezayas.majadahonda/index.php/el-centro/aula-de-emprendimiento/'}, {'type': 'proyecto biodigestor', 'url': 'https://site.educa.madrid.org/ies.mariadezayas.majadahonda/index.php/proyecto-biodigestor-del-zayas/'}, {'type': 'aula de gestion turística', 'url': 'https://site.educa.madrid.org/ies.mariadezayas.majadahonda/index.php/el-centro/aula-de-gestion-turistica/'}, {'type': 'restaurantes y tienda', 'url': 'https://site.educa.madrid.org/ies.mariadezayas.majadahonda/index.php/el-centro/restaurantes-zayas-y-tienda/'}, {'type': 'secretaría', 'url': 'https://site.educa.madrid.org/ies.mariadezayas.majadahonda/index.php/secretaria/'}, {'type': 'horarios secretaría', 'url': 'https://site.educa.madrid.org/ies.mariadezayas.majadahonda/index.php/secretaria/horarios-secretaria/'}, {'type': 'matriculaciones', 'url': 'https://site.educa.madrid.org/ies.mariadezayas.majadahonda/index.php/matriculaciones/'}, {'type': 'modelos de solicitudes', 'url': 'https://site.educa.madrid.org/ies.mariadezayas.majadahonda/index.php/secretaria/modelos-de-solicitudes/'}, {'type': 'FAQ', 'url': 'https://site.educa.madrid.org/ies.mariadezayas.majadahonda/index.php/secretaria/faq/'}, {'type': 'alumnado', 'url': 'https://site.educa.madrid.org/ies.mariadezayas.majadahonda/index.php/alumnado/'}, {'type': 'Bolsa de empleo', 'url': 'https://site.educa.madrid.org/ies.mariadezayas.majadahonda/index.php/alumnado/bolsa-de-empleo/'}]}\n"
     ]
    },
    {
     "data": {
      "text/markdown": [
       "¡Claro! Aquí tienes un borrador de un folleto humorístico sobre el IES María de Zayas y Sotomayor:\n",
       "\n",
       "# ¿Buscas una educación que te haga decir \"¡Zas!\"? ¡Ven al IES María de Zayas y Sotomayor!\n",
       "\n",
       "**(Porque \"Sotomayor\" es un nombre muy largo para un título)**\n",
       "\n",
       "¿Estás cansado de los institutos aburridos? ¿Sueñas con un lugar donde puedas aprender a hacer la mejor bollería *y* diseñar la próxima gran app? ¡No busques más! El IES María de Zayas y Sotomayor es el centro de Formación Profesional que te hará decir: \"¡Esto sí que es una educación con sabor!\"\n",
       "\n",
       "## ¿Qué nos hace tan especiales?\n",
       "\n",
       "*   **¡Tenemos más departamentos que un centro comercial!** Desde Hostelería y Turismo hasta Informática y Comunicaciones, pasando por Administración, Comercio y Servicios Socioculturales. ¡Aquí encontrarás tu vocación, o al menos, una buena excusa para no decidirte!\n",
       "*   **¿Aula de emprendimiento? ¡La tenemos!** ¿Proyecto Biodigestor del Zayas? ¡También! ¿Restaurante y Tienda? ¡Por supuesto! Aquí no solo aprendes, ¡creamos un ecosistema de aprendizaje total! (Sí, ¡hasta tenemos un ecosistema!)\n",
       "*   **Nuestra oferta formativa es tan variada que podrías abrir un negocio de \"¿Qué quieres estudiar hoy?\"**. Desde Marketing y Publicidad hasta Desarrollo de Aplicaciones Multiplataforma, ¡tenemos el ciclo formativo perfecto para ti! (Y si no lo tenemos, ¡lo inventamos!)\n",
       "*   **¿Te preocupa el futuro laboral?** ¡No te preocupes! Tenemos bolsa de empleo, participamos en Erasmus+ y hasta FPDual. ¡Te daremos tantas oportunidades que tendrás que hacer malabares para gestionarlas!\n",
       "\n",
       "## ¿Y la cultura de la empresa?\n",
       "\n",
       "*   **Somos más que un instituto, ¡somos una familia!** (Una familia disfuncional, pero familia al fin y al cabo).\n",
       "*   **Nos encanta innovar**. ¿Un biodigestor? ¿Un aula de gestión turística? ¡Nos apuntamos a todo! (Siempre que no implique madrugar demasiado).\n",
       "*   **No nos tomamos demasiado en serio**. ¿Has visto nuestro nombre? ¡María de Zayas y *Sotomayor*! ¡Si eso no es una declaración de intenciones, no sé qué lo es!\n",
       "\n",
       "## ¿A quién va dirigido este folleto?\n",
       "\n",
       "*   **Futuros estudiantes**: Si quieres una FP que te prepare para el mundo real (y te haga reír por el camino), ¡este es tu sitio!\n",
       "*   **Inversores**: Apuesta por nosotros, ¡somos el futuro de la FP! (Y tenemos un restaurante, ¡así que las reuniones serán deliciosas!).\n",
       "*   **Interesados**: ¿Curioso? ¡Ven a vernos! (Pero no vengas con hambre, que el restaurante es solo para estudiantes).\n",
       "\n",
       "## Oferta de Empleo\n",
       "\n",
       "¡Únete a nuestro equipo! Buscamos profesores apasionados, personal de administración eficiente y, sobre todo, gente con sentido del humor. (Si sabes hacer café, ¡aún mejor!)\n",
       "\n",
       "## En resumen:\n",
       "\n",
       "El IES María de Zayas y Sotomayor es el centro de Formación Profesional donde aprenderás, te divertirás y, quién sabe, ¡quizás hasta cambies el mundo!\n",
       "\n",
       "**¡No lo pienses más, ven a conocernos!** (Y trae un bocadillo, por si acaso).\n",
       "\n",
       "¡Te esperamos! (Con los brazos abiertos y una sonrisa... y quizás una prueba sorpresa).\n"
      ],
      "text/plain": [
       "<IPython.core.display.Markdown object>"
      ]
     },
     "metadata": {},
     "output_type": "display_data"
    }
   ],
   "source": [
    "create_brochure(\"IES María de Zayas y Sotomayor\", url_zayas)"
   ]
  },
  {
   "cell_type": "markdown",
   "id": "d4bbca87",
   "metadata": {},
   "source": [
    "Podemos generar la salida en tiempo real con el parámetro `stream = True`:"
   ]
  },
  {
   "cell_type": "code",
   "execution_count": 21,
   "id": "59d90cff",
   "metadata": {},
   "outputs": [],
   "source": [
    "def stream_brochure(company_name, url):\n",
    "    stream = openai.chat.completions.create(\n",
    "        model=MODEL,\n",
    "        messages=[\n",
    "            {\"role\": \"system\", \"content\": system_prompt},\n",
    "            {\"role\": \"user\", \"content\": get_brochure_user_prompt(company_name, url)}\n",
    "          ],\n",
    "        stream=True\n",
    "    )\n",
    "    \n",
    "    response = \"\"\n",
    "    display_handle = display(Markdown(\"\"), display_id=True)\n",
    "    for chunk in stream:\n",
    "        response += chunk.choices[0].delta.content or ''\n",
    "        response = response.replace(\"```\",\"\").replace(\"markdown\", \"\")\n",
    "        update_display(Markdown(response), display_id=display_handle.display_id)"
   ]
  },
  {
   "cell_type": "code",
   "execution_count": 22,
   "id": "5f7b821c",
   "metadata": {},
   "outputs": [
    {
     "name": "stdout",
     "output_type": "stream",
     "text": [
      "Found links: {'links': [{'type': 'página acerca de', 'url': 'https://site.educa.madrid.org/ies.mariadezayas.majadahonda/index.php/el-centro/quienes-somos/'}, {'type': 'información del centro', 'url': 'https://site.educa.madrid.org/ies.mariadezayas.majadahonda/index.php/informacion-centro/'}, {'type': 'oferta formativa', 'url': 'https://site.educa.madrid.org/ies.mariadezayas.majadahonda/index.php/oferta/'}, {'type': 'órganos de gestión', 'url': 'https://site.educa.madrid.org/ies.mariadezayas.majadahonda/index.php/el-centro/organos-de-gestion/'}, {'type': 'dónde encontrarnos', 'url': 'https://site.educa.madrid.org/ies.mariadezayas.majadahonda/index.php/el-centro/donde-encontrarnos/'}, {'type': 'contacto', 'url': 'https://site.educa.madrid.org/ies.mariadezayas.majadahonda/index.php/el-centro/contacto/'}, {'type': 'documentos del centro', 'url': 'https://site.educa.madrid.org/ies.mariadezayas.majadahonda/index.php/el-centro/documentos-del-centro/'}, {'type': 'profesorado', 'url': 'https://site.educa.madrid.org/ies.mariadezayas.majadahonda/index.php/el-centro/profesorado/'}, {'type': 'aula de emprendimiento', 'url': 'https://site.educa.madrid.org/ies.mariadezayas.majadahonda/index.php/el-centro/aula-de-emprendimiento/'}, {'type': 'aula de gestión turística', 'url': 'https://site.educa.madrid.org/ies.mariadezayas.majadahonda/index.php/el-centro/aula-de-gestion-turistica/'}, {'type': 'restaurantes zayas y tienda', 'url': 'https://site.educa.madrid.org/ies.mariadezayas.majadahonda/index.php/el-centro/restaurantes-zayas-y-tienda/'}, {'type': 'secretaría', 'url': 'https://site.educa.madrid.org/ies.mariadezayas.majadahonda/index.php/secretaria/'}, {'type': 'horarios secretaría', 'url': 'https://site.educa.madrid.org/ies.mariadezayas.majadahonda/index.php/secretaria/horarios-secretaria/'}, {'type': 'matriculaciones', 'url': 'https://site.educa.madrid.org/ies.mariadezayas.majadahonda/index.php/matriculaciones/'}, {'type': 'modelos de solicitudes', 'url': 'https://site.educa.madrid.org/ies.mariadezayas.majadahonda/index.php/secretaria/modelos-de-solicitudes/'}, {'type': 'FAQ secretaría', 'url': 'https://site.educa.madrid.org/ies.mariadezayas.majadahonda/index.php/secretaria/faq/'}, {'type': 'alumnado', 'url': 'https://site.educa.madrid.org/ies.mariadezayas.majadahonda/index.php/alumnado/'}, {'type': 'novedades', 'url': 'https://site.educa.madrid.org/ies.mariadezayas.majadahonda/index.php/category/novedades/'}, {'type': 'calendario escolar', 'url': 'https://site.educa.madrid.org/ies.mariadezayas.majadahonda/index.php/alumnado/calendario-escolar/'}, {'type': 'calendario pruebas', 'url': 'https://site.educa.madrid.org/ies.mariadezayas.majadahonda/index.php/alumnado/calendario-pruebas/'}, {'type': 'horarios de aulas', 'url': 'https://site.educa.madrid.org/ies.mariadezayas.majadahonda/index.php/alumnado/horarios-de-aulas/'}, {'type': 'mentor FP', 'url': 'https://site.educa.madrid.org/ies.mariadezayas.majadahonda/index.php/alumnado/mentor-fp/'}, {'type': 'uniforme y utillaje', 'url': 'https://site.educa.madrid.org/ies.mariadezayas.majadahonda/index.php/alumnado/uniforme-y-utillaje/'}, {'type': 'bolsa de empleo', 'url': 'https://site.educa.madrid.org/ies.mariadezayas.majadahonda/index.php/alumnado/bolsa-de-empleo/'}, {'type': 'Erasmus', 'url': 'https://site.educa.madrid.org/ies.mariadezayas.majadahonda/index.php/erasmus/'}, {'type': 'FP dual', 'url': 'https://site.educa.madrid.org/ies.mariadezayas.majadahonda/index.php/fpdual/'}]}\n"
     ]
    },
    {
     "data": {
      "text/markdown": [
       "¡Absolutamente! Aquí tienes un folleto diseñado para ser informativo y divertido sobre el IES María de Zayas y Sotomayor:\n",
       "\n",
       "# ¡IES María de Zayas y Sotomayor: Donde el Futuro se Aprende... y Se Come Bien!\n",
       "\n",
       "## ¿Quiénes Somos?\n",
       "\n",
       "Somos el IES María de Zayas y Sotomayor, un centro público de Formación Profesional donde convertimos sueños en habilidades... ¡y habilidades en empleos! Con una oferta formativa tan amplia que te hará decir \"¿En serio puedo estudiar eso?\", somos el lugar ideal para empezar tu carrera.\n",
       "\n",
       "## ¿Qué Ofrecemos?\n",
       "\n",
       "Desde Marketing y Publicidad hasta Desarrollo de Aplicaciones Multiplataforma y Web, pasando por Hostelería y Turismo, ¡lo tenemos todo! ¿Te imaginas creando la próxima app viral mientras degustas un croissant recién horneado? ¡Aquí es posible!\n",
       "\n",
       "*   **FP Grado Superior, Medio y Básico:** Para todos los gustos y niveles.\n",
       "*   **Cursos de Especialización:** ¿Quieres ser el rey/reina de la panadería y bollería? ¡Tenemos el curso para ti!\n",
       "*   **Aula de Emprendimiento:** ¿Tienes una idea millonaria? Te ayudamos a hacerla realidad.\n",
       "*   **Restaurante y Tienda:** ¡Donde los estudiantes demuestran su talento y tú disfrutas de los resultados!\n",
       "\n",
       "## Nuestra Cultura\n",
       "\n",
       "En el IES María de Zayas y Sotomayor, creemos en:\n",
       "\n",
       "*   **Aprender Haciendo:** Manos a la obra desde el primer día.\n",
       "*   **Innovación Constante:** Siempre estamos a la última en tecnología y tendencias.\n",
       "*   **Comunidad:** Somos una gran familia donde todos se apoyan.\n",
       "*   **¡Comida Rica!:** No podemos negarlo, ¡nuestros estudiantes de Hostelería nos consienten mucho!\n",
       "\n",
       "## ¿Por Qué Elegirnos?\n",
       "\n",
       "*   **Instalaciones de Vanguardia:** Aulas especializadas, laboratorios de última generación y hasta un biodigestor (¡sí, has leído bien!).\n",
       "*   **Profesores Apasionados:** Expertos en sus áreas que te guiarán en cada paso del camino.\n",
       "*   **Bolsa de Empleo:** Te conectamos con las mejores empresas del sector.\n",
       "*   **Erasmus+:** ¡Aprende y vive experiencias inolvidables en el extranjero!\n",
       "*   **FPDual:** Aprende trabajando en empresas líderes.\n",
       "\n",
       "## Novedades\n",
       "\n",
       "*   **Jornada de Puertas Abiertas:** ¡Ven a conocernos el 25 de Junio a las 12:00! Inscríbete en nuestro enlace.\n",
       "\n",
       "## ¡Únete a la Familia Zayas!\n",
       "\n",
       "Si buscas una formación práctica, innovadora y con sabor, ¡el IES María de Zayas y Sotomayor es tu lugar!\n",
       "\n",
       "**Visítanos en:** [Dirección del IES]\n",
       "\n",
       "**Contáctanos:** [Teléfono] / [Correo Electrónico]\n",
       "\n",
       "**Síguenos en Redes Sociales:** [Enlaces a Redes Sociales]\n",
       "\n",
       "*IES María de Zayas y Sotomayor: Formando profesionales con talento... ¡y mucho sentido del humor!*\n"
      ],
      "text/plain": [
       "<IPython.core.display.Markdown object>"
      ]
     },
     "metadata": {},
     "output_type": "display_data"
    }
   ],
   "source": [
    "stream_brochure(\"IES María de Zayas y Sotomayor\", url_zayas)"
   ]
  }
 ],
 "metadata": {
  "kernelspec": {
   "display_name": ".venv",
   "language": "python",
   "name": "python3"
  },
  "language_info": {
   "codemirror_mode": {
    "name": "ipython",
    "version": 3
   },
   "file_extension": ".py",
   "mimetype": "text/x-python",
   "name": "python",
   "nbconvert_exporter": "python",
   "pygments_lexer": "ipython3",
   "version": "3.13.3"
  }
 },
 "nbformat": 4,
 "nbformat_minor": 5
}
