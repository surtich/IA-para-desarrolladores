{
 "cells": [
  {
   "cell_type": "markdown",
   "id": "9b6a710d",
   "metadata": {},
   "source": [
    "# Sidekick\n",
    "\n",
    "Vamos a crear un proyecto completo con LangGraph que use Multi-Agents."
   ]
  },
  {
   "cell_type": "code",
   "execution_count": 1,
   "id": "fc0084f6",
   "metadata": {},
   "outputs": [
    {
     "name": "stderr",
     "output_type": "stream",
     "text": [
      "/home/surtich/projects/IA para desarrolladores/.venv/lib/python3.13/site-packages/tqdm/auto.py:21: TqdmWarning: IProgress not found. Please update jupyter and ipywidgets. See https://ipywidgets.readthedocs.io/en/stable/user_install.html\n",
      "  from .autonotebook import tqdm as notebook_tqdm\n"
     ]
    }
   ],
   "source": [
    "from typing import Annotated\n",
    "from typing_extensions import TypedDict\n",
    "from langgraph.graph import StateGraph, START\n",
    "from langgraph.graph.message import add_messages\n",
    "from dotenv import load_dotenv\n",
    "from IPython.display import Image, display\n",
    "import gradio as gr\n",
    "from typing_extensions import TypedDict\n",
    "from langgraph.graph import StateGraph\n",
    "from langgraph.graph.message import add_messages\n",
    "from langgraph.prebuilt import ToolNode, tools_condition\n",
    "import requests\n",
    "import os\n",
    "from langchain.agents import Tool\n",
    "\n",
    "from langchain_google_genai import ChatGoogleGenerativeAI\n",
    "from langgraph.checkpoint.memory import MemorySaver"
   ]
  },
  {
   "cell_type": "code",
   "execution_count": 2,
   "id": "165311b2",
   "metadata": {},
   "outputs": [
    {
     "data": {
      "text/plain": [
       "True"
      ]
     },
     "execution_count": 2,
     "metadata": {},
     "output_type": "execute_result"
    }
   ],
   "source": [
    "load_dotenv(override=True)"
   ]
  },
  {
   "cell_type": "markdown",
   "id": "5151f4d9",
   "metadata": {},
   "source": [
    "### Asynchronous LangGraph\n",
    "\n",
    "LangGraph puede funcionar en modo síncrono o asíncrono. Lo usaremos más adelante.\n",
    "\n",
    "To run a tool:  \n",
    "Sync: `tool.run(inputs)`  \n",
    "Async: `await tool.arun(inputs)`\n",
    "\n",
    "To invoke the graph:  \n",
    "Sync: `graph.invoke(state)`  \n",
    "Async: `await graph.ainvoke(state)`"
   ]
  },
  {
   "cell_type": "code",
   "execution_count": 3,
   "id": "9fefc88c",
   "metadata": {},
   "outputs": [],
   "source": [
    "class State(TypedDict):\n",
    "    \n",
    "    messages: Annotated[list, add_messages]\n",
    "\n",
    "\n",
    "graph_builder = StateGraph(State)"
   ]
  },
  {
   "cell_type": "code",
   "execution_count": 4,
   "id": "900f0d18",
   "metadata": {},
   "outputs": [],
   "source": [
    "from typing import Dict\n",
    "import requests \n",
    "\n",
    "def send_email(subject: str, html_body: str, to: str, name: str = None) -> Dict[str, str]:\n",
    "    \"\"\"Enviar un correo electrónico\"\"\"\n",
    "    from_email = os.getenv('MAILGUN_FROM')\n",
    "    to_email = f\"{name} <{to}>\" if name else to\n",
    "    content = html_body\n",
    "\n",
    "    requests.post(\n",
    "  \t\tf\"https://api.mailgun.net/v3/{os.getenv('MAILGUN_SANDBOX')}/messages\",\n",
    "  \t\tauth=(\"api\", os.getenv('MAILGUN_API_KEY')),\n",
    "  \t\tdata={\"from\": from_email,\n",
    "\t\t\t\"to\": to_email,\n",
    "  \t\t\t\"subject\": subject,\n",
    "  \t\t\t\"html\": content})\n",
    "\n",
    "    return {\"status\": \"éxito\"}\n",
    "\n",
    "import os\n",
    "from langchain_community.tools import StructuredTool\n",
    "\n",
    "tool_send_email = StructuredTool.from_function(send_email, description=\"Útil para enviar correos electrónicos\", name=\"send_email\")\n",
    "\n",
    "\n"
   ]
  },
  {
   "cell_type": "markdown",
   "id": "071665f7",
   "metadata": {},
   "source": [
    "El proyecto requiere Playwright instalado. Playwright es una herramienta que permite interactuar con navegadores web de manera programática, lo cual es útil para pruebas automatizadas y scraping.\n",
    "\n",
    "On Windows and MacOS:  \n",
    "`playwright install`\n",
    "\n",
    "On Linux:  \n",
    "`playwright install --with-Deps chromium`"
   ]
  },
  {
   "cell_type": "markdown",
   "id": "1d15d083",
   "metadata": {},
   "source": [
    "El código asíncrono en Python funciona como JavaScript, con el uso del `event loop`. Sólo puede haber un `event loop` en una aplicación. En este proyecto vamos a ejecutar código asíncrono dentro del `event loop`, por lo que se requieren `event loops` anidados. Para salvar la limitación de Python hacemos lo siguiente."
   ]
  },
  {
   "cell_type": "code",
   "execution_count": 5,
   "id": "26cc3129",
   "metadata": {},
   "outputs": [],
   "source": [
    "import nest_asyncio\n",
    "nest_asyncio.apply()"
   ]
  },
  {
   "cell_type": "markdown",
   "id": "572b7c9e",
   "metadata": {},
   "source": [
    "Hay librería de LangChain que permite usar PlayWright en forma de `tools`"
   ]
  },
  {
   "cell_type": "code",
   "execution_count": null,
   "id": "0b679d77",
   "metadata": {},
   "outputs": [],
   "source": []
  },
  {
   "cell_type": "code",
   "execution_count": 6,
   "id": "114bcb2d",
   "metadata": {},
   "outputs": [],
   "source": [
    "from langchain_community.agent_toolkits import PlayWrightBrowserToolkit\n",
    "from langchain_community.tools.playwright.utils import create_async_playwright_browser\n",
    "\n",
    "async_browser =  create_async_playwright_browser(headless=False)  # headful mode\n",
    "toolkit = PlayWrightBrowserToolkit.from_browser(async_browser=async_browser)\n",
    "tools = toolkit.get_tools()"
   ]
  },
  {
   "cell_type": "markdown",
   "id": "ece07f61",
   "metadata": {},
   "source": [
    "Empaquetamos las `tools` en un diccionario y probamos una de ellas:"
   ]
  },
  {
   "cell_type": "code",
   "execution_count": 7,
   "id": "4b344b79",
   "metadata": {},
   "outputs": [],
   "source": [
    "tool_dict = {tool.name:tool for tool in tools}\n",
    "\n",
    "navigate_tool = tool_dict.get(\"navigate_browser\")\n",
    "extract_text_tool = tool_dict.get(\"extract_text\")\n",
    "\n",
    "await navigate_tool.arun({\"url\": \"https://www.cnn.com\"})\n",
    "text = await extract_text_tool.arun({})"
   ]
  },
  {
   "cell_type": "code",
   "execution_count": 8,
   "id": "10dfe838",
   "metadata": {},
   "outputs": [
    {
     "name": "stdout",
     "output_type": "stream",
     "text": [
      "Breaking News, Latest News and Videos | CNN CNN values your feedback\n",
      "1. How relevant is this ad to you? 2. Did you encounter any technical\n",
      "issues? Video player was slow to load content Video content never\n",
      "loaded Ad froze or did not finish loading Video content did not start\n",
      "after ad Audio on ad was too loud Other issues Ad never loaded Ad\n",
      "prevented/slowed the page from loading Content moved around while ad\n",
      "loaded Ad was repetitive to ads I've seen previously Other issues\n",
      "Cancel Submit Thank You! Your effort and contribution in providing\n",
      "this feedback is much\n",
      "appreciated. Close Ad Feedback Close icon US World Politics Business\n",
      "Health Entertainment Style Travel Sports Science Climate Weather\n",
      "Ukraine-Russia War Israel-Hamas War Games More US World Politics\n",
      "Business Health Entertainment Style Travel Sports Science Climate\n",
      "Weather Ukraine-Russia War Israel-Hamas War Games Watch Listen Live TV\n",
      "Subscribe Sign in My Account Settings Newsletters Topics you follow\n",
      "Sign out Your CNN account Sign in to your CNN account Sign in My\n",
      "Account Settings Newsletters Topics you follow Sign out Your CNN\n",
      "account Sign in to your CNN account Live TV Listen Watch Edition US\n",
      "International Arabic Español Edition US International Arabic Español\n",
      "World Africa Americas Asia Australia China Europe India Middle East\n",
      "United Kingdom US Politics Trump Facts First CNN Polls 2025 Elections\n",
      "Business Tech Media Calculators Videos Markets Pre-markets After-Hours\n",
      "Fear & Greed Investing Markets Now Nightcap Health Life, But Better\n",
      "Fitness Food Sleep Mindfulness Relationships Entertainment Movies\n",
      "Television Celebrity Tech Innovate Foreseeable Future Mission: Ahead\n",
      "Work Transformed Innovative Cities Style Arts Design Fashion\n",
      "Architecture Luxury Beauty Video Travel Destinations Food & Drink Stay\n",
      "News Videos Sports Football Tennis Golf Motorsport US Sports Olympics\n",
      "Climbing Esports Hockey Science Space Life Unearthed Climate Solutions\n",
      "Weather Weather Video Climate Ukraine-Russia War Israel-Hamas War\n",
      "Features As Equals Call to Earth Freedom Project Impact Your World\n",
      "Inside Africa CNN Heroes Watch Live TV CNN Fast Shows A-Z CNN10 CNN\n",
      "Max CNN TV Schedules Listen CNN 5 Things Chasing Life with Dr. Sanjay\n",
      "Gupta The Assignment with Audie Cornish One Thing Tug of War CNN\n",
      "Political Briefing The Axe Files All There Is with Anderson Cooper All\n",
      "CNN Audio podcasts Games Daily Crossword Jumble Crossword Sudoblock\n",
      "Sudoku 5 Things Quiz About CNN Photos Investigations CNN Profiles CNN\n",
      "Leadership CNN Newsletters Work for CNN Follow CNN NATO summit France\n",
      "syringe attack Mozambique child abductions Malala Yousafzai Hyper-\n",
      "realistic pencil portraits 1,000-year-old sword Ruined castle for $7.5\n",
      "million Live Updates 32 min ago THE HAGUE, NETHERLANDS - JUNE 25: U.S.\n",
      "President Donald Trump speaks to media at the start of the second day\n",
      "of the 2025 NATO Summit on June 25, 2025 in The Hague, Netherlands.\n",
      "Among other matters, members are to approve a new defense investment\n",
      "plan that raises the target for defense spending to 5% of GDP. (Photo\n",
      "by Andrew Harnik/Getty Images) Andrew Harnik/Getty Images Trump in\n",
      "Netherlands for NATO summit as Israel-Iran ceasefire appears to hold\n",
      "32 min ago Trump maintains Iran strikes caused \"total obliteration\"\n",
      "despite early intel report. Catch up here 1 hr 33 min ago Trump draws\n",
      "comparison between US bombing of Hiroshima and his Iran strikes 1 hr\n",
      "55 min ago Israeli defense minister designates Iran’s central bank a\n",
      "terrorist organization 2 hr 2 min ago Iran may rethink membership of\n",
      "key nuclear non-proliferation treaty, foreign minister suggests 2 hr 3\n",
      "min ago Trump says he doesn't believe Iran moved enriched uranium\n",
      "ahead of US strikes 2 hr 13 min ago Trump maintains Iran strikes\n",
      "caused \"total obliteration,\" but acknowledges damage report was\n",
      "inconclusive 2 hr 19 min ago Trump says US strikes on Iran nuclear\n",
      "sites could help achieve Gaza deal 2 hr 45 min ago Meanwhile, CNN's\n",
      "Clarissa Ward reports on the latest on Israel's offensive in Gaza 2 hr\n",
      "57 min ago Iran’s parliament votes to suspend cooperation with UN\n",
      "nuclear watchdog 1 hr 43 min ago Rutte \"totally fine\" with Trump\n",
      "sharing his fawning text message, stresses US is committed to Article\n",
      "5 4 hr 44 min ago NATO chief stands by praise for US attacks on Iran 4\n",
      "hr 42 min ago Israel's Smotrich rejects early US military assessment\n",
      "on extent of damage to Iran’s nuclear facilities 5 hr 3 min ago White\n",
      "House envoy slams Iran intel leak 7 hr ago It’s morning in the Middle\n",
      "East. A fragile truce appears to be holding 7 hr 2 min ago Iran\n",
      "arrested 700 \"mercenaries\" working for Israel throughout 12-day\n",
      "conflict, state media says 7 hr 8 min ago Seven Israeli soldiers\n",
      "killed by blast in Gaza’s Khan Younis, military says 7 hr 28 min ago\n",
      "Trump pushes back on CNN report about intel assessment suggesting\n",
      "strikes on Iran didn't destroy nuclear sites 7 hr 28 min ago Israel\n",
      "will \"respond forcefully\" to any ceasefire violations, UN ambassador\n",
      "says 7 hr 31 min ago Iran's UN ambassador thanks Qatar for its role in\n",
      "the ceasefire 7 hr 32 min ago Israel extends mobilization order for\n",
      "reservists until July 10 See all updates ( 20 +) • Video 1:47 CNN gets\n",
      "an up close look at Israeli airstrike aftermath damage in Iran CNN\n",
      "Video CNN gets an up close look at Israeli airstrike aftermath damage\n",
      "in Iran 1:47 • Video 1:45 Pool Video ‘A tremendous victory for\n",
      "everybody:’ Trump on Iran strikes 1:45 Trump maintains Iran strikes\n",
      "caused 'total obliteration' Show all • Live Updates Live Updates\n",
      "Andrew Harnik/Getty Images Live Updates As a ceasefire appears to\n",
      "hold, Trump argues attack put Iran’s nuclear ambitions back decades\n",
      "but admits that intelligence report was ‘inconclusive’ CNN Exclusive\n",
      "Early US intel assessment suggests strikes only set Iran’s nuclear\n",
      "program back by months NATO summit yields a big win on defense\n",
      "spending for Trump but key questions over the alliance remain Video\n",
      "Hear how the White House responded to new report on US strikes on Iran\n",
      "3:47 Catch up on today's global news - Source: CNN Video Catch up on\n",
      "today’s news U.S. Air Force/Handout/Reuters Here’s what it can take\n",
      "for pilots to complete a 37-hour bombing mission Analysis Iran-Israel\n",
      "conflict: Is that it? Probably not. High tariffs give Trump less room\n",
      "for error in Iran Israel agreed to a ceasefire with Iran. Could Gaza\n",
      "be next? Ad Feedback More top stories Christian\n",
      "Monterrosa/Bloomberg/Getty Images Takeaways from New York City’s\n",
      "mayoral primary: Mamdani delivers a political earthquake Private\n",
      "mission lifts off with three astronauts who will be the first from\n",
      "their countries to visit the space station US Marine sentenced to 7\n",
      "years over sexual assault in Japan On the brink of retirement, this\n",
      "NFL player turned to psychedelics to help with his OCD Video At least\n",
      "49 people killed near aid sites in Gaza over 24-hour period 1:41 Why\n",
      "Kennedy’s overhaul of a key CDC committee could lead to ‘vaccine\n",
      "chaos’ in the US David W Cerny/Reuters Teenage sprint sensation Gout\n",
      "Gout breaks his own 200m Australian record in first race abroad Tom\n",
      "Booth/CNN The Great Barrier Reef is dying. Inside the lab trying to\n",
      "save it Edward Berthelot/Getty Images Luxury PJs and a more gentle\n",
      "approach: Here’s what we saw at the menswear shows in Milan • Video\n",
      "1:17 CCTV Video Why Japan has a rice crisis 1:17 Ad Feedback X/\n",
      "wangzhian8848 Video Truck with driver still inside dangles from bridge\n",
      "after landslide 0:41 Jun 24, 2025 Deaths from heart attacks are way\n",
      "down. Here’s what’s killing us instead Jun 25, 2025 Clipped From Video\n",
      "Disgruntled locals are ‘stacking’ Waymo cars so they can’t stir up\n",
      "noise at night Jun 25, 2025 CNN Video Amanpour asks Canadian PM: Is\n",
      "Trump still threatening annexation? 1:26 Jun 24, 2025 Ad Feedback\n",
      "Knight Frank Private Scottish island with ruined castle goes on sale\n",
      "for $7.5 million This animation, composed of 16 images acquired by\n",
      "NASA’s Terra satellite, shows Kati Thanda-Lake Eyre's evolution from\n",
      "April 29 to June 12. NASA Rare event breathes life back into\n",
      "Australia’s arid outback, attracting both animals and tourists • Video\n",
      "2:46 Getty Images/Getty Images North America/Getty Images • Video 2:46\n",
      "Video Costume designer reflects on why one character in ‘Sex and the\n",
      "City’ was ahead of her time 2:46 Ad Feedback Featured Sections Space\n",
      "and science Stephanie Wissel/Penn State Strange signals detected from\n",
      "Antarctic ice seem to defy laws of physics. Scientists are searching\n",
      "for an answer Scientists say a tiny brown moth navigates 600 miles\n",
      "using stars — just like humans and birds ‘Dragon Man’ DNA revelation\n",
      "puts a face to a mysterious group of ancient humans Global Travel\n",
      "Show all Mark Kerrison/In Pictures/Getty Images London has leaned into\n",
      "Jack the Ripper tourism. The locals don’t like it The beautiful but\n",
      "forgotten Bauhaus airport that’s an aviation time capsule London to\n",
      "Sweden for the day: These travelers are embracing extreme day trips\n",
      "The new nudity: A 21st-century guide to taking off your clothes Ad\n",
      "Feedback Global Business Frederic J. Brown/AFP/Getty Images Oil is\n",
      "falling so much it’s now cheaper than it was before Iran-Israel\n",
      "conflict After Iran uses missiles, US braces for cyberattacks High\n",
      "tariffs give Trump less room for error in Iran Why gasoline prices\n",
      "aren’t tumbling along with sinking oil Americans are feeling worse\n",
      "about the economy — especially Republicans Art and Style Victor\n",
      "Boyko/Getty Images A Dior debut and a fresh female perspective: What\n",
      "to watch at Paris Fashion Week Men’s Remember when Kurt Cobain spurned\n",
      "toxic masculinity in a dainty floral frock? Glastonbury Festival\n",
      "fashion history: Remember when Kate Moss wore rain boots? Milan\n",
      "Fashion Week Men’s begins. Here’s what to expect SPORT Show all\n",
      "Matthew Stockman/Getty Images Andy Murray confident Wimbledon statue\n",
      "will be improvement on Shanghai Masters’ infamous terracotta warrior\n",
      "CNN Exclusive Malala turns her fight for equality to women in sports\n",
      "Lyon relegated to French soccer’s second tier amid ongoing financial\n",
      "problems Aaron Rodgers on whether this upcoming NFL season is his\n",
      "last: ‘I’m pretty sure this is it’ Ad Feedback US Politics Anna\n",
      "Moneymaker/Getty Images Trump takes his go-it-alone approach to NATO\n",
      "summit after announcing Israel-Iran ceasefire Analysis Trump claims a\n",
      "forever peace in the land of forever war — but it could be fleeting\n",
      "Dramatic day of diplomacy culminates in Trump announcing Iran-Israel\n",
      "ceasefire Judge indefinitely blocks Trump’s proclamation suspending\n",
      "new Harvard international students Inside the campaign of Zohran\n",
      "Mamdani, the democratic socialist running for mayor of New York City\n",
      "health and wellness Ralf Geithe/iStockphoto/Getty Images BMI is B-A-D,\n",
      "a new study suggests. Here’s a better way to measure weight Deep belly\n",
      "fat triggers inflammation. Here’s how to reduce it Does face yoga\n",
      "actually work? Experts weigh in on its slimming, anti-aging effects\n",
      "The new coronavirus variant surging in China has arrived in the US.\n",
      "Here’s what to know Tech Stefani Reynolds/Bloomberg/Getty Images What\n",
      "is Perplexity, the AI startup said to be catching Meta and Apple’s\n",
      "attention Do you think AI is changing or threatening to take your job?\n",
      "Tell us about it here ‘She never sleeps’: This platform wants to be\n",
      "OnlyFans for the AI era Pope Leo calls for an ethical AI framework in\n",
      "a message to tech execs gathering at the Vatican Photos You Should See\n",
      "• Gallery Gallery The Legacy Collection/THA/Shutterstock Gallery In\n",
      "pictures: Behind the scenes of ‘Jaws’ • Gallery Gallery Lorenzo Poli\n",
      "Gallery Haunting image of an abandoned mining town wins Earth Photo\n",
      "prize • Gallery Gallery Dave Kotinsky/Getty Images Gallery People\n",
      "we’ve lost in 2025 • Gallery Gallery Royce L. Bair/DarkSky\n",
      "International Gallery Protecting our night skies from light pollution\n",
      "• Gallery Gallery Dendrinos/MOm Gallery Mediterranean monk seals: Back\n",
      "from the brink • Gallery Gallery Luiz Thiago de Jesus/AMLD Gallery\n",
      "Back from the brink: Golden lion tamarin Ad Feedback In Case You\n",
      "Missed It Guy Marineau/Conde Nast/Getty Images Towering heels, epic\n",
      "fall: Remember when Naomi Campbell turned a catwalk catastrophe into\n",
      "career gold? Evidence in Karen Read’s case led to ‘only one person,’\n",
      "prosecutor says in first statement since her acquittal Israel recovers\n",
      "bodies of three hostages – an IDF soldier and two civilians – from\n",
      "Gaza Suspect in Minnesota attacks drafted a ‘bailout plan’ for wife,\n",
      "according to court filing A clash of English and Brazilian teams in\n",
      "Philadelphia shows off exactly what FIFA wants from the Club World Cup\n",
      "US singer Chris Brown pleads not guilty to assault charge in UK court\n",
      "Wife of Colorado attack suspect says she and her 5 children are\n",
      "‘suffering’ in ICE custody While North Korea denied Covid-19 cases,\n",
      "the virus was widespread and barely treated, report says World’s most\n",
      "liveable city for 2025 revealed Subscribe Sign in My Account Settings\n",
      "Newsletters Topics you follow Sign out Your CNN account Sign in to\n",
      "your CNN account Live TV Listen Watch World Africa Americas Asia\n",
      "Australia China Europe India Middle East United Kingdom US Politics\n",
      "Trump Facts First CNN Polls 2025 Elections Business Tech Media\n",
      "Calculators Videos Markets Pre-markets After-Hours Fear & Greed\n",
      "Investing Markets Now Nightcap Health Life, But Better Fitness Food\n",
      "Sleep Mindfulness Relationships Entertainment Movies Television\n",
      "Celebrity Tech Innovate Foreseeable Future Mission: Ahead Work\n",
      "Transformed Innovative Cities Style Arts Design Fashion Architecture\n",
      "Luxury Beauty Video Travel Destinations Food & Drink Stay News Videos\n",
      "Sports Football Tennis Golf Motorsport US Sports Olympics Climbing\n",
      "Esports Hockey Science Space Life Unearthed Climate Solutions Weather\n",
      "Weather Video Climate Ukraine-Russia War Israel-Hamas War Features As\n",
      "Equals Call to Earth Freedom Project Impact Your World Inside Africa\n",
      "CNN Heroes Watch Live TV CNN Fast Shows A-Z CNN10 CNN Max CNN TV\n",
      "Schedules Listen CNN 5 Things Chasing Life with Dr. Sanjay Gupta The\n",
      "Assignment with Audie Cornish One Thing Tug of War CNN Political\n",
      "Briefing The Axe Files All There Is with Anderson Cooper All CNN Audio\n",
      "podcasts Games Daily Crossword Jumble Crossword Sudoblock Sudoku 5\n",
      "Things Quiz About CNN Photos Investigations CNN Profiles CNN\n",
      "Leadership CNN Newsletters Work for CNN Watch Listen Live TV Follow\n",
      "CNN Subscribe Sign in My Account Settings Newsletters Topics you\n",
      "follow Sign out Your CNN account Sign in to your CNN account Terms of\n",
      "Use Privacy Policy Administrar cookies+ Ad Choices Accessibility & CC\n",
      "About Newsletters Transcripts © 2025 Cable News Network. A Warner\n",
      "Bros. Discovery Company. All Rights Reserved. CNN Sans ™ & © 2016\n",
      "Cable News Network.\n"
     ]
    }
   ],
   "source": [
    "import textwrap\n",
    "print(textwrap.fill(text))"
   ]
  },
  {
   "cell_type": "code",
   "execution_count": 9,
   "id": "98446799",
   "metadata": {},
   "outputs": [],
   "source": [
    "all_tools = [tool_send_email] + tools"
   ]
  },
  {
   "cell_type": "code",
   "execution_count": 10,
   "id": "8d2d0254",
   "metadata": {},
   "outputs": [],
   "source": [
    "llm = ChatGoogleGenerativeAI(model=\"gemini-2.0-flash\")\n",
    "llm_with_tools = llm.bind_tools(all_tools)\n",
    "\n",
    "def chatbot(state: State):\n",
    "    return {\"messages\": [llm_with_tools.invoke(state[\"messages\"])]}"
   ]
  },
  {
   "cell_type": "code",
   "execution_count": 11,
   "id": "787a2fcb",
   "metadata": {},
   "outputs": [
    {
     "data": {
      "image/png": "[encoded data removed]",
      "text/plain": [
       "<IPython.core.display.Image object>"
      ]
     },
     "metadata": {},
     "output_type": "display_data"
    }
   ],
   "source": [
    "graph_builder = StateGraph(State)\n",
    "graph_builder.add_node(\"chatbot\", chatbot)\n",
    "graph_builder.add_node(\"tools\", ToolNode(tools=all_tools))\n",
    "graph_builder.add_conditional_edges( \"chatbot\", tools_condition, \"tools\")\n",
    "graph_builder.add_edge(\"tools\", \"chatbot\")\n",
    "graph_builder.add_edge(START, \"chatbot\")\n",
    "\n",
    "memory = MemorySaver()\n",
    "graph = graph_builder.compile(checkpointer=memory)\n",
    "display(Image(graph.get_graph().draw_mermaid_png()))"
   ]
  },
  {
   "cell_type": "code",
   "execution_count": 12,
   "id": "974bf6b8",
   "metadata": {},
   "outputs": [],
   "source": [
    "# Esto evita el error: There is no current event loop in thread 'MainThread'\n",
    "import uvicorn\n",
    "\n",
    "uvicorn.config.LOOP_SETUPS = {\n",
    "    \"none\": None,\n",
    "    \"auto\": \"uvicorn.loops.asyncio:asyncio_setup\",\n",
    "    \"asyncio\": \"uvicorn.loops.asyncio:asyncio_setup\",\n",
    "    \"uvloop\": \"uvicorn.loops.uvloop:uvloop_setup\",\n",
    "}"
   ]
  },
  {
   "cell_type": "code",
   "execution_count": 13,
   "id": "fae1be08",
   "metadata": {},
   "outputs": [
    {
     "name": "stdout",
     "output_type": "stream",
     "text": [
      "* Running on local URL:  http://127.0.0.1:7863\n",
      "* To create a public link, set `share=True` in `launch()`.\n"
     ]
    },
    {
     "data": {
      "text/html": [
       "<div><iframe src=\"http://127.0.0.1:7863/\" width=\"100%\" height=\"500\" allow=\"autoplay; camera; microphone; clipboard-read; clipboard-write;\" frameborder=\"0\" allowfullscreen></iframe></div>"
      ],
      "text/plain": [
       "<IPython.core.display.HTML object>"
      ]
     },
     "metadata": {},
     "output_type": "display_data"
    },
    {
     "data": {
      "text/plain": []
     },
     "execution_count": 13,
     "metadata": {},
     "output_type": "execute_result"
    }
   ],
   "source": [
    "config = {\"configurable\": {\"thread_id\": \"1\"}}\n",
    "\n",
    "async def chat(user_input: str, history):\n",
    "    result = await graph.ainvoke({\"messages\": [{\"role\": \"user\", \"content\": user_input}]}, config=config)\n",
    "    return result[\"messages\"][-1].content\n",
    "\n",
    "\n",
    "gr.ChatInterface(chat, type=\"messages\").launch()"
   ]
  }
 ],
 "metadata": {
  "kernelspec": {
   "display_name": ".venv",
   "language": "python",
   "name": "python3"
  },
  "language_info": {
   "codemirror_mode": {
    "name": "ipython",
    "version": 3
   },
   "file_extension": ".py",
   "mimetype": "text/x-python",
   "name": "python",
   "nbconvert_exporter": "python",
   "pygments_lexer": "ipython3",
   "version": "3.13.3"
  }
 },
 "nbformat": 4,
 "nbformat_minor": 5
}
