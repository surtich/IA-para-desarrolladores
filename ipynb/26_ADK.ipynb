{
 "cells": [
  {
   "cell_type": "markdown",
   "id": "3995ea3b",
   "metadata": {},
   "source": [
    "### ADK (Agent Development Kit)\n",
    "\n",
    "**ADK** es el framework de Google para crear agentes de IA, pensado para arquitecturas multiagente complejas y flujos de trabajo orquestados. Permite definir agentes que se comunican, delegan tareas y usan herramientas, con integración directa en el ecosistema Google (Gemini, Vertex AI), pero es agnóstico en cuanto a modelos y despliegue. Es una alternativa a LangChain, OpenAI SDK Agents y otros frameworks de desarrollo de agentes."
   ]
  },
  {
   "cell_type": "markdown",
   "id": "0f2aeb2b",
   "metadata": {},
   "source": [
    "### Hello World ADK\n",
    "\n",
    "Este un primer ejemplo básico de un agente que saluda al usuario.\n",
    "\n",
    "```python"
   ]
  },
  {
   "cell_type": "code",
   "execution_count": 2,
   "id": "a31e6a26",
   "metadata": {},
   "outputs": [],
   "source": [
    "import os\n",
    "os.makedirs(\"26_ADK/1-basic-agent/greeting_agent\", exist_ok=True)"
   ]
  },
  {
   "cell_type": "markdown",
   "id": "1dee4f46",
   "metadata": {},
   "source": [
    "Es muy importante que el fichero se llame `agent.py` y que esté en un directorio que coincida con la propiedad `name` del agente. En este caso `greeting_agent`."
   ]
  },
  {
   "cell_type": "code",
   "execution_count": 3,
   "id": "75164893",
   "metadata": {},
   "outputs": [
    {
     "name": "stdout",
     "output_type": "stream",
     "text": [
      "Overwriting 26_ADK/1-basic-agent/greeting_agent/agent.py\n"
     ]
    }
   ],
   "source": [
    "%%writefile \"26_ADK/1-basic-agent/greeting_agent/agent.py\"\n",
    "from google.adk.agents import Agent\n",
    "\n",
    "root_agent = Agent(\n",
    "    name=\"greeting_agent\",\n",
    "    # https://ai.google.dev/gemini-api/docs/models\n",
    "    model=\"gemini-2.0-flash\",\n",
    "    description=\"Agente de saludo\",\n",
    "    instruction=\"\"\"\n",
    "    Eres un asistente útil que saluda al usuario. \n",
    "    Pregunta el nombre del usuario y salúdalo por su nombre.\n",
    "    \"\"\",\n",
    ")"
   ]
  },
  {
   "cell_type": "markdown",
   "id": "bdea477c",
   "metadata": {},
   "source": [
    "Para probar, situarse en el directorio `26_ADK/1-basic-agent` y desde allí:\n",
    "\n",
    "```bash\n",
    "uv run adk web\n",
    "```\n",
    "\n",
    "Esto abrirá una interfaz web en `http://localhost:8080` donde se puede interactuar con el agente."
   ]
  },
  {
   "cell_type": "markdown",
   "id": "04ee4897",
   "metadata": {},
   "source": [
    "Con este comando, se puede ejecutar el agente en línea de comandos:\n",
    "\n",
    "```bash\n",
    "uv run adk run  greeting_agent\n",
    "```\n",
    "\n",
    "Para que funcione, es necesario tener un fichero `__init__.py` en el directorio del agente (`greeting_agent`), con el contenido:\n",
    "\n",
    "```python\n",
    "from .agent import root_agent\n",
    "\n",
    "__all__ = [\"root_agent\"]\n",
    "```"
   ]
  },
  {
   "cell_type": "markdown",
   "id": "d5cd28df",
   "metadata": {},
   "source": [
    "También, se puede ejecutar en modo API con el comando:\n",
    "\n",
    "```bash\n",
    "uv run adk api_server\n",
    "```\n",
    "\n",
    "Antes de comunicarse con el agente, hay que iniciar sesión.\n",
    "\n",
    "```bash\n",
    "curl -X POST http://localhost:8000/apps/greeting_agent/users/u_123/sessions/s_123 \\\n",
    "-H \"Content-Type: application/json\"\n",
    "```\n",
    "\n",
    "Una vez iniciada la sesión, se puede enviar un mensaje al agente:\n",
    "\n",
    "```bash\n",
    "curl -X POST http://localhost:8000/run \\\n",
    "-H \"Content-Type: application/json\" \\\n",
    "-d '{\n",
    "  \"appName\": \"greeting_agent\",\n",
    "  \"userId\": \"u_123\",\n",
    "  \"sessionId\": \"s_123\",\n",
    "  \"newMessage\": {\n",
    "    \"role\": \"user\",\n",
    "    \"parts\": [{\n",
    "      \"text\": \"Hola\"\n",
    "    }]\n",
    "  }\n",
    "}'\n",
    "```"
   ]
  },
  {
   "cell_type": "markdown",
   "id": "b8f11d43",
   "metadata": {},
   "source": [
    "### Agente con tools\n",
    "\n",
    "ADK ofrece flexibilidad al soportar varios tipos de tools:\n",
    "\n",
    "- **Function Tools:** Tools personalizadas que tú creas para necesidades específicas.\n",
    "- **Functions/Methods:** Funciones o métodos estándar síncronos definidos en tu código.\n",
    "- **Agents-as-Tools:** Usa otro agente, posiblemente especializado, como tool dentro de un agente principal.\n",
    "- **Long Running Function Tools:** Para operaciones asíncronas o que requieren mucho tiempo.\n",
    "- **Built-in Tools:** Tools listas para usar para tareas comunes (ej: Google Search, Code Execution, RAG).\n",
    "- **Third-Party Tools:** Tools de bibliotecas externas (ej: LangChain, CrewAI) que se integran fácilmente.\n",
    "\n",
    "\n",
    "En este ejemplo, vamos a usar la tool `GoogleSearch` para buscar información en la web. Un agente solo puede tener un `built-in tool`.\n"
   ]
  },
  {
   "cell_type": "code",
   "execution_count": 4,
   "id": "ddc13b61",
   "metadata": {},
   "outputs": [],
   "source": [
    "import os\n",
    "os.makedirs(\"26_ADK/2-tool-agent/tool_agent\", exist_ok=True)"
   ]
  },
  {
   "cell_type": "code",
   "execution_count": 5,
   "id": "f64cb8de",
   "metadata": {},
   "outputs": [
    {
     "name": "stdout",
     "output_type": "stream",
     "text": [
      "Writing 26_ADK/2-tool-agent/tool_agent/agent.py\n"
     ]
    }
   ],
   "source": [
    "%%writefile \"26_ADK/2-tool-agent/tool_agent/agent.py\"\n",
    "from google.adk.agents import Agent\n",
    "from google.adk.tools import google_search\n",
    "\n",
    "# def get_current_time() -> dict:\n",
    "#     \"\"\"\n",
    "#     Obtiene la hora actual en formato AAAA-MM-DD HH:MM:SS\n",
    "#     \"\"\"\n",
    "#     return {\n",
    "#         \"current_time\": datetime.now().strftime(\"%Y-%m-%d %H:%M:%S\"),\n",
    "#     }\n",
    "\n",
    "root_agent = Agent(\n",
    "    name=\"tool_agent\",\n",
    "    model=\"gemini-2.0-flash\",\n",
    "    description=\"Agente de herramientas\",\n",
    "    instruction=\"\"\"\n",
    "    Eres un asistente útil que puede usar las siguientes herramientas:\n",
    "    - google_search\n",
    "    \"\"\",\n",
    "    tools=[google_search],\n",
    "    # tools=[get_current_time],\n",
    "    # tools=[google_search, get_current_time], # <--- No funciona\n",
    ")\n"
   ]
  },
  {
   "cell_type": "markdown",
   "id": "24d60ab7",
   "metadata": {},
   "source": [
    "Se puede usar una función de Python como una tool. En ese caso es muy importante que el `docstring` de la función esté bien definido, ya que ADK lo usará para decidir si usará esa tool. Además, es conveniente devolver un `dict` con el resultado de la función, ya que, si n se hace, ADK creará uno con clave  `result`. Si la función de la tool recibe parámetros, nunca poner valores por defecto ya que ADK no los soporta en este momento."
   ]
  },
  {
   "cell_type": "code",
   "execution_count": 11,
   "id": "66e8e4bd",
   "metadata": {},
   "outputs": [
    {
     "name": "stdout",
     "output_type": "stream",
     "text": [
      "Overwriting 26_ADK/2-tool-agent/tool_agent/agent.py\n"
     ]
    }
   ],
   "source": [
    "%%writefile \"26_ADK/2-tool-agent/tool_agent/agent.py\"\n",
    "from google.adk.agents import Agent\n",
    "from google.adk.tools import google_search\n",
    "from datetime import datetime\n",
    "\n",
    "def get_current_time() -> dict:\n",
    "    \"\"\"\n",
    "    Obtiene la hora actual en formato AAAA-MM-DD HH:MM:SS\n",
    "    \"\"\"\n",
    "    return {\n",
    "        \"current_time\": datetime.now().strftime(\"%Y-%m-%d %H:%M:%S\"),\n",
    "    }\n",
    "\n",
    "root_agent = Agent(\n",
    "    name=\"tool_agent\",\n",
    "    model=\"gemini-2.0-flash\",\n",
    "    description=\"Agente de herramientas\",\n",
    "    instruction=\"\"\"\n",
    "    Eres un asistente útil que puede usar las siguientes herramientas:\n",
    "    - get_current_time\n",
    "    \"\"\",\n",
    "    tools=[get_current_time],\n",
    ")\n"
   ]
  },
  {
   "cell_type": "markdown",
   "id": "97267f3a",
   "metadata": {},
   "source": [
    "### Agente con otros proveedores de modelos\n",
    "\n",
    "ADK permite crear agentes con modelos que no son de Google usando LiteLLM."
   ]
  },
  {
   "cell_type": "code",
   "execution_count": 13,
   "id": "cbea520b",
   "metadata": {},
   "outputs": [],
   "source": [
    "import os\n",
    "os.makedirs(\"26_ADK/3-litellm-agent/dad_joke_agent\", exist_ok=True)"
   ]
  },
  {
   "cell_type": "code",
   "execution_count": 16,
   "id": "d65fce09",
   "metadata": {},
   "outputs": [
    {
     "name": "stdout",
     "output_type": "stream",
     "text": [
      "Overwriting 26_ADK/3-litellm-agent/dad_joke_agent/agent.py\n"
     ]
    }
   ],
   "source": [
    "%%writefile \"26_ADK/3-litellm-agent/dad_joke_agent/agent.py\"\n",
    "import os\n",
    "import random\n",
    "\n",
    "from google.adk.agents import Agent\n",
    "from google.adk.models.lite_llm import LiteLlm\n",
    "\n",
    "# https://docs.litellm.ai/docs/providers/cohere\n",
    "model = LiteLlm(\n",
    "    model=\"cohere/command-a-03-2025\",\n",
    "    api_key=os.getenv(\"COHERE_API_KEY\")\n",
    ")\n",
    "\n",
    "def get_dad_joke():\n",
    "    \"\"\"Obtiene un chiste de papá aleatorio.\n",
    "\n",
    "    Returns:\n",
    "        str: Un chiste de papá.\n",
    "    \"\"\"\n",
    "    jokes = [\n",
    "        \"¿Por qué el pollo cruzó la carretera? ¡Para llegar al otro lado!\",\n",
    "        \"¿Cómo llamas a un cinturón hecho de relojes? Una pérdida de tiempo.\",\n",
    "        \"¿Cómo llamas a los espaguetis falsos? ¡Un impasta!\",\n",
    "        \"¿Por qué el espantapájaros ganó un premio? ¡Porque era sobresaliente en su campo!\",\n",
    "    ]\n",
    "    return random.choice(jokes)\n",
    "\n",
    "\n",
    "root_agent = Agent(\n",
    "    name=\"dad_joke_agent\",\n",
    "    model=model,\n",
    "    description=\"Agente de chistes de papá\",\n",
    "    instruction=\"\"\"\n",
    "    Eres un asistente útil que puede contar chistes de papá. \n",
    "    Solo usa la herramienta `get_dad_joke` para contar chistes.\n",
    "    \"\"\",\n",
    "    tools=[get_dad_joke],\n",
    ")\n"
   ]
  },
  {
   "cell_type": "markdown",
   "id": "6c3cbf33",
   "metadata": {},
   "source": [
    "### Structured Outputs"
   ]
  },
  {
   "cell_type": "code",
   "execution_count": 1,
   "id": "12f7363f",
   "metadata": {},
   "outputs": [],
   "source": [
    "import os\n",
    "os.makedirs(\"26_ADK/4-structured-outputs/email_agent\", exist_ok=True)"
   ]
  },
  {
   "cell_type": "code",
   "execution_count": null,
   "id": "8694a40d",
   "metadata": {},
   "outputs": [
    {
     "name": "stdout",
     "output_type": "stream",
     "text": [
      "Writing 26_ADK/4-structured-outputs/email_agent/agent.py\n"
     ]
    }
   ],
   "source": [
    "%%writefile \"26_ADK/4-structured-outputs/email_agent/agent.py\"\n",
    "from google.adk.agents import LlmAgent\n",
    "from pydantic import BaseModel, Field\n",
    "\n",
    "\n",
    "# --- Define Output Schema ---\n",
    "class EmailContent(BaseModel):\n",
    "    subject: str = Field(\n",
    "        description=\"La línea de asunto del correo electrónico. Debe ser concisa y descriptiva.\"\n",
    "    )\n",
    "    body: str = Field(\n",
    "        description=\"El contenido principal del correo electrónico. Debe estar bien formateado con un saludo adecuado, párrafos y firma.\"\n",
    "    )\n",
    "\n",
    "\n",
    "# --- Create Email Generator Agent ---\n",
    "root_agent = LlmAgent(\n",
    "    name=\"email_agent\",\n",
    "    model=\"gemini-2.0-flash\",\n",
    "    instruction=\"\"\"\n",
    "        Eres un Asistente de Generación de Correos Electrónicos.\n",
    "        Tu tarea es generar un correo electrónico profesional basado en la solicitud del usuario.\n",
    "\n",
    "        DIRECTRICES:\n",
    "        - Crea una línea de asunto apropiada (concisa y relevante)\n",
    "        - Escribe un cuerpo de correo electrónico bien estructurado con:\n",
    "            * Saludo profesional\n",
    "            * Contenido principal claro y conciso\n",
    "            * Cierre apropiado\n",
    "            * Tu nombre como firma\n",
    "        - Sugiere archivos adjuntos relevantes si aplica (lista vacía si no se necesitan)\n",
    "        - El tono del correo electrónico debe coincidir con el propósito (formal para negocios, amigable para colegas)\n",
    "        - Mantén los correos electrónicos concisos pero completos\n",
    "\n",
    "        IMPORTANTE: Tu respuesta DEBE ser un JSON válido que coincida con esta estructura:\n",
    "        {\n",
    "            \"subject\": \"Línea de asunto aquí\",\n",
    "            \"body\": \"Cuerpo del correo electrónico aquí con párrafos y formato adecuados\",\n",
    "        }\n",
    "\n",
    "        NO incluyas explicaciones ni texto adicional fuera de la respuesta JSON.\n",
    "    \"\"\",\n",
    "    description=\"Genera correos electrónicos profesionales con asunto y cuerpo estructurados\",\n",
    "    output_schema=EmailContent, # también existe una propiedad input_schema para definir la entrada esperada\n",
    "    output_key=\"email\",\n",
    ")\n"
   ]
  },
  {
   "cell_type": "markdown",
   "id": "c542f296",
   "metadata": {},
   "source": [
    "### Sessions and State"
   ]
  },
  {
   "cell_type": "code",
   "execution_count": 3,
   "id": "1157ac80",
   "metadata": {},
   "outputs": [],
   "source": [
    "import os\n",
    "os.makedirs(\"26_ADK/5-sessions-and-state/question_answering_agent\", exist_ok=True)"
   ]
  },
  {
   "cell_type": "markdown",
   "id": "93335a38",
   "metadata": {},
   "source": [
    "El agente no tiene nada de particular. Únicamente, en la descripción se definen dos parámetros que se pasaran desde el estado de la sesión."
   ]
  },
  {
   "cell_type": "code",
   "execution_count": 4,
   "id": "f7256e18",
   "metadata": {},
   "outputs": [
    {
     "name": "stdout",
     "output_type": "stream",
     "text": [
      "Writing 26_ADK/5-sessions-and-state/question_answering_agent/agent.py\n"
     ]
    }
   ],
   "source": [
    "%%writefile \"26_ADK/5-sessions-and-state/question_answering_agent/agent.py\"\n",
    "from google.adk.agents import Agent\n",
    "\n",
    "# Create the root agent\n",
    "question_answering_agent = Agent(\n",
    "    name=\"question_answering_agent\",\n",
    "    model=\"gemini-2.0-flash\",\n",
    "    description=\"Agente de respuesta a preguntas\",\n",
    "    instruction=\"\"\"\n",
    "    Eres un asistente útil que responde preguntas sobre las preferencias del usuario.\n",
    "\n",
    "    Aquí tienes información sobre el usuario:\n",
    "    Nombre: \n",
    "    {user_name}\n",
    "    Preferencias: \n",
    "    {user_preferences}\n",
    "    \"\"\",\n",
    ")\n"
   ]
  },
  {
   "cell_type": "markdown",
   "id": "569b23e8",
   "metadata": {},
   "source": [
    "La sesión se compone de un identificador único, un nombre de aplicación, un identificador de usuario y un estado que almacena información sobre el usuario y sus preferencias. El runner asocia el agente a la sesión."
   ]
  },
  {
   "cell_type": "code",
   "execution_count": 8,
   "id": "c55cbdde",
   "metadata": {},
   "outputs": [
    {
     "name": "stdout",
     "output_type": "stream",
     "text": [
      "Overwriting 26_ADK/5-sessions-and-state/basic_stateful_session.py\n"
     ]
    }
   ],
   "source": [
    "%%writefile \"26_ADK/5-sessions-and-state/basic_stateful_session.py\"\n",
    "import uuid\n",
    "\n",
    "from dotenv import load_dotenv\n",
    "from google.adk.runners import Runner\n",
    "from google.adk.sessions import InMemorySessionService\n",
    "from google.genai import types\n",
    "from question_answering_agent import question_answering_agent\n",
    "\n",
    "load_dotenv()\n",
    "\n",
    "async def main():\n",
    "    # Create a new session service to store state\n",
    "    session_service_stateful = InMemorySessionService()\n",
    "\n",
    "    initial_state = {\n",
    "        \"user_name\": \"Brandon Hancock\",\n",
    "        \"user_preferences\": \"\"\"\n",
    "            Me gusta jugar Pickleball, Disc Golf y Tenis.\n",
    "            Mi comida favorita es la mexicana.\n",
    "            Mi programa de televisión favorito es Juego de Tronos.\n",
    "            Le encanta cuando la gente le da \"me gusta\" y se suscribe a su canal de YouTube.\n",
    "        \"\"\",\n",
    "    }\n",
    "\n",
    "    # Create a NEW session\n",
    "    APP_NAME = \"Brandon Bot\"\n",
    "    USER_ID = \"brandon_hancock\"\n",
    "    SESSION_ID = str(uuid.uuid4())\n",
    "    stateful_session = await session_service_stateful.create_session(\n",
    "        app_name=APP_NAME,\n",
    "        user_id=USER_ID,\n",
    "        session_id=SESSION_ID,\n",
    "        state=initial_state,\n",
    "    )\n",
    "    print(\"NUEVA SESIÓN CREADA:\")\n",
    "    print(f\"\\tID de Sesión: {SESSION_ID}\")\n",
    "\n",
    "    runner = Runner(\n",
    "        agent=question_answering_agent,\n",
    "        app_name=APP_NAME,\n",
    "        session_service=session_service_stateful,\n",
    "    )\n",
    "\n",
    "    new_message = types.Content(\n",
    "        role=\"user\", parts=[types.Part(text=\"¿Cuál es el programa de televisión favorito de Brandon?\")]\n",
    "    )\n",
    "\n",
    "    for event in runner.run(\n",
    "        user_id=USER_ID,\n",
    "        session_id=SESSION_ID,\n",
    "        new_message=new_message,\n",
    "    ):\n",
    "        if event.is_final_response():\n",
    "            if event.content and event.content.parts:\n",
    "                print(f\"Respuesta Final: {event.content.parts[0].text}\")\n",
    "\n",
    "    print(\"==== Exploración de Eventos de Sesión ====\")\n",
    "    session = await session_service_stateful.get_session(\n",
    "        app_name=APP_NAME, user_id=USER_ID, session_id=SESSION_ID\n",
    "    )\n",
    "\n",
    "    # Log final Session state\n",
    "    print(\"=== Estado Final de la Sesión ===\")\n",
    "    for key, value in session.state.items():\n",
    "        print(f\"{key}: {value}\")\n",
    "\n",
    "if __name__ == \"__main__\":\n",
    "    import asyncio\n",
    "    asyncio.run(main())"
   ]
  },
  {
   "cell_type": "markdown",
   "id": "e0963ef6",
   "metadata": {},
   "source": [
    "### Persistence Storage"
   ]
  },
  {
   "cell_type": "code",
   "execution_count": 13,
   "id": "9350a782",
   "metadata": {},
   "outputs": [],
   "source": [
    "import os\n",
    "os.makedirs(\"26_ADK/6-persistent-storage/memory_agent\", exist_ok=True)"
   ]
  },
  {
   "cell_type": "code",
   "execution_count": 15,
   "id": "540f84cd",
   "metadata": {},
   "outputs": [
    {
     "name": "stdout",
     "output_type": "stream",
     "text": [
      "Overwriting 26_ADK/6-persistent-storage/memory_agent/agent.py\n"
     ]
    }
   ],
   "source": [
    "%%writefile \"26_ADK/6-persistent-storage/memory_agent/agent.py\"\n",
    "from google.adk.agents import Agent\n",
    "from google.adk.tools.tool_context import ToolContext\n",
    "\n",
    "\n",
    "def add_reminder(reminder: str, tool_context: ToolContext) -> dict:\n",
    "    \"\"\"Añade un nuevo recordatorio a la lista de recordatorios del usuario.\n",
    "\n",
    "    Args:\n",
    "        reminder: El texto del recordatorio a añadir\n",
    "        tool_context: Contexto para acceder y actualizar el estado de la sesión\n",
    "\n",
    "    Returns:\n",
    "        Un mensaje de confirmación\n",
    "    \"\"\"\n",
    "    print(f\"--- Herramienta: add_reminder llamada para '{reminder}' ---\")\n",
    "\n",
    "    # Get current reminders from state\n",
    "    reminders = tool_context.state.get(\"reminders\", [])\n",
    "\n",
    "    # Add the new reminder\n",
    "    reminders.append(reminder)\n",
    "\n",
    "    # Update state with the new list of reminders\n",
    "    tool_context.state[\"reminders\"] = reminders\n",
    "\n",
    "    return {\n",
    "        \"action\": \"add_reminder\",\n",
    "        \"reminder\": reminder,\n",
    "        \"message\": f\"Recordatorio añadido: {reminder}\",\n",
    "    }\n",
    "\n",
    "\n",
    "def view_reminders(tool_context: ToolContext) -> dict:\n",
    "    \"\"\"Ver todos los recordatorios actuales.\n",
    "\n",
    "    Args:\n",
    "        tool_context: Contexto para acceder al estado de la sesión\n",
    "\n",
    "    Returns:\n",
    "        La lista de recordatorios\n",
    "    \"\"\"\n",
    "    print(\"--- Herramienta: view_reminders llamada ---\")\n",
    "\n",
    "    # Get reminders from state\n",
    "    reminders = tool_context.state.get(\"reminders\", [])\n",
    "\n",
    "    return {\"action\": \"view_reminders\", \"reminders\": reminders, \"count\": len(reminders)}\n",
    "\n",
    "\n",
    "def update_reminder(index: int, updated_text: str, tool_context: ToolContext) -> dict:\n",
    "    \"\"\"Actualiza un recordatorio existente.\n",
    "\n",
    "    Args:\n",
    "        index: El índice basado en 1 del recordatorio a actualizar\n",
    "        updated_text: El nuevo texto para el recordatorio\n",
    "        tool_context: Contexto para acceder y actualizar el estado de la sesión\n",
    "\n",
    "    Returns:\n",
    "        Un mensaje de confirmación\n",
    "    \"\"\"\n",
    "    print(\n",
    "        f\"--- Herramienta: update_reminder llamada para el índice {index} con '{updated_text}' ---\"\n",
    "    )\n",
    "\n",
    "    # Get current reminders from state\n",
    "    reminders = tool_context.state.get(\"reminders\", [])\n",
    "\n",
    "    # Check if the index is valid\n",
    "    if not reminders or index < 1 or index > len(reminders):\n",
    "        return {\n",
    "            \"action\": \"update_reminder\",\n",
    "            \"status\": \"error\",\n",
    "            \"message\": f\"No se pudo encontrar el recordatorio en la posición {index}. Actualmente hay {len(reminders)} recordatorios.\",\n",
    "        }\n",
    "\n",
    "    # Update the reminder (adjusting for 0-based indices)\n",
    "    old_reminder = reminders[index - 1]\n",
    "    reminders[index - 1] = updated_text\n",
    "\n",
    "    # Update state with the modified list\n",
    "    tool_context.state[\"reminders\"] = reminders\n",
    "\n",
    "    return {\n",
    "        \"action\": \"update_reminder\",\n",
    "        \"index\": index,\n",
    "        \"old_text\": old_reminder,\n",
    "        \"updated_text\": updated_text,\n",
    "        \"message\": f\"Recordatorio {index} actualizado de '{old_reminder}' a '{updated_text}'\",\n",
    "    }\n",
    "\n",
    "\n",
    "def delete_reminder(index: int, tool_context: ToolContext) -> dict:\n",
    "    \"\"\"Elimina un recordatorio.\n",
    "\n",
    "    Args:\n",
    "        index: El índice basado en 1 del recordatorio a eliminar\n",
    "        tool_context: Contexto para acceder y actualizar el estado de la sesión\n",
    "\n",
    "    Returns:\n",
    "        Un mensaje de confirmación\n",
    "    \"\"\"\n",
    "    print(f\"--- Herramienta: delete_reminder llamada para el índice {index} ---\")\n",
    "\n",
    "    # Get current reminders from state\n",
    "    reminders = tool_context.state.get(\"reminders\", [])\n",
    "\n",
    "    # Check if the index is valid\n",
    "    if not reminders or index < 1 or index > len(reminders):\n",
    "        return {\n",
    "            \"action\": \"delete_reminder\",\n",
    "            \"status\": \"error\",\n",
    "            \"message\": f\"No se pudo encontrar el recordatorio en la posición {index}. Actualmente hay {len(reminders)} recordatorios.\",\n",
    "        }\n",
    "\n",
    "    # Remove the reminder (adjusting for 0-based indices)\n",
    "    deleted_reminder = reminders.pop(index - 1)\n",
    "\n",
    "    # Update state with the modified list\n",
    "    tool_context.state[\"reminders\"] = reminders\n",
    "\n",
    "    return {\n",
    "        \"action\": \"delete_reminder\",\n",
    "        \"index\": index,\n",
    "        \"deleted_reminder\": deleted_reminder,\n",
    "        \"message\": f\"Recordatorio {index} eliminado: '{deleted_reminder}'\",\n",
    "    }\n",
    "\n",
    "\n",
    "def update_user_name(name: str, tool_context: ToolContext) -> dict:\n",
    "    \"\"\"Actualiza el nombre del usuario.\n",
    "\n",
    "    Args:\n",
    "        name: El nuevo nombre para el usuario\n",
    "        tool_context: Contexto para acceder y actualizar el estado de la sesión\n",
    "\n",
    "    Returns:\n",
    "        Un mensaje de confirmación\n",
    "    \"\"\"\n",
    "    print(f\"--- Herramienta: update_user_name llamada con '{name}' ---\")\n",
    "\n",
    "    # Get current name from state\n",
    "    old_name = tool_context.state.get(\"user_name\", \"\")\n",
    "\n",
    "    # Update the name in state\n",
    "    tool_context.state[\"user_name\"] = name\n",
    "\n",
    "    return {\n",
    "        \"action\": \"update_user_name\",\n",
    "        \"old_name\": old_name,\n",
    "        \"new_name\": name,\n",
    "        \"message\": f\"Tu nombre ha sido actualizado a: {name}\",\n",
    "    }\n",
    "\n",
    "\n",
    "# Create a simple persistent agent\n",
    "memory_agent = Agent(\n",
    "    name=\"memory_agent\",\n",
    "    model=\"gemini-2.0-flash\",\n",
    "    description=\"Un agente de recordatorios inteligente con memoria persistente\",\n",
    "    instruction=\"\"\"\n",
    "    Eres un amigable asistente de recordatorios que recuerda a los usuarios a través de las conversaciones.\n",
    "    \n",
    "    La información del usuario se almacena en el estado:\n",
    "    - Nombre del usuario: {user_name}\n",
    "    - Recordatorios: {reminders}\n",
    "    \n",
    "    Puedes ayudar a los usuarios a gestionar sus recordatorios con las siguientes capacidades:\n",
    "    1. Añadir nuevos recordatorios\n",
    "    2. Ver recordatorios existentes\n",
    "    3. Actualizar recordatorios\n",
    "    4. Eliminar recordatorios\n",
    "    5. Actualizar el nombre del usuario\n",
    "    \n",
    "    Sé siempre amigable y dirígete al usuario por su nombre. Si aún no conoces su nombre,\n",
    "    usa la herramienta update_user_name para almacenarlo cuando se presenten.\n",
    "    \n",
    "    **DIRECTRICES DE GESTIÓN DE RECORDATORIOS:**\n",
    "    \n",
    "    Al tratar con recordatorios, debes ser inteligente para encontrar el recordatorio correcto:\n",
    "    \n",
    "    1. Cuando el usuario pide actualizar o eliminar un recordatorio pero no proporciona un índice:\n",
    "       - Si mencionan el contenido del recordatorio (ej. \"eliminar mi recordatorio de reunión\"), \n",
    "         busca en los recordatorios para encontrar una coincidencia\n",
    "       - Si encuentras una coincidencia exacta o cercana, usa ese índice\n",
    "       - Nunca aclares a qué recordatorio se refiere el usuario, simplemente usa la primera coincidencia\n",
    "       - Si no se encuentra ninguna coincidencia, lista todos los recordatorios y pide al usuario que especifique\n",
    "    \n",
    "    2. Cuando el usuario menciona un número o posición:\n",
    "       - Usa eso como el índice (ej. \"eliminar recordatorio 2\" significa índice=2)\n",
    "       - Recuerda que la indexación comienza en 1 para el usuario\n",
    "    \n",
    "    3. Para posiciones relativas:\n",
    "       - Maneja \"primero\", \"último\", \"segundo\", etc. apropiadamente\n",
    "       - \"Primer recordatorio\" = índice 1\n",
    "       - \"Último recordatorio\" = el índice más alto\n",
    "       - \"Segundo recordatorio\" = índice 2, y así sucesivamente\n",
    "    \n",
    "    4. Para ver:\n",
    "       - Siempre usa la herramienta view_reminders cuando el usuario pida ver sus recordatorios\n",
    "       - Formatea la respuesta en una lista numerada para mayor claridad\n",
    "       - Si no hay recordatorios, sugiere añadir algunos\n",
    "    \n",
    "    5. Para añadir:\n",
    "       - Extrae el texto real del recordatorio de la solicitud del usuario\n",
    "       - Elimina frases como \"añadir un recordatorio para\" o \"recuérdame que\"\n",
    "       - Concéntrate en la tarea en sí (ej. \"añadir un recordatorio para comprar leche\" → add_reminder(\"comprar leche\"))\n",
    "    \n",
    "    6. Para actualizaciones:\n",
    "       - Identifica tanto qué recordatorio actualizar como cuál debe ser el nuevo texto\n",
    "       - Por ejemplo, \"cambiar mi segundo recordatorio a recoger la compra\" → update_reminder(2, \"recoger la compra\")\n",
    "    \n",
    "    7. Para eliminaciones:\n",
    "       - Confirma la eliminación cuando esté completa y menciona qué recordatorio se eliminó\n",
    "       - Por ejemplo, \"He eliminado tu recordatorio para 'comprar leche'\"\n",
    "    \n",
    "    Recuerda explicar que puedes recordar su información a través de las conversaciones.\n",
    "\n",
    "    IMPORTANTE:\n",
    "    - usa tu mejor juicio para determinar a qué recordatorio se refiere el usuario. \n",
    "    - No tienes que ser 100% correcto, pero intenta ser lo más cercano posible.\n",
    "    - Nunca le pidas al usuario que aclare a qué recordatorio se refiere.\n",
    "    \"\"\",\n",
    "    tools=[\n",
    "        add_reminder,\n",
    "        view_reminders,\n",
    "        update_reminder,\n",
    "        delete_reminder,\n",
    "        update_user_name,\n",
    "    ],\n",
    ")\n"
   ]
  },
  {
   "cell_type": "code",
   "execution_count": 20,
   "id": "66ec789b",
   "metadata": {},
   "outputs": [
    {
     "name": "stdout",
     "output_type": "stream",
     "text": [
      "Overwriting 26_ADK/6-persistent-storage/main.py\n"
     ]
    }
   ],
   "source": [
    "%%writefile \"26_ADK/6-persistent-storage/main.py\"\n",
    "import asyncio\n",
    "\n",
    "from dotenv import load_dotenv\n",
    "from google.adk.runners import Runner\n",
    "from google.adk.sessions import DatabaseSessionService\n",
    "from memory_agent.agent import memory_agent\n",
    "from utils import call_agent_async\n",
    "\n",
    "load_dotenv()\n",
    "\n",
    "# ===== PARTE 1: Inicializar el Servicio de Sesión Persistente =====\n",
    "# Usando la base de datos SQLite para almacenamiento persistente\n",
    "db_url = \"sqlite:///./my_agent_data.db\"\n",
    "session_service = DatabaseSessionService(db_url=db_url)\n",
    "\n",
    "\n",
    "# ===== PARTE 2: Definir el Estado Inicial =====\n",
    "# Esto solo se usará al crear una nueva sesión\n",
    "initial_state = {\n",
    "    \"user_name\": \"Brandon Hancock\",\n",
    "    \"reminders\": [],\n",
    "}\n",
    "\n",
    "\n",
    "async def main_async():\n",
    "    # Configurar constantes\n",
    "    APP_NAME = \"Agente de Memoria\"\n",
    "    USER_ID = \"aiwithbrandon\"\n",
    "\n",
    "    # ===== PARTE 3: Gestión de Sesiones - Encontrar o Crear =====\n",
    "    # Buscar sesiones existentes para este usuario\n",
    "    existing_sessions = await session_service.list_sessions(\n",
    "        app_name=APP_NAME,\n",
    "        user_id=USER_ID,\n",
    "    )\n",
    "\n",
    "    # Si hay una sesión existente, usarla, de lo contrario crear una nueva\n",
    "    if existing_sessions and len(existing_sessions.sessions) > 0:\n",
    "        # Usar la sesión más reciente\n",
    "        SESSION_ID = existing_sessions.sessions[0].id\n",
    "        print(f\"Continuando sesión existente: {SESSION_ID}\")\n",
    "    else:\n",
    "        # Crear una nueva sesión con el estado inicial\n",
    "        new_session = await session_service.create_session(\n",
    "            app_name=APP_NAME,\n",
    "            user_id=USER_ID,\n",
    "            state=initial_state,\n",
    "        )\n",
    "        SESSION_ID = new_session.id\n",
    "        print(f\"Nueva sesión creada: {SESSION_ID}\")\n",
    "\n",
    "    # ===== PARTE 4: Configuración del Ejecutor del Agente =====\n",
    "    # Crear un ejecutor con el agente de memoria\n",
    "    runner = Runner(\n",
    "        agent=memory_agent,\n",
    "        app_name=APP_NAME,\n",
    "        session_service=session_service,\n",
    "    )\n",
    "\n",
    "    # ===== PARTE 5: Bucle de Conversación Interactiva =====\n",
    "    print(\"\\n¡Bienvenido al Chat del Agente de Memoria!\")\n",
    "    print(\"Tus recordatorios serán recordados en todas las conversaciones.\")\n",
    "    print(\"Escribe 'exit' o 'quit' para finalizar la conversación.\\n\")\n",
    "\n",
    "    while True:\n",
    "        # Obtener la entrada del usuario\n",
    "        user_input = input(\"Tú: \")\n",
    "\n",
    "        # Comprobar si el usuario quiere salir\n",
    "        if user_input.lower() in [\"exit\", \"quit\"]:\n",
    "            print(\"Finalizando conversación. Tus datos han sido guardados en la base de datos.\")\n",
    "            break\n",
    "\n",
    "        # Procesar la consulta del usuario a través del agente\n",
    "        await call_agent_async(runner, USER_ID, SESSION_ID, user_input)\n",
    "\n",
    "\n",
    "if __name__ == \"__main__\":\n",
    "    asyncio.run(main_async())\n"
   ]
  },
  {
   "cell_type": "markdown",
   "id": "70a054d7",
   "metadata": {},
   "source": [
    "### Multi-agent\n",
    "\n",
    "ADK permite crear sub-agntes y agentes como tools. El Agente-como-Herramienta te permite invocar a otro agente para realizar una tarea específica, delegando efectivamente la responsabilidad. Esto es conceptualmente similar a crear una función Python que llama a otro agente y utiliza la respuesta del agente como el valor de retorno de la función.\n",
    "\n",
    "Diferencia clave con los sub-agentes\n",
    "Es importante distinguir un Agente-xºcomo-Herramienta de un Sub-Agente.\n",
    "\n",
    "- Agente-como-Herramienta: Cuando el Agente A llama al Agente B como una herramienta (usando Agente-como-Herramienta), la respuesta del Agente B se devuelve al Agente A, que luego resume la respuesta y genera una contestación al usuario. El Agente A mantiene el control y continúa manejando futuras entradas del usuario.\n",
    "\n",
    "- Sub-agente: Cuando el Agente A llama al Agente B como un sub-agente, la responsabilidad de responder al usuario se transfiere completamente al Agente B. El Agente A queda efectivamente fuera del circuito. Todas las entradas de usuario subsiguientes serán respondidas por el Agente B.\n"
   ]
  },
  {
   "cell_type": "markdown",
   "id": "dd160f19",
   "metadata": {},
   "source": [
    "### Stateful Multi-agent"
   ]
  },
  {
   "cell_type": "markdown",
   "id": "de41ff95",
   "metadata": {},
   "source": [
    "### Callbacks"
   ]
  },
  {
   "cell_type": "markdown",
   "id": "4ca97b9a",
   "metadata": {},
   "source": [
    "### Sequential Agent"
   ]
  },
  {
   "cell_type": "markdown",
   "id": "9d4d78e3",
   "metadata": {},
   "source": [
    "### Parallel Agent"
   ]
  },
  {
   "cell_type": "markdown",
   "id": "49d0fc7f",
   "metadata": {},
   "source": [
    "### Integración de MCP"
   ]
  }
 ],
 "metadata": {
  "kernelspec": {
   "display_name": "ia-para-desarrolladores",
   "language": "python",
   "name": "python3"
  },
  "language_info": {
   "codemirror_mode": {
    "name": "ipython",
    "version": 3
   },
   "file_extension": ".py",
   "mimetype": "text/x-python",
   "name": "python",
   "nbconvert_exporter": "python",
   "pygments_lexer": "ipython3",
   "version": "3.13.3"
  }
 },
 "nbformat": 4,
 "nbformat_minor": 5
}
