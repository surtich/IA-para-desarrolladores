{
 "cells": [
  {
   "cell_type": "markdown",
   "id": "b2629f0c",
   "metadata": {},
   "source": [
    "### Creación de Tools\n",
    "\n",
    "En esta práctica vamos a aprender a crear un Tool para usarla desde nuestra aplicación Web con Gradio. Una Tool es una función externa que un LLM puede decidir llamar para interactuar con el mundo exterior o realizar tareas específicas. Es muy importante entender que el LLM no llama directamente a la Tool, sino que le pide al cliente que la invoque. Es el cliente quien decide se ejecutar la tool y pasar al LLM el resultado de su ejecución.\n",
    "\n",
    "Estas herramientas extienden las capacidades del LLM más allá de su entrenamiento, permitiéndole, por ejemplo, buscar información en la web, enviar correos electrónicos, interactuar con API, o realizar cálculos complejos.\n",
    "\n",
    "Cuando un LLM tiene la capacidad de seleccionar y utilizar de forma autónoma una o varias Tools para alcanzar un objetivo, decimos que se comporta como un Agente. Un **Agente** no solo \"sabe\" qué herramientas existen, sino que también puede razonar sobre cuándo, cómo y en qué orden usarlas para resolver un problema o completar una tarea, a menudo en un proceso iterativo de planificación, ejecución y auto-corrección."
   ]
  },
  {
   "cell_type": "markdown",
   "id": "6c6ecec5",
   "metadata": {},
   "source": [
    "Realizamos los `imports` y creamos una instancia de la API."
   ]
  },
  {
   "cell_type": "code",
   "execution_count": 1,
   "id": "bf8f3820",
   "metadata": {},
   "outputs": [
    {
     "name": "stderr",
     "output_type": "stream",
     "text": [
      "/home/surtich/projects/IA para desarrolladores/.venv/lib/python3.13/site-packages/tqdm/auto.py:21: TqdmWarning: IProgress not found. Please update jupyter and ipywidgets. See https://ipywidgets.readthedocs.io/en/stable/user_install.html\n",
      "  from .autonotebook import tqdm as notebook_tqdm\n"
     ]
    }
   ],
   "source": [
    "# imports\n",
    "\n",
    "import os\n",
    "from dotenv import load_dotenv\n",
    "from openai import OpenAI\n",
    "import gradio as gr\n",
    "import json"
   ]
  },
  {
   "cell_type": "code",
   "execution_count": 2,
   "id": "9505e037",
   "metadata": {},
   "outputs": [],
   "source": [
    "load_dotenv(override=True)\n",
    "google_api_key = os.getenv('GOOGLE_API_KEY')"
   ]
  },
  {
   "cell_type": "code",
   "execution_count": 3,
   "id": "e6865049",
   "metadata": {},
   "outputs": [],
   "source": [
    "MODEL = \"gemini-2.0-flash\"\n",
    "geminiai = OpenAI(base_url=\"https://generativelanguage.googleapis.com/v1beta\", api_key=google_api_key)"
   ]
  },
  {
   "cell_type": "markdown",
   "id": "3f09679e",
   "metadata": {},
   "source": [
    "Definimos una función sencilla que devuelve los precios de viajar a varias cuiudades:"
   ]
  },
  {
   "cell_type": "code",
   "execution_count": 4,
   "id": "b45d60cb",
   "metadata": {},
   "outputs": [],
   "source": [
    "ticket_prices = {\"london\": \"799€\", \"paris\": \"899€\", \"tokyo\": \"1400€\", \"berlin\": \"499€\"}\n",
    "\n",
    "def get_ticket_price(destination_city):\n",
    "    print(f\"Tool get_ticket_price called for {destination_city}\")\n",
    "    city = destination_city.lower()\n",
    "    return ticket_prices.get(city, \"Unknown\")"
   ]
  },
  {
   "cell_type": "code",
   "execution_count": 5,
   "id": "55f09c98",
   "metadata": {},
   "outputs": [
    {
     "name": "stdout",
     "output_type": "stream",
     "text": [
      "Tool get_ticket_price called for London\n"
     ]
    },
    {
     "data": {
      "text/plain": [
       "'799€'"
      ]
     },
     "execution_count": 5,
     "metadata": {},
     "output_type": "execute_result"
    }
   ],
   "source": [
    "get_ticket_price(\"London\")"
   ]
  },
  {
   "cell_type": "markdown",
   "id": "2aba7924",
   "metadata": {},
   "source": [
    "Para ayudar al agente a decidir cuando llamar a una Tool específica, la API de OpenAI requiere un formato concreto de diccionario. Los campos `description` tanto de la función como de los parámetros serán utilizados para que el LLM entienda qué hace la función y cómo debe ser llamada.\n",
    "```python"
   ]
  },
  {
   "cell_type": "code",
   "execution_count": 6,
   "id": "3898149c",
   "metadata": {},
   "outputs": [],
   "source": [
    "# There's a particular dictionary structure that's required to describe our function:\n",
    "\n",
    "price_function = {\n",
    "    \"name\": \"get_ticket_price\",\n",
    "    \"description\": \"Obtén el precio de un billete de ida y vuelta a la ciudad de destino. Llama a esta función siempre que necesites saber el precio del billete, por ejemplo, cuando un cliente pregunte '¿Cuánto cuesta un billete a esta ciudad?'\",\n",
    "    \"parameters\": {\n",
    "        \"type\": \"object\",\n",
    "        \"properties\": {\n",
    "            \"destination_city\": {\n",
    "                \"type\": \"string\",\n",
    "                \"description\": \"La ciudad a la que el cliente desea viajar\",\n",
    "            },\n",
    "        },\n",
    "        \"required\": [\"destination_city\"],\n",
    "        \"additionalProperties\": False\n",
    "    }\n",
    "}"
   ]
  },
  {
   "cell_type": "markdown",
   "id": "01cfff18",
   "metadata": {},
   "source": [
    "Se debe crear una lista con todas las Tools del agente:"
   ]
  },
  {
   "cell_type": "code",
   "execution_count": 7,
   "id": "acd235bf",
   "metadata": {},
   "outputs": [],
   "source": [
    "# And this is included in a list of tools:\n",
    "\n",
    "tools = [{\"type\": \"function\", \"function\": price_function}]"
   ]
  },
  {
   "cell_type": "markdown",
   "id": "45a6ed5a",
   "metadata": {},
   "source": [
    "La función `handle_tool_call` recibe el `message` devuelto por la Tool y genera un respuesta en el formato requerido por la API de OpenAI. Observe que en la función `chat`, si el mensaje procede de la Tool, lo extrae y se lo vuelve a pasar al LLM para que lo procese y genere una respuesta final. El LLM no tiene acceso directo a la Tool, sino que el cliente es quien maneja la llamada y el resultado."
   ]
  },
  {
   "cell_type": "code",
   "execution_count": 8,
   "id": "95ccc496",
   "metadata": {},
   "outputs": [],
   "source": [
    "system_message = \"Eres un asistente útil para una aerolínea llamada FlightAI. \"\n",
    "system_message += \"Ofrece respuestas cortas y educadas de no más de 1 oración. \"\n",
    "system_message += \"Sé siempre preciso. Si no sabes la respuesta, dilo.\"\n",
    "\n",
    "def handle_tool_call(message):\n",
    "    tool_call = message.tool_calls[0] # the first tool call\n",
    "    arguments = json.loads(tool_call.function.arguments) # the arguments are a JSON string. json.loads() parses it to a dict\n",
    "    city = arguments.get('destination_city')\n",
    "    price = get_ticket_price(city)\n",
    "    response = {\n",
    "        \"role\": \"tool\",\n",
    "        \"content\": json.dumps({\"destination_city\": city,\"price\": price}), # the content is a JSON string. json.dumps() converts a dict to a JSON string\n",
    "        \"tool_call_id\": tool_call.id # the ID of the tool call. This is used to identify the tool call in the response\n",
    "    }\n",
    "    return response, city\n",
    "\n",
    "def chat(message, history):\n",
    "    messages = [{\"role\": \"system\", \"content\": system_message}] + history + [{\"role\": \"user\", \"content\": message}]\n",
    "    response = geminiai.chat.completions.create(model=MODEL, messages=messages, tools=tools)\n",
    "\n",
    "    if response.choices[0].finish_reason==\"tool_calls\": # the model has called a tool\n",
    "        message = response.choices[0].message # Gets the message that contains the tool call\n",
    "        response, city = handle_tool_call(message) \n",
    "        messages.append(message) \n",
    "        messages.append(response)\n",
    "        response = geminiai.chat.completions.create(model=MODEL, messages=messages)\n",
    "    \n",
    "    return response.choices[0].message.content"
   ]
  },
  {
   "cell_type": "markdown",
   "id": "12e998bb",
   "metadata": {},
   "source": [
    "Usamos Gradio para probarlo:"
   ]
  },
  {
   "cell_type": "code",
   "execution_count": 9,
   "id": "90766b95",
   "metadata": {},
   "outputs": [
    {
     "name": "stdout",
     "output_type": "stream",
     "text": [
      "* Running on local URL:  http://127.0.0.1:7866\n",
      "* To create a public link, set `share=True` in `launch()`.\n"
     ]
    },
    {
     "data": {
      "text/html": [
       "<div><iframe src=\"http://127.0.0.1:7866/\" width=\"100%\" height=\"500\" allow=\"autoplay; camera; microphone; clipboard-read; clipboard-write;\" frameborder=\"0\" allowfullscreen></iframe></div>"
      ],
      "text/plain": [
       "<IPython.core.display.HTML object>"
      ]
     },
     "metadata": {},
     "output_type": "display_data"
    },
    {
     "data": {
      "text/plain": []
     },
     "execution_count": 9,
     "metadata": {},
     "output_type": "execute_result"
    },
    {
     "name": "stdout",
     "output_type": "stream",
     "text": [
      "Tool get_ticket_price called for London\n"
     ]
    }
   ],
   "source": [
    "gr.ChatInterface(fn=chat, type=\"messages\").launch()"
   ]
  }
 ],
 "metadata": {
  "kernelspec": {
   "display_name": ".venv",
   "language": "python",
   "name": "python3"
  },
  "language_info": {
   "codemirror_mode": {
    "name": "ipython",
    "version": 3
   },
   "file_extension": ".py",
   "mimetype": "text/x-python",
   "name": "python",
   "nbconvert_exporter": "python",
   "pygments_lexer": "ipython3",
   "version": "3.13.3"
  }
 },
 "nbformat": 4,
 "nbformat_minor": 5
}
