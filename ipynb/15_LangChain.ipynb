{
  "cells": [
    {
      "cell_type": "markdown",
      "id": "b76b036f",
      "metadata": {
        "id": "b76b036f"
      },
      "source": [
        "### ¿Qué es LangChain?\n",
        "\n",
        "**LangChain** es un `framework` de código abierto diseñado para facilitar el desarrollo de aplicaciones que utilizan modelos de lenguaje. Permite unificar la interfaz de acceso a distintos proveedores.\n",
        "\n",
        "### Características principales LangChain\n",
        "\n",
        "- **Orquestación modular:** LangChain proporciona componentes modulares que se pueden combinar para crear flujos de trabajo complejos, llamados \"cadenas\" (pipelines). Cada cadena es una secuencia de pasos que pueden incluir llamadas a modelos de lenguaje, consultas a bases de datos, procesamiento de texto.\n",
        "- **Integración sencilla:** Permite integrar casi cualquier modelo de lenguaje, tanto de código abierto como comercial, usando una interfaz estándar y sencilla.\n",
        "- **Gestión de contexto y memoria:** Facilita la gestión del estado de la conversación y el contexto, permitiendo que las aplicaciones recuerden interacciones anteriores y ofrezcan respuestas más coherentes y personalizadas.\n",
        "- **Automatización y agentes:** Permite crear agentes inteligentes que pueden tomar decisiones, consultar diferentes fuentes de datos y ejecutar acciones de forma autónoma.\n",
        "- **Soporte para Python y JavaScript:** Está disponible principalmente para estos lenguajes, facilitando su adopción en proyectos modernos.\n",
        "\n"
      ]
    },
    {
      "cell_type": "markdown",
      "id": "0f466926",
      "metadata": {},
      "source": [
        "### Input y Output"
      ]
    },
    {
      "cell_type": "markdown",
      "id": "21ddb167",
      "metadata": {},
      "source": [
        "En el siguiente ejemplo, comparamos el uso de un LLM con la API de OpenAI con la de LangChain."
      ]
    },
    {
      "cell_type": "code",
      "execution_count": 2,
      "id": "61c61bf8",
      "metadata": {},
      "outputs": [
        {
          "data": {
            "text/plain": [
              "True"
            ]
          },
          "execution_count": 2,
          "metadata": {},
          "output_type": "execute_result"
        }
      ],
      "source": [
        "import os\n",
        "from openai import OpenAI\n",
        "from dotenv import load_dotenv\n",
        "\n",
        "load_dotenv()"
      ]
    },
    {
      "cell_type": "code",
      "execution_count": 3,
      "id": "b0a71fa3",
      "metadata": {},
      "outputs": [
        {
          "data": {
            "text/plain": [
              "{'id': '8dxaaJbCI-PQx_APtpyn2A8',\n",
              " 'choices': [{'finish_reason': 'stop',\n",
              "   'index': 0,\n",
              "   'logprobs': None,\n",
              "   'message': {'content': 'Sí, tenemos algunas opciones veganas, como la pasta primavera y la pizza de verduras.',\n",
              "    'refusal': None,\n",
              "    'role': 'assistant',\n",
              "    'annotations': None,\n",
              "    'audio': None,\n",
              "    'function_call': None,\n",
              "    'tool_calls': None}}],\n",
              " 'created': 1750785265,\n",
              " 'model': 'gemini-2.0-flash',\n",
              " 'object': 'chat.completion',\n",
              " 'service_tier': None,\n",
              " 'system_fingerprint': None,\n",
              " 'usage': {'completion_tokens': 18,\n",
              "  'prompt_tokens': 44,\n",
              "  'total_tokens': 62,\n",
              "  'completion_tokens_details': None,\n",
              "  'prompt_tokens_details': None}}"
            ]
          },
          "execution_count": 3,
          "metadata": {},
          "output_type": "execute_result"
        }
      ],
      "source": [
        "from openai import OpenAI\n",
        "\n",
        "openai = OpenAI(base_url=\"https://generativelanguage.googleapis.com/v1beta\", api_key=os.getenv('GOOGLE_API_KEY'))\n",
        "\n",
        "response = openai.chat.completions.create(\n",
        "    model=\"gemini-2.0-flash\",\n",
        "    messages=[\n",
        "        {\"role\": \"system\", \"content\": \"Eres un asistente útil especializado en proporcionar información sobre el Restaurante Italiano BellaVista.\"},\n",
        "        {\"role\": \"user\", \"content\": \"¿Qué hay en el menú?\"},\n",
        "        {\"role\": \"assistant\", \"content\": \"BellaVista ofrece una variedad de platos italianos que incluyen pasta, pizza y mariscos.\"},\n",
        "        {\"role\": \"user\", \"content\": \"¿Tienen opciones veganas?\"}\n",
        "    ]\n",
        ")\n",
        "\n",
        "response.model_dump()"
      ]
    },
    {
      "cell_type": "code",
      "execution_count": 4,
      "id": "a240cec0",
      "metadata": {},
      "outputs": [
        {
          "name": "stdout",
          "output_type": "stream",
          "text": [
            "Sí, tenemos algunas opciones veganas, como la pasta primavera y la pizza de verduras.\n"
          ]
        }
      ],
      "source": [
        "print(response.choices[0].message.content)"
      ]
    },
    {
      "cell_type": "code",
      "execution_count": 5,
      "id": "fce12e46",
      "metadata": {},
      "outputs": [
        {
          "data": {
            "text/plain": [
              "AIMessage(content='Sí, tenemos algunas opciones veganas, como pasta con verduras de temporada y pizza vegana.', additional_kwargs={}, response_metadata={'prompt_feedback': {'block_reason': 0, 'safety_ratings': []}, 'finish_reason': 'STOP', 'model_name': 'gemini-2.0-flash', 'safety_ratings': []}, id='run--412c45d6-93b0-476d-9a67-9fc461b5ef94-0', usage_metadata={'input_tokens': 44, 'output_tokens': 19, 'total_tokens': 63, 'input_token_details': {'cache_read': 0}})"
            ]
          },
          "execution_count": 5,
          "metadata": {},
          "output_type": "execute_result"
        }
      ],
      "source": [
        "from langchain_google_genai import ChatGoogleGenerativeAI\n",
        "\n",
        "llm = ChatGoogleGenerativeAI(\n",
        "    model=\"gemini-2.0-flash\",\n",
        "    api_key=os.getenv('GOOGLE_API_KEY'))\n",
        "\n",
        "llm.invoke([\n",
        "        (\"system\",  \"Eres un asistente útil especializado en proporcionar información sobre el Restaurante Italiano BellaVista.\"),\n",
        "        (\"human\",  \"¿Qué hay en el menú?\"),\n",
        "        (\"ai\",  \"BellaVista ofrece una variedad de platos italianos que incluyen pasta, pizza y mariscos.\"),\n",
        "        (\"human\",  \"¿Tienen opciones veganas?\")\n",
        "    ])"
      ]
    },
    {
      "cell_type": "markdown",
      "id": "a378c861",
      "metadata": {},
      "source": [
        "Un forma alternativa de enviar mensajes."
      ]
    },
    {
      "cell_type": "code",
      "execution_count": 11,
      "id": "34d6caeb",
      "metadata": {},
      "outputs": [
        {
          "data": {
            "text/plain": [
              "AIMessage(content='Sí, BellaVista ofrece varias opciones veganas.', additional_kwargs={}, response_metadata={'prompt_feedback': {'block_reason': 0, 'safety_ratings': []}, 'finish_reason': 'STOP', 'model_name': 'gemini-2.0-flash', 'safety_ratings': []}, id='run--03342b5b-0e85-43e5-a040-107af1a95acf-0', usage_metadata={'input_tokens': 43, 'output_tokens': 10, 'total_tokens': 53, 'input_token_details': {'cache_read': 0}})"
            ]
          },
          "execution_count": 11,
          "metadata": {},
          "output_type": "execute_result"
        }
      ],
      "source": [
        "from langchain.schema import SystemMessage, HumanMessage, AIMessage\n",
        "\n",
        "messages = [\n",
        "    SystemMessage(content=\"Eres un asistente útil especializado en proporcionar información sobre el Restaurante Italiano BellaVista.\"),\n",
        "    HumanMessage(content=\"¿Cuál es el menú?\"),\n",
        "    AIMessage(content=\"BellaVista ofrece una variedad de platos italianos que incluyen pasta, pizza y mariscos.\"),\n",
        "    HumanMessage(content=\"¿Tienen opciones veganas?\")\n",
        "]\n",
        "\n",
        "llm_result = llm.invoke(input=messages)\n",
        "llm_result"
      ]
    },
    {
      "cell_type": "markdown",
      "id": "44f4b32a",
      "metadata": {},
      "source": [
        "Los mensajes se pueden eviar en `batch`"
      ]
    },
    {
      "cell_type": "code",
      "execution_count": 16,
      "id": "7a1696d8",
      "metadata": {},
      "outputs": [
        {
          "data": {
            "text/plain": [
              "LLMResult(generations=[[ChatGeneration(text='Haben Sie vegane Optionen?', generation_info={'finish_reason': 'STOP', 'model_name': 'gemini-2.0-flash', 'safety_ratings': []}, message=AIMessage(content='Haben Sie vegane Optionen?', additional_kwargs={}, response_metadata={'prompt_feedback': {'block_reason': 0, 'safety_ratings': []}, 'finish_reason': 'STOP', 'model_name': 'gemini-2.0-flash', 'safety_ratings': []}, id='run--4baa2ba2-3827-4e82-a089-523fea0f7fda-0', usage_metadata={'input_tokens': 16, 'output_tokens': 7, 'total_tokens': 23, 'input_token_details': {'cache_read': 0}}))], [ChatGeneration(text='Do you have vegan options?', generation_info={'finish_reason': 'STOP', 'model_name': 'gemini-2.0-flash', 'safety_ratings': []}, message=AIMessage(content='Do you have vegan options?', additional_kwargs={}, response_metadata={'prompt_feedback': {'block_reason': 0, 'safety_ratings': []}, 'finish_reason': 'STOP', 'model_name': 'gemini-2.0-flash', 'safety_ratings': []}, id='run--80f87996-e8bc-4726-b950-a29655e846c3-0', usage_metadata={'input_tokens': 17, 'output_tokens': 7, 'total_tokens': 24, 'input_token_details': {'cache_read': 0}}))]], llm_output={}, run=[RunInfo(run_id=UUID('4baa2ba2-3827-4e82-a089-523fea0f7fda')), RunInfo(run_id=UUID('80f87996-e8bc-4726-b950-a29655e846c3'))], type='LLMResult')"
            ]
          },
          "execution_count": 16,
          "metadata": {},
          "output_type": "execute_result"
        }
      ],
      "source": [
        "batch_messages = [\n",
        "    [\n",
        "        SystemMessage(content=\"Eres un asistente útil que traduce del inglés al alemán\"),\n",
        "        HumanMessage(content=\"Do you have vegan options?\")\n",
        "    ],\n",
        "    [\n",
        "        SystemMessage(content=\"Eres un asistente útil que traduce del español al inglés.\"),\n",
        "        HumanMessage(content=\"¿Tienen opciones veganas?\")\n",
        "    ],\n",
        "]\n",
        "batch_result = llm.generate(batch_messages)\n",
        "batch_result\n"
      ]
    },
    {
      "cell_type": "code",
      "execution_count": 17,
      "id": "aca2fe2a",
      "metadata": {},
      "outputs": [
        {
          "data": {
            "text/plain": [
              "['Haben Sie vegane Optionen?', 'Do you have vegan options?']"
            ]
          },
          "execution_count": 17,
          "metadata": {},
          "output_type": "execute_result"
        }
      ],
      "source": [
        "translations = [generation[0].text for generation in batch_result.generations]\n",
        "translations"
      ]
    },
    {
      "cell_type": "markdown",
      "id": "c9a0c3fb",
      "metadata": {},
      "source": [
        "### Prompt templates\n",
        "\n",
        "LangChain permite crear plantillas de prompts que pueden ser reutilizadas y parametrizadas. Esto facilita la creación de mensajes complejos y dinámicos para los modelos de lenguaje."
      ]
    },
    {
      "cell_type": "code",
      "execution_count": null,
      "id": "c46660d7",
      "metadata": {},
      "outputs": [
        {
          "data": {
            "text/plain": [
              "AIMessage(content='What do you do for a living?', additional_kwargs={}, response_metadata={'prompt_feedback': {'block_reason': 0, 'safety_ratings': []}, 'finish_reason': 'STOP', 'model_name': 'gemini-2.0-flash', 'safety_ratings': []}, id='run--636b20da-f59b-4289-b041-d12ccb8ef1f7-0', usage_metadata={'input_tokens': 21, 'output_tokens': 9, 'total_tokens': 30, 'input_token_details': {'cache_read': 0}})"
            ]
          },
          "execution_count": 21,
          "metadata": {},
          "output_type": "execute_result"
        }
      ],
      "source": [
        "from langchain.prompts.prompt import PromptTemplate\n",
        "\n",
        "TEMPLATE = \"\"\"\n",
        "Eres un asistente útil que traduce del {input_language} al {output_language}\n",
        "\"\"\"\n",
        "\n",
        "prompt_template = PromptTemplate(\n",
        "    input_variables=[\"input_language\", \"output_language\", \"text\"],\n",
        "    template=\"Eres un asistente útil que traduce del {input_language} al {output_language}. Traduce: {text}\"\n",
        ")\n",
        "\n",
        "prompt = prompt_template.format(\n",
        "    input_language=\"español\",\n",
        "    output_language=\"inglés\",\n",
        "    text=\"¿A qué te dedicas?\"\n",
        ")\n",
        "\n",
        "llm.invoke(prompt)"
      ]
    },
    {
      "cell_type": "markdown",
      "id": "d623a3e5",
      "metadata": {},
      "source": [
        "LangChain facilita la creación de prompts con ejemplo (Few Shot Prompt)"
      ]
    },
    {
      "cell_type": "code",
      "execution_count": 24,
      "id": "dbfdacdf",
      "metadata": {},
      "outputs": [
        {
          "data": {
            "text/plain": [
              "AIMessage(content='negative\\nsubject: BellaVista', additional_kwargs={}, response_metadata={'prompt_feedback': {'block_reason': 0, 'safety_ratings': []}, 'finish_reason': 'STOP', 'model_name': 'gemini-2.0-flash', 'safety_ratings': []}, id='run--7eeec0cf-2c64-4034-a759-ba4614bdee8d-0', usage_metadata={'input_tokens': 346, 'output_tokens': 7, 'total_tokens': 353, 'input_token_details': {'cache_read': 0}})"
            ]
          },
          "execution_count": 24,
          "metadata": {},
          "output_type": "execute_result"
        }
      ],
      "source": [
        "from langchain_core.prompts import FewShotPromptTemplate\n",
        "\n",
        "# Ejemplos de clasificación\n",
        "examples = [\n",
        "    {\n",
        "        \"text\": \"El restaurante BellaVista ofrece una experiencia culinaria exquisita. Los sabores son ricos y la presentación es impecable.\",\n",
        "        \"sentiment\": \"positive\",\n",
        "        \"subject\": \"BellaVista\"\n",
        "    },\n",
        "    {\n",
        "        \"text\": \"El restaurante BellaVista estuvo bien. La comida era decente, pero nada destacaba.\",\n",
        "        \"sentiment\": \"neutral\",\n",
        "        \"subject\": \"BellaVista\"\n",
        "    },\n",
        "    {\n",
        "        \"text\": \"Me decepcionó BellaVista. El servicio fue lento y los platos carecían de sabor.\",\n",
        "        \"sentiment\": \"negative\",\n",
        "        \"subject\": \"BellaVista\"\n",
        "    },\n",
        "    {\n",
        "        \"text\": \"SeoulSavor ofreció los sabores coreanos más auténticos que he probado fuera de Seúl. El kimchi estaba perfectamente fermentado y picante.\",\n",
        "        \"sentiment\": \"positive\",\n",
        "        \"subject\": \"SeoulSavor\"\n",
        "    },\n",
        "    {\n",
        "        \"text\": \"SeoulSavor estuvo bien. El bibimbap era bueno, pero el bulgogi era un poco demasiado dulce para mi gusto.\",\n",
        "        \"sentiment\": \"neutral\",\n",
        "        \"subject\": \"SeoulSavor\"\n",
        "    },\n",
        "    {\n",
        "        \"text\": \"No disfruté mi comida en SeoulSavor. El tteokbokki estaba demasiado blando y el servicio no fue atento.\",\n",
        "        \"sentiment\": \"negative\",\n",
        "        \"subject\": \"SeoulSavor\"\n",
        "    },\n",
        "    {\n",
        "        \"text\": \"MunichMeals tiene la mejor bratwurst y sauerkraut que he probado fuera de Baviera. Su ambiente de jardín de cerveza es verdaderamente auténtico.\",\n",
        "        \"sentiment\": \"positive\",\n",
        "        \"subject\": \"MunichMeals\"\n",
        "    },\n",
        "    {\n",
        "        \"text\": \"MunichMeals estuvo bien. La weisswurst estaba bien, pero he probado mejores en otros lugares.\",\n",
        "        \"sentiment\": \"neutral\",\n",
        "        \"subject\": \"MunichMeals\"\n",
        "    },\n",
        "    {\n",
        "        \"text\": \"Me decepcionó MunichMeals. La ensalada de patatas carecía de sabor y el personal parecía desinteresado.\",\n",
        "        \"sentiment\": \"negative\",\n",
        "        \"subject\": \"MunichMeals\"\n",
        "    }\n",
        "]\n",
        "\n",
        "# Plantilla para cada ejemplo\n",
        "example_prompt = PromptTemplate(\n",
        "    input_variables=[\"text\", \"sentiment\", \"subject\"],\n",
        "    template=(\n",
        "        \"text: {text}\\n\"\n",
        "        \"sentiment: {sentiment}\\n\"\n",
        "        \"subject: {subject}\\n\"\n",
        "    )\n",
        ")\n",
        "\n",
        "# Plantilla FewShot con sufijo para el nuevo caso a clasificar\n",
        "few_shot_prompt = FewShotPromptTemplate(\n",
        "    examples=examples,\n",
        "    example_prompt=example_prompt,\n",
        "    suffix=\"text: {text}\\nsentiment:\",\n",
        "    input_variables=[\"text\"]\n",
        ")\n",
        "\n",
        "# Opinión a clasificar\n",
        "nueva_opinion = \"El ambiente de BellaVista era agradable, pero la comida llegó fría y tardó mucho.\"\n",
        "\n",
        "# Formatear el prompt final\n",
        "prompt_final = few_shot_prompt.format(text=nueva_opinion)\n",
        "\n",
        "llm.invoke(prompt_final)\n"
      ]
    },
    {
      "cell_type": "markdown",
      "id": "b2d5f340",
      "metadata": {},
      "source": [
        "Los prompts se puede componer para facilitar la reutilización."
      ]
    },
    {
      "cell_type": "code",
      "execution_count": null,
      "id": "84993370",
      "metadata": {},
      "outputs": [
        {
          "name": "stdout",
          "output_type": "stream",
          "text": [
            "\n",
            "Interpreta el texto y evalúalo. Determina si el texto tiene un sentimiento positivo, neutral o negativo. Además, identifica el tema del texto en una palabra.\n",
            "\n",
            "\n",
            "\n",
            "Instrucciones de Cadena de Pensamiento:\n",
            "Comencemos evaluando una declaración. Considera: \"El restaurante BellaVista ofrece una experiencia culinaria exquisita. Los sabores son ricos y la presentación es impecable.\". ¿Cómo te hace sentir esto sobre BellaVista?\n",
            "Respuesta: Suena como una crítica positiva para BellaVista.\n",
            "\n",
            "Basado en la naturaleza positive de esa declaración, ¿cómo formatearías tu respuesta?\n",
            "Respuesta: { \"sentiment\": \"positive\", \"subject\": \"BellaVista\" }\n",
            "\n",
            "\n",
            "\n",
            "Ahora, ejecuta este proceso para el texto: \"El nuevo restaurante del centro tiene platos insípidos y el tiempo de espera es demasiado largo.\".\n",
            "\n"
          ]
        },
        {
          "data": {
            "text/plain": [
              "AIMessage(content='{ \"sentiment\": \"negative\", \"subject\": \"restaurant\" }', additional_kwargs={}, response_metadata={'prompt_feedback': {'block_reason': 0, 'safety_ratings': []}, 'finish_reason': 'STOP', 'model_name': 'gemini-2.0-flash', 'safety_ratings': []}, id='run--925951d8-12fd-4b78-a9b6-7022a6f68a08-0', usage_metadata={'input_tokens': 169, 'output_tokens': 15, 'total_tokens': 184, 'input_token_details': {'cache_read': 0}})"
            ]
          },
          "execution_count": 28,
          "metadata": {},
          "output_type": "execute_result"
        }
      ],
      "source": [
        "from langchain.prompts.pipeline import PipelinePromptTemplate\n",
        "\n",
        "# Introducción\n",
        "introduction_template = \"\"\"\n",
        "Interpreta el texto y evalúalo. Determina si el texto tiene un sentimiento positivo, neutral o negativo. Además, identifica el tema del texto en una palabra.\n",
        "\"\"\"\n",
        "introduction_prompt = PromptTemplate.from_template(introduction_template)\n",
        "\n",
        "# Ejemplo\n",
        "example_template = \"\"\"\n",
        "Instrucciones de Cadena de Pensamiento:\n",
        "Comencemos evaluando una declaración. Considera: \"{example_text}\". ¿Cómo te hace sentir esto sobre {example_subject}?\n",
        "Respuesta: {example_evaluation}\n",
        "\n",
        "Basado en la naturaleza {example_sentiment} de esa declaración, ¿cómo formatearías tu respuesta?\n",
        "Respuesta: {example_format}\n",
        "\"\"\"\n",
        "example_prompt = PromptTemplate.from_template(example_template)\n",
        "\n",
        "# Ejecución\n",
        "execution_template = \"\"\"\n",
        "Ahora, ejecuta este proceso para el texto: \"{input}\".\n",
        "\"\"\"\n",
        "execution_prompt = PromptTemplate.from_template(execution_template)\n",
        "\n",
        "# Componiendo el prompt completo\n",
        "full_template = \"\"\"{introduction}\n",
        "\n",
        "{example}\n",
        "\n",
        "{execution}\"\"\"\n",
        "full_prompt = PromptTemplate.from_template(full_template)\n",
        "\n",
        "# Prompts de Pipeline\n",
        "input_prompts = [\n",
        "    (\"introduction\", introduction_prompt),\n",
        "    (\"example\", example_prompt),\n",
        "    (\"execution\", execution_prompt)\n",
        "]\n",
        "pipeline_prompt = PipelinePromptTemplate(final_prompt=full_prompt, pipeline_prompts=input_prompts)\n",
        "\n",
        "prompt = pipeline_prompt.format(\n",
        "    example_text=\"El restaurante BellaVista ofrece una experiencia culinaria exquisita. Los sabores son ricos y la presentación es impecable.\",\n",
        "    example_subject=\"BellaVista\",\n",
        "    example_evaluation=\"Suena como una crítica positiva para BellaVista.\",\n",
        "    example_sentiment=\"positive\",\n",
        "    example_format='{ \"sentiment\": \"positive\", \"subject\": \"BellaVista\" }',\n",
        "    input=\"El nuevo restaurante del centro tiene platos insípidos y el tiempo de espera es demasiado largo.\"\n",
        ")\n",
        "\n",
        "print(prompt)\n",
        "\n",
        "llm.invoke(prompt)  \n"
      ]
    },
    {
      "cell_type": "markdown",
      "id": "723905bd",
      "metadata": {},
      "source": [
        "Los prompts se pueden almacenar en disco duro y recuperar."
      ]
    },
    {
      "cell_type": "code",
      "execution_count": 32,
      "id": "e8c83bab",
      "metadata": {},
      "outputs": [],
      "source": [
        "prompt_template = PromptTemplate(input_variables=[\"input\"], template=\"Cuéntame un chiste sobre {input}\")\n",
        "prompt_template.save(\"prompt.yaml\")\n",
        "prompt_template.save(\"prompt.json\")"
      ]
    },
    {
      "cell_type": "code",
      "execution_count": 31,
      "id": "ddef151d",
      "metadata": {},
      "outputs": [
        {
          "data": {
            "text/plain": [
              "AIMessage(content='Why did the cat join the Red Cross?\\n\\nBecause he wanted to be a first-aid kit! (First-Aid Cat!)', additional_kwargs={}, response_metadata={'prompt_feedback': {'block_reason': 0, 'safety_ratings': []}, 'finish_reason': 'STOP', 'model_name': 'gemini-2.0-flash', 'safety_ratings': []}, id='run--e756367e-0670-43e7-ab4c-4482339e008b-0', usage_metadata={'input_tokens': 6, 'output_tokens': 28, 'total_tokens': 34, 'input_token_details': {'cache_read': 0}})"
            ]
          },
          "execution_count": 31,
          "metadata": {},
          "output_type": "execute_result"
        }
      ],
      "source": [
        "from langchain.prompts import load_prompt\n",
        "\n",
        "prompt_template = load_prompt(\"prompt.yaml\")\n",
        "prompt = prompt_template.format(input=\"gatos\")\n",
        "\n",
        "llm.invoke(prompt)"
      ]
    },
    {
      "cell_type": "markdown",
      "id": "c3d05be4",
      "metadata": {},
      "source": [
        "### Chains\n",
        "\n",
        "LangChain permite crear \"cadenas\" (chains) que son secuencias de pasos que pueden incluir llamadas a modelos de lenguaje. Las cadenas pueden ser simples o complejas, y permiten orquestar el flujo de trabajo de la aplicación. La forma más sencilla de crear una cade es usar LCEL (LangChain Expression Language), que permite definir cadenas de forma declarativa."
      ]
    },
    {
      "cell_type": "code",
      "execution_count": 34,
      "id": "c8d48bfa",
      "metadata": {},
      "outputs": [
        {
          "data": {
            "text/plain": [
              "'¿Qué le dijo un helado a otro helado?\\n\\n¡Me derrito por ti!'"
            ]
          },
          "execution_count": 34,
          "metadata": {},
          "output_type": "execute_result"
        }
      ],
      "source": [
        "from langchain_core.prompts import ChatPromptTemplate\n",
        "from langchain_core.output_parsers import StrOutputParser\n",
        "\n",
        "prompt = ChatPromptTemplate.from_template(\"cuéntame un chiste corto sobre {topic}\")\n",
        "output_parser = StrOutputParser()\n",
        "\n",
        "chain = prompt | llm | output_parser\n",
        "\n",
        "chain.invoke({\"topic\": \"helado\"})"
      ]
    },
    {
      "cell_type": "code",
      "execution_count": 35,
      "id": "cfd68074",
      "metadata": {},
      "outputs": [
        {
          "data": {
            "text/plain": [
              "{'x': {'input': 'hello', 'input2': 'goodbye'},\n",
              " 'y': {'input': 'hello', 'input2': 'goodbye'}}"
            ]
          },
          "execution_count": 35,
          "metadata": {},
          "output_type": "execute_result"
        }
      ],
      "source": [
        "from langchain_core.runnables import RunnablePassthrough, RunnableLambda, RunnableParallel\n",
        "\n",
        "chain = RunnableParallel({\"x\": RunnablePassthrough(), \"y\": RunnablePassthrough()})\n",
        "chain.invoke({\"input\": \"hello\", \"input2\": \"goodbye\"})\n"
      ]
    },
    {
      "cell_type": "markdown",
      "id": "fe74ef37",
      "metadata": {},
      "source": [
        "### Callbacks\n",
        "\n",
        "LangChain permite registrar callbacks para monitorear y depurar el flujo de trabajo de las cadenas. Los callbacks pueden ser utilizados para registrar información, manejar errores o realizar acciones específicas en diferentes etapas del proceso."
      ]
    },
    {
      "cell_type": "code",
      "execution_count": 37,
      "id": "4c77c636",
      "metadata": {},
      "outputs": [
        {
          "name": "stdout",
          "output_type": "stream",
          "text": [
            "\n",
            "\n",
            "\u001b[1m> Entering new RunnableSequence chain...\u001b[0m\n",
            "\n",
            "\n",
            "\u001b[1m> Entering new ChatPromptTemplate chain...\u001b[0m\n",
            "\n",
            "\u001b[1m> Finished chain.\u001b[0m\n",
            "\n",
            "\u001b[1m> Finished chain.\u001b[0m\n"
          ]
        },
        {
          "data": {
            "text/plain": [
              "AIMessage(content='Claro, aquí tienes un chiste corto sobre leones:\\n\\n¿Por qué los leones comen carne cruda? \\n\\n¡Porque no saben cocinar!', additional_kwargs={}, response_metadata={'prompt_feedback': {'block_reason': 0, 'safety_ratings': []}, 'finish_reason': 'STOP', 'model_name': 'gemini-2.0-flash', 'safety_ratings': []}, id='run--18ec4fec-f5eb-4352-9ce3-8c744b2da265-0', usage_metadata={'input_tokens': 9, 'output_tokens': 32, 'total_tokens': 41, 'input_token_details': {'cache_read': 0}})"
            ]
          },
          "execution_count": 37,
          "metadata": {},
          "output_type": "execute_result"
        }
      ],
      "source": [
        "from langchain.callbacks import StdOutCallbackHandler\n",
        "\n",
        "prompt_template = PromptTemplate(input_variables=[\"input\"], template=\"Cuéntame un chiste sobre {input}\")\n",
        "chain = prompt | llm\n",
        "\n",
        "handler = StdOutCallbackHandler()\n",
        "\n",
        "config = {\n",
        "    'callbacks' : [handler]\n",
        "}\n",
        "\n",
        "chain.invoke(input=\"león\", config=config)"
      ]
    },
    {
      "cell_type": "markdown",
      "id": "71af3b0d",
      "metadata": {},
      "source": [
        "Se puede personalizar la función del `callback`."
      ]
    },
    {
      "cell_type": "code",
      "execution_count": 38,
      "id": "2ffb0ea9",
      "metadata": {},
      "outputs": [
        {
          "name": "stdout",
          "output_type": "stream",
          "text": [
            "REPONSE:  generations=[[ChatGeneration(text='Claro, aquí tienes un chiste corto sobre pingüinos:\\n\\n¿Qué hace un pingüino con un taladro?\\n\\n¡Pingüin-taladra! ', generation_info={'finish_reason': 'STOP', 'model_name': 'gemini-2.0-flash', 'safety_ratings': []}, message=AIMessage(content='Claro, aquí tienes un chiste corto sobre pingüinos:\\n\\n¿Qué hace un pingüino con un taladro?\\n\\n¡Pingüin-taladra! ', additional_kwargs={}, response_metadata={'prompt_feedback': {'block_reason': 0, 'safety_ratings': []}, 'finish_reason': 'STOP', 'model_name': 'gemini-2.0-flash', 'safety_ratings': []}, id='run--fb17ef33-1ae3-4251-81b4-f89c332e7060-0', usage_metadata={'input_tokens': 11, 'output_tokens': 37, 'total_tokens': 48, 'input_token_details': {'cache_read': 0}}))]] llm_output={'prompt_feedback': {'block_reason': 0, 'safety_ratings': []}} run=None type='LLMResult'\n"
          ]
        },
        {
          "data": {
            "text/plain": [
              "AIMessage(content='Claro, aquí tienes un chiste corto sobre pingüinos:\\n\\n¿Qué hace un pingüino con un taladro?\\n\\n¡Pingüin-taladra! ', additional_kwargs={}, response_metadata={'prompt_feedback': {'block_reason': 0, 'safety_ratings': []}, 'finish_reason': 'STOP', 'model_name': 'gemini-2.0-flash', 'safety_ratings': []}, id='run--fb17ef33-1ae3-4251-81b4-f89c332e7060-0', usage_metadata={'input_tokens': 11, 'output_tokens': 37, 'total_tokens': 48, 'input_token_details': {'cache_read': 0}})"
            ]
          },
          "execution_count": 38,
          "metadata": {},
          "output_type": "execute_result"
        }
      ],
      "source": [
        "from langchain.callbacks.base import BaseCallbackHandler\n",
        "\n",
        "class MyCustomHandler(BaseCallbackHandler):\n",
        "    def on_llm_end(self, response, **kwargs) -> None:\n",
        "        print(f\"REPONSE: \", response)\n",
        "\n",
        "handler = MyCustomHandler()\n",
        "\n",
        "config = {\n",
        "    'callbacks' : [handler]\n",
        "}\n",
        "\n",
        "chain.invoke(input=\"pingüinos\", config=config)"
      ]
    },
    {
      "cell_type": "markdown",
      "id": "94c8b321",
      "metadata": {},
      "source": [
        "### Memoria\n",
        "\n",
        "LangChain proporciona mecanismos para gestionar el estado de la conversación y el contexto, permitiendo que las aplicaciones recuerden interacciones anteriores.\n",
        "\n",
        "Algunos de los tipos de memoria disponibles en LangChain son los siguientes:\n",
        "\n",
        "| Tipo de memoria                    | Descripción breve                                                                                         | Uso típico                                                  |\n",
        "|------------------------------------|----------------------------------------------------------------------------------------------------------|-------------------------------------------------------------|\n",
        "| ConversationBufferMemory           | Guarda toda la conversación en un buffer (lista o cadena).                                               | Chatbots, asistentes, historias interactivas                |\n",
        "| BufferWindowMemory                 | Similar al buffer, pero solo mantiene las últimas k interacciones.                                       | Limitar contexto a lo más reciente                          |\n",
        "| ConversationSummaryMemory          | Resume la conversación usando un LLM para obtener un resumen compacto y relevante.                       | Conversaciones largas o multitópico                         |\n",
        "| EntityMemory / EntityStoreMemory   | Extrae y almacena entidades (nombres, lugares, fechas) y sus atributos a lo largo de la conversación.    | Asistentes personalizados, CRM, sistemas de recomendación   |\n",
        "| VectorStore-Backed Memory          | Almacena recuerdos en una base de datos vectorial y recupera los más relevantes según el contexto.        | Recuperación de información, QA, chatbots con memoria larga |\n",
        "| DynamoDB/Momento/Redis/Upstash     | Variantes que almacenan la memoria en bases de datos externas para persistencia a largo plazo y escalabilidad. | Soporte de sesiones largas, multiusuario, persistencia real |\n",
        "| Motörhead / Zep                    | Servidores de memoria avanzados que permiten sumarización incremental, embedding, indexación y enriquecimiento de historiales. | Aplicaciones avanzadas, análisis de conversaciones           |\n"
      ]
    },
    {
      "cell_type": "code",
      "execution_count": 42,
      "id": "3ae90e74",
      "metadata": {},
      "outputs": [
        {
          "data": {
            "text/plain": [
              "{'history': 'Human: ¡Hola! Me llamo Juan.\\nAI: ¡Hola, Juan!'}"
            ]
          },
          "execution_count": 42,
          "metadata": {},
          "output_type": "execute_result"
        }
      ],
      "source": [
        "from langchain.memory import ConversationBufferMemory\n",
        "\n",
        "memory = ConversationBufferMemory()\n",
        "memory.chat_memory.add_user_message(\"¡Hola! Me llamo Juan.\")\n",
        "memory.chat_memory.add_ai_message(\"¡Hola, Juan!\")\n",
        "memory.load_memory_variables({})"
      ]
    },
    {
      "cell_type": "code",
      "execution_count": 44,
      "id": "ece9fda9",
      "metadata": {},
      "outputs": [
        {
          "name": "stdout",
          "output_type": "stream",
          "text": [
            "\n",
            "\n",
            "\u001b[1m> Entering new ConversationChain chain...\u001b[0m\n",
            "Prompt after formatting:\n",
            "\u001b[32;1m\u001b[1;3mThe following is a friendly conversation between a human and an AI. The AI is talkative and provides lots of specific details from its context. If the AI does not know the answer to a question, it truthfully says it does not know.\n",
            "\n",
            "Current conversation:\n",
            "Human: ¡Hola! Me llamo Juan.\n",
            "AI: ¡Hola, Juan!\n",
            "Human: ¿Cómo me llamo?\n",
            "AI:\u001b[0m\n",
            "\n",
            "\u001b[1m> Finished chain.\u001b[0m\n"
          ]
        },
        {
          "data": {
            "text/plain": [
              "{'input': '¿Cómo me llamo?',\n",
              " 'history': 'Human: ¡Hola! Me llamo Juan.\\nAI: ¡Hola, Juan!',\n",
              " 'response': '¡Te llamas Juan! ¡Es un placer conocerte, Juan! I will try my best to remember your name for future interactions. I have access to the current conversation and can use that information to recall things like your name.'}"
            ]
          },
          "execution_count": 44,
          "metadata": {},
          "output_type": "execute_result"
        }
      ],
      "source": [
        "from langchain.chains.conversation.base import ConversationChain\n",
        "\n",
        "conversation = ConversationChain(\n",
        "    llm=llm, verbose=True, memory=memory\n",
        ")\n",
        "conversation.invoke(input=\"¿Cómo me llamo?\")"
      ]
    },
    {
      "cell_type": "code",
      "execution_count": 45,
      "id": "b7cf9c62",
      "metadata": {},
      "outputs": [
        {
          "name": "stdout",
          "output_type": "stream",
          "text": [
            "\n",
            "\n",
            "\u001b[1m> Entering new ConversationChain chain...\u001b[0m\n",
            "Prompt after formatting:\n",
            "\u001b[32;1m\u001b[1;3mThe following is a friendly conversation between a human and an AI. The AI is talkative and provides lots of specific details from its context. If the AI does not know the answer to a question, it truthfully says it does not know.\n",
            "\n",
            "Current conversation:\n",
            "Human: ¡Hola! Me llamo Juan.\n",
            "AI: ¡Hola, Juan!\n",
            "Human: ¿Cómo me llamo?\n",
            "AI: ¡Te llamas Juan! ¡Es un placer conocerte, Juan! I will try my best to remember your name for future interactions. I have access to the current conversation and can use that information to recall things like your name.\n",
            "Human: Quiero que me llames Juanito.\n",
            "AI:\u001b[0m\n",
            "\n",
            "\u001b[1m> Finished chain.\u001b[0m\n"
          ]
        },
        {
          "data": {
            "text/plain": [
              "{'input': 'Quiero que me llames Juanito.',\n",
              " 'history': 'Human: ¡Hola! Me llamo Juan.\\nAI: ¡Hola, Juan!\\nHuman: ¿Cómo me llamo?\\nAI: ¡Te llamas Juan! ¡Es un placer conocerte, Juan! I will try my best to remember your name for future interactions. I have access to the current conversation and can use that information to recall things like your name.',\n",
              " 'response': '¡Entendido! A partir de ahora, te llamaré Juanito. ¡Espero que te guste ese nombre! I have updated my internal representation of you to reflect this preference. Please let me know if you would like to change it again. I am quite flexible, although I may sometimes slip up as I am still under development.'}"
            ]
          },
          "execution_count": 45,
          "metadata": {},
          "output_type": "execute_result"
        }
      ],
      "source": [
        "conversation.invoke(input=\"Quiero que me llames Juanito.\")"
      ]
    },
    {
      "cell_type": "code",
      "execution_count": 46,
      "id": "be257a37",
      "metadata": {},
      "outputs": [
        {
          "name": "stdout",
          "output_type": "stream",
          "text": [
            "\n",
            "\n",
            "\u001b[1m> Entering new ConversationChain chain...\u001b[0m\n",
            "Prompt after formatting:\n",
            "\u001b[32;1m\u001b[1;3mThe following is a friendly conversation between a human and an AI. The AI is talkative and provides lots of specific details from its context. If the AI does not know the answer to a question, it truthfully says it does not know.\n",
            "\n",
            "Current conversation:\n",
            "Human: ¡Hola! Me llamo Juan.\n",
            "AI: ¡Hola, Juan!\n",
            "Human: ¿Cómo me llamo?\n",
            "AI: ¡Te llamas Juan! ¡Es un placer conocerte, Juan! I will try my best to remember your name for future interactions. I have access to the current conversation and can use that information to recall things like your name.\n",
            "Human: Quiero que me llames Juanito.\n",
            "AI: ¡Entendido! A partir de ahora, te llamaré Juanito. ¡Espero que te guste ese nombre! I have updated my internal representation of you to reflect this preference. Please let me know if you would like to change it again. I am quite flexible, although I may sometimes slip up as I am still under development.\n",
            "Human: ¿Cómo me llamo?\n",
            "AI:\u001b[0m\n",
            "\n",
            "\u001b[1m> Finished chain.\u001b[0m\n"
          ]
        },
        {
          "data": {
            "text/plain": [
              "{'input': '¿Cómo me llamo?',\n",
              " 'history': 'Human: ¡Hola! Me llamo Juan.\\nAI: ¡Hola, Juan!\\nHuman: ¿Cómo me llamo?\\nAI: ¡Te llamas Juan! ¡Es un placer conocerte, Juan! I will try my best to remember your name for future interactions. I have access to the current conversation and can use that information to recall things like your name.\\nHuman: Quiero que me llames Juanito.\\nAI: ¡Entendido! A partir de ahora, te llamaré Juanito. ¡Espero que te guste ese nombre! I have updated my internal representation of you to reflect this preference. Please let me know if you would like to change it again. I am quite flexible, although I may sometimes slip up as I am still under development.',\n",
              " 'response': \"¡Te llamas Juanito! I am doing my best to remember. Is that correct? I can double-check my notes if you'd like. I'm always striving for accuracy!\"}"
            ]
          },
          "execution_count": 46,
          "metadata": {},
          "output_type": "execute_result"
        }
      ],
      "source": [
        "conversation.invoke(input=\"¿Cómo me llamo?\")"
      ]
    },
    {
      "cell_type": "markdown",
      "id": "aab55381",
      "metadata": {},
      "source": [
        "Cuando las entradas se hacen largas, quizás no queramos enviar la conversación completa, sino un resumen."
      ]
    },
    {
      "cell_type": "code",
      "execution_count": null,
      "id": "b94cf08f",
      "metadata": {},
      "outputs": [
        {
          "name": "stdout",
          "output_type": "stream",
          "text": [
            "\n",
            "\n",
            "\u001b[1m> Entering new ConversationChain chain...\u001b[0m\n",
            "Prompt after formatting:\n",
            "\u001b[32;1m\u001b[1;3mThe following is a friendly conversation between a human and an AI. The AI is talkative and provides lots of specific details from its context. If the AI does not know the answer to a question, it truthfully says it does not know.\n",
            "\n",
            "Current conversation:\n",
            "System: The human greets the user in Spanish and asks how they can help. The user asks if the AI can analyze a review. The human agrees and asks for the review. The user provides a positive review in Spanish about a salami pizza they ordered.\n",
            "Human: Muchas gracias\n",
            "AI:\u001b[0m\n",
            "\n",
            "\u001b[1m> Finished chain.\u001b[0m\n"
          ]
        },
        {
          "data": {
            "text/plain": [
              "{'input': 'Muchas gracias',\n",
              " 'history': 'System: The human greets the user in Spanish and asks how they can help. The user asks if the AI can analyze a review. The human agrees and asks for the review. The user provides a positive review in Spanish about a salami pizza they ordered.',\n",
              " 'response': 'De nada! I\\'m glad I could help. So, that salami pizza review... it sounds delicious! Based on your description, here\\'s a quick breakdown of what I can analyze:\\n\\n*   **Sentiment Analysis:** I can definitely confirm that the review is overwhelmingly positive. Words like \"deliciosa\" and the general enthusiasm point to a very happy customer.\\n\\n*   **Aspect-Based Sentiment Analysis (ABSA):** I could break down the review to identify specific aspects the customer liked. For example:\\n\\n    *   **Food:** The salami pizza itself is the primary focus, and the sentiment is positive.\\n    *   **Taste/Flavor:** \"Deliciosa\" indicates a positive sentiment towards the taste.\\n    *   **Ingredients:** While not explicitly mentioned, \"salami\" being highlighted suggests the quality or type of salami was pleasing.\\n\\n*   **Keywords:** Obvious keywords include \"pizza,\" \"salami,\" and \"deliciosa.\" I could also identify less obvious keywords depending on the context you want to extract.\\n\\nIs there anything specific you\\'d like me to do with the review now that I have it? For example, would you like me to generate a summary of the review, or compare it to other reviews? Let me know!'}"
            ]
          },
          "execution_count": 49,
          "metadata": {},
          "output_type": "execute_result"
        }
      ],
      "source": [
        "from langchain.memory import ConversationSummaryBufferMemory\n",
        "\n",
        "review = \"Pedí Pizza Salami por 9.99$ y ¡estaba increíble! \\\n",
        "La pizza fue entregada a tiempo y todavía estaba caliente cuando la recibí. \\\n",
        "La masa era fina y crujiente, y los ingredientes eran frescos y sabrosos. \\\n",
        "El Salami estaba bien cocido y complementaba el queso perfectamente. \\\n",
        "El precio era razonable y creo que obtuve el valor de mi dinero. \\\n",
        "En general, estoy muy satisfecho con mi pedido y recomendaría esta pizzería a otros.\"\n",
        "\n",
        "summary_memory = ConversationSummaryBufferMemory(llm=llm, max_token_limit=100) # Si el token es 1000, no se creará ningún resumen\n",
        "summary_memory.save_context(\n",
        "    {\"input\": \"Hola, ¿cómo puedo ayudarte hoy?\"},\n",
        "    {\"output\": \"¿Podrías analizar una reseña por favor?\"},\n",
        ")\n",
        "summary_memory.save_context(\n",
        "    {\"input\": \"Claro, con gusto. ¿Podrías proporcionar la reseña?\"},\n",
        "    {\"output\": f\"{review}\"},\n",
        ")\n",
        "\n",
        "conversation = ConversationChain(\n",
        "    llm=llm, verbose=True, memory=summary_memory\n",
        ")\n",
        "\n",
        "conversation.invoke(input=\"Muchas gracias\")\n"
      ]
    },
    {
      "cell_type": "markdown",
      "id": "897ea56b",
      "metadata": {},
      "source": [
        "### Tools\n",
        "\n",
        "LangChain permite definir herramientas que pueden ser utilizadas por los modelos de lenguaje para realizar acciones específicas, como consultar bases de datos, llamar a APIs externas o ejecutar código. Estas herramientas pueden ser integradas en las cadenas y utilizadas por los agentes para tomar decisiones informadas."
      ]
    },
    {
      "cell_type": "markdown",
      "id": "0c834fbe",
      "metadata": {},
      "source": [
        "Sin tools, el modelo no puede responder a esta pregunta."
      ]
    },
    {
      "cell_type": "code",
      "execution_count": 56,
      "id": "3914c2eb",
      "metadata": {},
      "outputs": [
        {
          "data": {
            "text/plain": [
              "AIMessage(content='Lo siento, no tengo acceso a información meteorológica en tiempo real. Sin embargo, puedes consultar el tiempo actual en Majadahonda en las siguientes páginas web:\\n\\n*   **El Tiempo.es:** [https://www.eltiempo.es/majadahonda.html](https://www.eltiempo.es/majadahonda.html)\\n*   **Meteored:** [https://www.tiempo.com/majadahonda.htm](https://www.tiempo.com/majadahonda.htm)\\n\\nTambién puedes buscar en Google \"tiempo en Majadahonda\" y te aparecerá la información directamente en los resultados de búsqueda.', additional_kwargs={}, response_metadata={'prompt_feedback': {'block_reason': 0, 'safety_ratings': []}, 'finish_reason': 'STOP', 'model_name': 'gemini-2.0-flash', 'safety_ratings': []}, id='run--e55b456f-32a2-4901-99cf-82043241aa30-0', usage_metadata={'input_tokens': 11, 'output_tokens': 135, 'total_tokens': 146, 'input_token_details': {'cache_read': 0}})"
            ]
          },
          "execution_count": 56,
          "metadata": {},
          "output_type": "execute_result"
        }
      ],
      "source": [
        "llm.invoke(\"¿Qué tiempo hace en Majadahonda ahora mismo?\")"
      ]
    },
    {
      "cell_type": "code",
      "execution_count": 53,
      "id": "9f5f4b7c",
      "metadata": {},
      "outputs": [],
      "source": [
        "from langchain_core.tools import tool\n",
        "\n",
        "\n",
        "@tool\n",
        "def fake_weather_api(city: str) -> str:\n",
        "    \"\"\"\n",
        "    Verifica el clima en una ciudad especificada.\n",
        "\n",
        "    Args:\n",
        "        city (str): El nombre de la ciudad donde quieres verificar el clima.\n",
        "\n",
        "    Returns:\n",
        "        str: Una descripción del clima actual en la ciudad especificada.\n",
        "    \"\"\"\n",
        "    return \"Soleado, 22°C\"\n",
        "\n",
        "\n",
        "@tool\n",
        "def outdoor_seating_availability(city: str) -> str:\n",
        "    \"\"\"\n",
        "    Verifica si hay asientos al aire libre disponibles en un restaurante específico en una ciudad dada.\n",
        "\n",
        "    Args:\n",
        "        city (str): El nombre de la ciudad donde quieres verificar la disponibilidad de asientos al aire libre.\n",
        "\n",
        "    Returns:\n",
        "        str: Un mensaje indicando si hay asientos al aire libre disponibles o no.\n",
        "    \"\"\"\n",
        "    return \"Asientos al aire libre disponibles.\"\n",
        "\n",
        "\n",
        "tools = [fake_weather_api, outdoor_seating_availability]"
      ]
    },
    {
      "cell_type": "code",
      "execution_count": 54,
      "id": "ae056f03",
      "metadata": {},
      "outputs": [],
      "source": [
        "llm_with_tools = llm.bind_tools(tools)"
      ]
    },
    {
      "cell_type": "code",
      "execution_count": null,
      "id": "32ba4654",
      "metadata": {},
      "outputs": [
        {
          "data": {
            "text/plain": [
              "AIMessage(content='', additional_kwargs={'function_call': {'name': 'fake_weather_api', 'arguments': '{\"city\": \"Majadahonda\"}'}}, response_metadata={'prompt_feedback': {'block_reason': 0, 'safety_ratings': []}, 'finish_reason': 'STOP', 'model_name': 'gemini-2.0-flash', 'safety_ratings': []}, id='run--3165abbc-d12f-413d-8ddd-c90db7db3303-0', tool_calls=[{'name': 'fake_weather_api', 'args': {'city': 'Majadahonda'}, 'id': '94df6c5d-bb09-45ca-8f47-0605cae70881', 'type': 'tool_call'}], usage_metadata={'input_tokens': 141, 'output_tokens': 9, 'total_tokens': 150, 'input_token_details': {'cache_read': 0}})"
            ]
          },
          "execution_count": 58,
          "metadata": {},
          "output_type": "execute_result"
        }
      ],
      "source": [
        "results = llm_with_tools.invoke(\"¿Qué tiempo hace en Majadahonda ahora mismo?\")\n",
        "results"
      ]
    },
    {
      "cell_type": "markdown",
      "id": "2a246bad",
      "metadata": {},
      "source": [
        "El modelo puede pedir que se invoquen varias herramientas."
      ]
    },
    {
      "cell_type": "code",
      "execution_count": 59,
      "id": "4b41cdd2",
      "metadata": {},
      "outputs": [
        {
          "data": {
            "text/plain": [
              "AIMessage(content='', additional_kwargs={'function_call': {'name': 'outdoor_seating_availability', 'arguments': '{\"city\": \"Majadahonda\"}'}}, response_metadata={'prompt_feedback': {'block_reason': 0, 'safety_ratings': []}, 'finish_reason': 'STOP', 'model_name': 'gemini-2.0-flash', 'safety_ratings': []}, id='run--32671f9c-04cb-4ae4-b72a-368576095fdb-0', tool_calls=[{'name': 'fake_weather_api', 'args': {'city': 'Majadahonda'}, 'id': 'c92de3a6-3fcd-4764-beb5-7c9b3b417e3c', 'type': 'tool_call'}, {'name': 'outdoor_seating_availability', 'args': {'city': 'Majadahonda'}, 'id': 'ff953045-2d17-42fd-af3e-469c85598ff1', 'type': 'tool_call'}], usage_metadata={'input_tokens': 149, 'output_tokens': 19, 'total_tokens': 168, 'input_token_details': {'cache_read': 0}})"
            ]
          },
          "execution_count": 59,
          "metadata": {},
          "output_type": "execute_result"
        }
      ],
      "source": [
        "results = llm_with_tools.invoke(\"¿Qué tiempo hace en Majadahonda ahora mismo? ¿Hay asientos al aire libre disponibles?\")\n",
        "results"
      ]
    },
    {
      "cell_type": "markdown",
      "id": "533670fd",
      "metadata": {},
      "source": [
        "Otra forma de hacerlo."
      ]
    },
    {
      "cell_type": "code",
      "execution_count": 60,
      "id": "283cd8bb",
      "metadata": {},
      "outputs": [
        {
          "data": {
            "text/plain": [
              "AIMessage(content='', additional_kwargs={'function_call': {'name': 'outdoor_seating_availability', 'arguments': '{\"city\": \"Majadahonda\"}'}}, response_metadata={'prompt_feedback': {'block_reason': 0, 'safety_ratings': []}, 'finish_reason': 'STOP', 'model_name': 'gemini-2.0-flash', 'safety_ratings': []}, id='run--4b55fee4-6ab9-4b67-811c-886177b2da0b-0', tool_calls=[{'name': 'fake_weather_api', 'args': {'city': 'Majadahonda'}, 'id': '01ae8b2d-c3d2-42bb-a388-ac816ba691f0', 'type': 'tool_call'}, {'name': 'outdoor_seating_availability', 'args': {'city': 'Majadahonda'}, 'id': '8a6d7e71-0da0-46d5-b2a0-b8409f192728', 'type': 'tool_call'}], usage_metadata={'input_tokens': 149, 'output_tokens': 19, 'total_tokens': 168, 'input_token_details': {'cache_read': 0}})"
            ]
          },
          "execution_count": 60,
          "metadata": {},
          "output_type": "execute_result"
        }
      ],
      "source": [
        "from langchain_core.messages import HumanMessage, ToolMessage\n",
        "\n",
        "messages = [\n",
        "    HumanMessage(\n",
        "        \"¿Qué tiempo hace en Majadahonda ahora mismo? ¿Hay asientos al aire libre disponibles?\"\n",
        "    )\n",
        "]\n",
        "llm_output = llm_with_tools.invoke(messages)\n",
        "llm_output\n"
      ]
    },
    {
      "cell_type": "markdown",
      "id": "d9873331",
      "metadata": {},
      "source": [
        "Añadimos la respuesta del modelo."
      ]
    },
    {
      "cell_type": "code",
      "execution_count": 62,
      "id": "7b6ab2b5",
      "metadata": {},
      "outputs": [],
      "source": [
        "messages.append(llm_output)"
      ]
    },
    {
      "cell_type": "markdown",
      "id": "7abf8718",
      "metadata": {},
      "source": [
        "Somos nosotros los que llamamos a las tools y proporcionamos el resultado al modelo."
      ]
    },
    {
      "cell_type": "code",
      "execution_count": 61,
      "id": "e7cc84aa",
      "metadata": {},
      "outputs": [],
      "source": [
        "tool_mapping = {\n",
        "    \"fake_weather_api\": fake_weather_api,\n",
        "    \"outdoor_seating_availability\": outdoor_seating_availability,\n",
        "}"
      ]
    },
    {
      "cell_type": "code",
      "execution_count": 63,
      "id": "f0b46755",
      "metadata": {},
      "outputs": [],
      "source": [
        "from langchain_core.messages import ToolMessage\n",
        "\n",
        "for tool_call in llm_output.tool_calls:\n",
        "    tool = tool_mapping[tool_call[\"name\"].lower()]\n",
        "    tool_output = tool.invoke(tool_call[\"args\"])\n",
        "    messages.append(ToolMessage(tool_output, tool_call_id=tool_call[\"id\"]))"
      ]
    },
    {
      "cell_type": "code",
      "execution_count": 64,
      "id": "8b029866",
      "metadata": {},
      "outputs": [
        {
          "data": {
            "text/plain": [
              "[HumanMessage(content='¿Qué tiempo hace en Majadahonda ahora mismo? ¿Hay asientos al aire libre disponibles?', additional_kwargs={}, response_metadata={}),\n",
              " AIMessage(content='', additional_kwargs={'function_call': {'name': 'outdoor_seating_availability', 'arguments': '{\"city\": \"Majadahonda\"}'}}, response_metadata={'prompt_feedback': {'block_reason': 0, 'safety_ratings': []}, 'finish_reason': 'STOP', 'model_name': 'gemini-2.0-flash', 'safety_ratings': []}, id='run--4b55fee4-6ab9-4b67-811c-886177b2da0b-0', tool_calls=[{'name': 'fake_weather_api', 'args': {'city': 'Majadahonda'}, 'id': '01ae8b2d-c3d2-42bb-a388-ac816ba691f0', 'type': 'tool_call'}, {'name': 'outdoor_seating_availability', 'args': {'city': 'Majadahonda'}, 'id': '8a6d7e71-0da0-46d5-b2a0-b8409f192728', 'type': 'tool_call'}], usage_metadata={'input_tokens': 149, 'output_tokens': 19, 'total_tokens': 168, 'input_token_details': {'cache_read': 0}}),\n",
              " ToolMessage(content='Soleado, 22°C', tool_call_id='01ae8b2d-c3d2-42bb-a388-ac816ba691f0'),\n",
              " ToolMessage(content='Asientos al aire libre disponibles.', tool_call_id='8a6d7e71-0da0-46d5-b2a0-b8409f192728')]"
            ]
          },
          "execution_count": 64,
          "metadata": {},
          "output_type": "execute_result"
        }
      ],
      "source": [
        "messages"
      ]
    },
    {
      "cell_type": "code",
      "execution_count": 65,
      "id": "1d333994",
      "metadata": {},
      "outputs": [
        {
          "data": {
            "text/plain": [
              "AIMessage(content='El tiempo en Majadahonda es soleado, 22°C. Hay asientos al aire libre disponibles.', additional_kwargs={}, response_metadata={'prompt_feedback': {'block_reason': 0, 'safety_ratings': []}, 'finish_reason': 'STOP', 'model_name': 'gemini-2.0-flash', 'safety_ratings': []}, id='run--44af3e03-518b-443d-85dc-2b878dcdb157-0', usage_metadata={'input_tokens': 196, 'output_tokens': 24, 'total_tokens': 220, 'input_token_details': {'cache_read': 0}})"
            ]
          },
          "execution_count": 65,
          "metadata": {},
          "output_type": "execute_result"
        }
      ],
      "source": [
        "llm_with_tools.invoke(messages)"
      ]
    },
    {
      "cell_type": "markdown",
      "id": "b9ddfa26",
      "metadata": {},
      "source": [
        "### RAG\n",
        "\n",
        "LangChain facilita la implementación de Retrieval-Augmented Generation (RAG), que combina la generación de texto con la recuperación de información relevante de bases de datos o documentos."
      ]
    },
    {
      "cell_type": "code",
      "execution_count": null,
      "id": "mJgkudoU04Be",
      "metadata": {
        "id": "mJgkudoU04Be"
      },
      "outputs": [],
      "source": [
        "from google.colab import userdata\n",
        "import os\n",
        "\n",
        "os.environ[\"KAGGLE_USERNAME\"] = userdata.get('KAGGLE_USERNAME')\n",
        "os.environ[\"KAGGLE_KEY\"] = userdata.get('KAGGLE_KEY')"
      ]
    },
    {
      "cell_type": "code",
      "execution_count": null,
      "id": "Oveyv0Dg1wML",
      "metadata": {
        "colab": {
          "base_uri": "https://localhost:8080/"
        },
        "id": "Oveyv0Dg1wML",
        "outputId": "bbfc88fc-0193-4d9a-e14b-b2bd07202a59"
      },
      "outputs": [],
      "source": [
        "!kaggle datasets download -d kotartemiy/topic-labeled-news-dataset"
      ]
    },
    {
      "cell_type": "code",
      "execution_count": null,
      "id": "oe_jYdTN13fX",
      "metadata": {
        "id": "oe_jYdTN13fX"
      },
      "outputs": [],
      "source": [
        "import zipfile\n",
        "\n",
        "# Define the path to your zip file\n",
        "file_path = '/content/topic-labeled-news-dataset.zip'\n",
        "\n",
        "with zipfile.ZipFile(file_path, 'r') as zip_ref:\n",
        "    zip_ref.extractall('/content/datasets')"
      ]
    },
    {
      "cell_type": "code",
      "execution_count": null,
      "id": "MJO59UJM2AW9",
      "metadata": {
        "id": "MJO59UJM2AW9"
      },
      "outputs": [],
      "source": [
        "import pandas as pd\n",
        "\n",
        "df = pd.read_csv('/content/datasets/labelled_newscatcher_dataset.csv', sep=';')"
      ]
    },
    {
      "cell_type": "code",
      "execution_count": null,
      "id": "Rp14oAK32F1U",
      "metadata": {
        "id": "Rp14oAK32F1U"
      },
      "outputs": [],
      "source": [
        "MAX_NEWS = 1000\n",
        "DOCUMENT=\"title\"\n",
        "TOPIC=\"topic\"\n",
        "\n",
        "subset_news = df.head(MAX_NEWS)"
      ]
    },
    {
      "cell_type": "markdown",
      "id": "Wg7yINI62ZMu",
      "metadata": {
        "id": "Wg7yINI62ZMu"
      },
      "source": [
        "Aunque hemos leído en `dataset` en Pandas, LangChain puede cargar directamente el fichero `csv` con la librería `document_loader` y cargarlo en ChromaDB:"
      ]
    },
    {
      "cell_type": "code",
      "execution_count": null,
      "id": "hVyQO6fc275y",
      "metadata": {
        "colab": {
          "base_uri": "https://localhost:8080/"
        },
        "id": "hVyQO6fc275y",
        "outputId": "673e93d6-a9d0-4bc4-98ec-e840abb1ea9c"
      },
      "outputs": [],
      "source": [
        "!pip install -q langchain\n",
        "!pip install -q langchain_community"
      ]
    },
    {
      "cell_type": "code",
      "execution_count": null,
      "id": "YXp06hQV2xCL",
      "metadata": {
        "id": "YXp06hQV2xCL"
      },
      "outputs": [],
      "source": [
        "from langchain.document_loaders import DataFrameLoader\n",
        "from langchain.vectorstores import Chroma"
      ]
    },
    {
      "cell_type": "markdown",
      "id": "xqn8MUun4v-m",
      "metadata": {
        "id": "xqn8MUun4v-m"
      },
      "source": [
        "Creamos el`loader`, indicando la fuente de datos y el nombre de la columna en el `dataframe` que contiene la información."
      ]
    },
    {
      "cell_type": "code",
      "execution_count": null,
      "id": "bDruWtrK5DnG",
      "metadata": {
        "id": "bDruWtrK5DnG"
      },
      "outputs": [],
      "source": [
        "df_loader = DataFrameLoader(subset_news, page_content_column=DOCUMENT)"
      ]
    },
    {
      "cell_type": "markdown",
      "id": "dsb7rAxl5P27",
      "metadata": {
        "id": "dsb7rAxl5P27"
      },
      "source": [
        "Cargamos y mostramos el documento. Se observa que usa como `metadata` el resto de campos."
      ]
    },
    {
      "cell_type": "code",
      "execution_count": null,
      "id": "7IyNmBDM5T0c",
      "metadata": {
        "colab": {
          "base_uri": "https://localhost:8080/",
          "height": 86
        },
        "id": "7IyNmBDM5T0c",
        "outputId": "b869b7d1-cc32-459e-b487-ec27ffdecd72"
      },
      "outputs": [],
      "source": [
        "df_document = df_loader.load()\n",
        "display(df_document[:2])"
      ]
    },
    {
      "cell_type": "markdown",
      "id": "YOJoDX3m563V",
      "metadata": {
        "id": "YOJoDX3m563V"
      },
      "source": [
        "Ahora generamos los embeddings. Para ello, será necesario importar **CharacterTextSplitter:** para agrupar la información en `chunks`.\n"
      ]
    },
    {
      "cell_type": "code",
      "execution_count": null,
      "id": "GDTaDj-g6MT9",
      "metadata": {
        "id": "GDTaDj-g6MT9"
      },
      "outputs": [],
      "source": [
        "from langchain.text_splitter import CharacterTextSplitter"
      ]
    },
    {
      "cell_type": "markdown",
      "id": "DvPtYzSy6wEm",
      "metadata": {
        "id": "DvPtYzSy6wEm"
      },
      "source": [
        "No existe una forma 100% correcta de dividir los documentos en chunks). La clave está en equilibrar el contexto y el uso de memoria:\n",
        "\n",
        "- **Fragmentos más grandes:** Proporcionan al modelo más contexto, lo que puede llevar a una mejor comprensión y respuestas más precisas. Sin embargo, consumen más memoria.\n",
        "- **Fragmentos más pequeños:** Reducen el uso de memoria, pero pueden limitar la comprensión contextual del modelo si la información queda demasiado fragmentada.\n",
        "\n",
        "Se ha decidido usar un tamaño medio de 250 caracteres para cada `chunk` con un `overloap` de 10 caracteres. Es decir, los 10 caracteres finales de un `chunk`, serán los 10 primeros del siguiente.\n"
      ]
    },
    {
      "cell_type": "code",
      "execution_count": null,
      "id": "rX09os0k7iTF",
      "metadata": {
        "colab": {
          "base_uri": "https://localhost:8080/",
          "height": 86
        },
        "id": "rX09os0k7iTF",
        "outputId": "ebec5236-7dd6-4b5c-9d53-69fbf28ca10d"
      },
      "outputs": [],
      "source": [
        "text_splitter = CharacterTextSplitter(chunk_size=250, chunk_overlap=10)\n",
        "texts = text_splitter.split_documents(df_document)\n",
        "display(texts[:2])"
      ]
    },
    {
      "cell_type": "markdown",
      "id": "B67KKpyK74Bj",
      "metadata": {
        "id": "B67KKpyK74Bj"
      },
      "source": [
        "Ahora creamos los `embeddings`. Se puede usar directamente LangChain para hacer esto."
      ]
    },
    {
      "cell_type": "code",
      "execution_count": null,
      "id": "L7fq29aK8Cbv",
      "metadata": {
        "colab": {
          "base_uri": "https://localhost:8080/",
          "height": 458,
          "referenced_widgets": [
            "ba13da21a40e4f27aa787fb69ce7ad97",
            "3f5ed19078104502a7245a0b59a02a28",
            "c9f5cc7252454eb4a58ae054355586f2",
            "5a2541dbd21e4dffbe9652946f097078",
            "9e8de3c7b81d40ab802c22f26d13e921",
            "beea5f88841c41ae834fa4259626ab60",
            "f5dfcde47aee4b398dcdacd36888df59",
            "dff2b55eac5e49149142e39fc75870a6",
            "12a607abf4fd43dc83aeb16729691459",
            "03703e6de116439992d029f32a9597db",
            "2fd11b35be614d528df963c16e32e501",
            "f7d07f22be25487c9197545d13288933",
            "f96ed3ea50f745eb82d7e7280e274b6d",
            "7a1f648013654312b09af92690e2f827",
            "3f77bcac5eaf40c39f83c36f9a98aad3",
            "0bf203538d5148728077dad4c79d07f2",
            "1b58c33f23414aacae3efb5875d7f6ba",
            "177028efa747491394df9dbacdbea5b0",
            "c2b050e8868443faabc2b66ebb60a500",
            "f003d1cd607c4b1e824769dbc7ffa7f3",
            "eab3da7df57540aa913af816b85abacf",
            "2c978f4173f84bd58558a3f3e9ea17cf",
            "6996254bdaef434bbbc21440644dbccf",
            "1ac039745ec44ad8af8cef4f68aacc83",
            "72951793ad254285aeb2e1e1acba7a76",
            "04b30c353bad468ea0ed27a30703ef56",
            "80c7acdfb93544f9adf3b352684bdf1d",
            "73a4b4df27644cfa9d30c5c91a773ba6",
            "f6b3c7d0a6b34b19833209b19b4b1c71",
            "5804b1b858954b62a7af7a058790d733",
            "d7a6a852d1a14e2ca157d50943b04748",
            "bc0570fb9655474da5b7b9800be54ec5",
            "156453925ca54d0dae07e4aad52137c1",
            "b1dd816acb334775b7fbca1e7a4b3454",
            "74d131182a994b9a89b8e0263494bd94",
            "eb9edd47aad64847a4af71fcb758cb21",
            "bc3d726f3612435587302d2fae02e639",
            "1102e8bb4f2248e8bca5d595f6599ab1",
            "6d054f51755049ddb31ad97e3e361290",
            "0ffd39003cd641b6b80cbec18c47007d",
            "fb9abcb214734888b5ceb2948d6095ec",
            "ba94dea6571b4248b591e7c34418c5e6",
            "0942714ebf884f29b9ed17b7bd69a1b7",
            "11e059dfd286439fa4ab4cdebd61e2ef",
            "ea0e93abed1e4857b2e443ffaafde951",
            "c0c5a7c22dc2461fae450a5f5bea7237",
            "14a31d73c41141a383e260fd2747bb77",
            "7ffc28c3b8194f7f862860f5ed173083",
            "7584ab4d21a04670866901960ef68332",
            "918a0122f0ae4e19b4bff370ac4278c6",
            "b61cfd16434c4a409cd679acdf13949e",
            "d1352b78aeee4b5bb03a22dc593f2a7e",
            "fe8cdc21ddc441e48d8ace86c46fda35",
            "e8964086d5d748ecb598bdd55ed561d5",
            "0263b9e3493445ea81b5ac19c2d9798f",
            "b81d8d0091db419c94e0e6d0b7210021",
            "7c0cc76e33f24757bdbdaa5374297c0d",
            "5c53afd79675403c9f210ac7796f3064",
            "e67587ff910c44bab88411682d03ec64",
            "ef56d19701934f63ae818e358ea15fba",
            "30eeacce3c2644fa8aae20729d910111",
            "32526099902f4c36a285c65239181f2f",
            "224e25d730cd452585c4826516a2aa5a",
            "3fa4cd62426546ac931df26f4968e1e4",
            "1572fe7d776745bda8b15efe6a49562a",
            "9f97cc1bbcfa4c778add5f253f99c658",
            "00115dff128b4ce491022ea616fa6169",
            "34a76f7a0a634634afbd0d00f57e7e4d",
            "f4439d866d764e1385c42a92c9483a0b",
            "cf9cb58f0ebc415483dc8db19e0bf7e9",
            "94551b393e2f49409d3367945baac152",
            "527780cb61bb44f49e49ff6a7acd8600",
            "8d63c8233d1c485b8aef856b6f19d20b",
            "2812a33744304044a05d985e59a994a3",
            "78d7c8532189452485ed6c79b770c5c5",
            "96fb6194fa4b4e7888044e5de7c8de65",
            "1fb14ab444864891829433252970a46f",
            "86b0fb74ee084c4b85a4e73d117123fc",
            "2ed3bde63dbf4655a046dd18ee7fe0a0",
            "f816064dc70442388709bbaf24494da7",
            "ff4351a8e320456c88699faffb448720",
            "d0ba88002fbe4692b6a3b5f01bb71b0e",
            "fc07eaee217a43dbb7b3983bd18d7916",
            "d31cd50957b94cbd8fa743aa9337de1a",
            "31d8793c06a74dd0a67e5a362182ce85",
            "dea997cb1ce2468e9589e97a94678abd",
            "cbcfeb235d5c4ae8a6bac55a18a4d993",
            "4f8bdba6be1f43849b6ca979858d3de1",
            "e49139b98015422ea7b85cbdd5af1637",
            "8ad4d6a72007484ba9c7fe12113720de",
            "85efd174d8ad4518b81a7c9338c43338",
            "d30a8fe7ac664733836552108e2dc7a1",
            "a3dcc93ccd19471994caf4848374df02",
            "1c8847fa665847259a5ee939b464ea58",
            "3139f074dd6842f38125ab012fca9e0e",
            "150bdb4dfe1544ec8f39ab68d915a403",
            "51749a97108a419d852b0b92b7609c3d",
            "5bbff26a36a54fe99161ca6fbcc5b597",
            "bf361c131e324f4e8389d4cd6afe90b5",
            "a87d879961614cc4bbf72b074a5f0db8",
            "ee912cb260fe4867bfaee66a13f57390",
            "03f8eaed886e49839f1ddd065a2fbcdb",
            "55cbe1a8853f4f74b9a3ccab10dd88cc",
            "f56e0f02049745f991c3f623d07cffb8",
            "6ef140f7638647718d6ccc7abe241073",
            "2ab232182d134d349cc23fcbf454a2f4",
            "5f4b72fc2c034e38829246605f1144e2",
            "1775e65515f74245b5598d1350260afc",
            "0f1f02ca9dd24aab8834d92344f59f78",
            "997714216fa349ccbe0bfdd0ce82b0fb",
            "bdf8701358794a0cb44b37fac2438fa8",
            "b37726f42c10483980feb6a240475d6d",
            "e7cef2e0e54f456286944bb09db93b54",
            "3be4a27aff8349298d69a74dd4bd0cb1",
            "34e54ce984ce48a183b556676c0a0fe5",
            "8932d930231148118ca84b6d9fc93adc",
            "ee610d33e46349eeaade5a21044d442e",
            "2a92d1d1e4234c609cebabd40be9703b",
            "35bdccddd00f47549d5068f8b2bcff13",
            "94807108bffb4d0cae8675f94dff0d8f",
            "48596b517f854eab90a9645a0b4a941c"
          ]
        },
        "id": "L7fq29aK8Cbv",
        "outputId": "781c5c2a-7a97-4d13-c6f9-7ae341617c3b"
      },
      "outputs": [],
      "source": [
        "from langchain.embeddings.sentence_transformer import SentenceTransformerEmbeddings\n",
        "\n",
        "embedding_function = SentenceTransformerEmbeddings(model_name=\"all-MiniLM-L6-v2\")"
      ]
    },
    {
      "cell_type": "markdown",
      "id": "-lu0Z0tr9QTV",
      "metadata": {
        "id": "-lu0Z0tr9QTV"
      },
      "source": [
        "Creamos la base de datos. Esta instrucción también crea los índices."
      ]
    },
    {
      "cell_type": "code",
      "execution_count": null,
      "id": "EUi2_CSo9kwB",
      "metadata": {
        "colab": {
          "base_uri": "https://localhost:8080/"
        },
        "id": "EUi2_CSo9kwB",
        "outputId": "b3044395-01f6-484f-cd70-ba356d096538"
      },
      "outputs": [],
      "source": [
        "!pip install -q chromadb"
      ]
    },
    {
      "cell_type": "code",
      "execution_count": null,
      "id": "68vOnZFg9TV4",
      "metadata": {
        "id": "68vOnZFg9TV4"
      },
      "outputs": [],
      "source": [
        "chroma_db = Chroma.from_documents(\n",
        "    texts, embedding_function\n",
        ")"
      ]
    },
    {
      "cell_type": "markdown",
      "id": "7yuZ5cTd-ptU",
      "metadata": {
        "id": "7yuZ5cTd-ptU"
      },
      "source": [
        "El siguiente paso es especificar el `retriever`, que recupera información de los documentos que le proporcionemos. En este caso hace una búsqueda por proximidad de los `embbeddings` almacenados en ChromaDB. El último paso es seleccionar el modelo de lenguaje que recibirá la `pipeline` de Hugging Face."
      ]
    },
    {
      "cell_type": "code",
      "execution_count": null,
      "id": "qX9Vovzs2OLe",
      "metadata": {
        "id": "qX9Vovzs2OLe"
      },
      "outputs": [],
      "source": [
        "from langchain.chains import RetrievalQA\n",
        "from langchain.llms import HuggingFacePipeline"
      ]
    },
    {
      "cell_type": "code",
      "execution_count": null,
      "id": "OTwLm8Nv_kmJ",
      "metadata": {
        "id": "OTwLm8Nv_kmJ"
      },
      "outputs": [],
      "source": [
        "retriever = chroma_db.as_retriever()"
      ]
    },
    {
      "cell_type": "code",
      "execution_count": null,
      "id": "inzmNq1Q_1bX",
      "metadata": {
        "colab": {
          "base_uri": "https://localhost:8080/"
        },
        "id": "inzmNq1Q_1bX",
        "outputId": "105f06e6-dc06-4f16-99c4-151be0c3b02f"
      },
      "outputs": [],
      "source": [
        "model_id = \"google/flan-t5-large\"\n",
        "task=\"text2text-generation\"\n",
        "\n",
        "hf_llm = HuggingFacePipeline.from_model_id(\n",
        "    model_id=model_id,\n",
        "    task=task,\n",
        "    device_map=\"auto\",\n",
        "    pipeline_kwargs={\n",
        "        \"max_new_tokens\": 256,\n",
        "        \"repetition_penalty\":1.1, # penaliza que el modelo repita respuestas en el prompt. Parece que algunos modeos lo hacen\n",
        "    },\n",
        ")"
      ]
    },
    {
      "cell_type": "markdown",
      "id": "_1FZvUJwE4yv",
      "metadata": {
        "id": "_1FZvUJwE4yv"
      },
      "source": [
        "Ahora configuramos la  `pipeline`:"
      ]
    },
    {
      "cell_type": "code",
      "execution_count": null,
      "id": "oohgIdy3E8Q5",
      "metadata": {
        "id": "oohgIdy3E8Q5"
      },
      "outputs": [],
      "source": [
        "document_qa = RetrievalQA.from_chain_type(\n",
        "    llm=hf_llm, retriever=retriever, chain_type='stuff'\n",
        ")"
      ]
    },
    {
      "cell_type": "markdown",
      "id": "z7pSM8VmFaJb",
      "metadata": {
        "id": "z7pSM8VmFaJb"
      },
      "source": [
        "`chain_type` puede tener los siguientes valores:\n",
        "\n",
        "- **stuff:** La opción más sencilla; simplemente toma los documentos que considera apropiados y los utiliza en el prompt que se pasa al modelo.\n",
        "- **refine:** Realiza múltiples llamadas al modelo con diferentes documentos, intentando obtener una respuesta más refinada cada vez. Puede ejecutar un número elevado de llamadas al modelo, por lo que debe usarse con precaución.\n",
        "- **map_reduce:** Intenta reducir todos los documentos en uno solo, posiblemente a través de varias iteraciones. Puede comprimir y condensar los documentos para que quepan en el prompt enviado al modelo.\n",
        "- **map_rerank:** Llama al modelo para cada documento y los clasifica, devolviendo finalmente el mejor. Similar a refine, puede ser arriesgado dependiendo del número de llamadas que se prevea realizar.\n"
      ]
    },
    {
      "cell_type": "markdown",
      "id": "Kv5X0kVYF2oL",
      "metadata": {
        "id": "Kv5X0kVYF2oL"
      },
      "source": [
        "Ahora, podemos hacer la pregunta:"
      ]
    },
    {
      "cell_type": "code",
      "execution_count": null,
      "id": "MwWs9yQ2F5ST",
      "metadata": {
        "colab": {
          "base_uri": "https://localhost:8080/",
          "height": 34
        },
        "id": "MwWs9yQ2F5ST",
        "outputId": "5048453d-fa55-4ff2-f45f-49d0c62ad182"
      },
      "outputs": [],
      "source": [
        "response = document_qa.invoke(\"Can I buy a Toshiba laptop?\")\n",
        "\n",
        "display(response)"
      ]
    },
    {
      "cell_type": "markdown",
      "id": "w9gFnoj8GnpL",
      "metadata": {
        "id": "w9gFnoj8GnpL"
      },
      "source": [
        "La respuesta es correcta. No se obtiene mucha información porque el modelo usado, T5, no está específicamente preparado para la generación de texto."
      ]
    },
    {
      "cell_type": "code",
      "execution_count": null,
      "id": "KN_XuESiG2kE",
      "metadata": {
        "colab": {
          "base_uri": "https://localhost:8080/",
          "height": 52
        },
        "id": "KN_XuESiG2kE",
        "outputId": "7735b6b8-e758-4e70-bdfd-987a34ff99b0"
      },
      "outputs": [],
      "source": [
        "response = document_qa.invoke(\"Can I buy a Acer 3 laptop?\")\n",
        "\n",
        "display(response)"
      ]
    },
    {
      "cell_type": "markdown",
      "id": "d999eebd",
      "metadata": {},
      "source": [
        "### Agents\n",
        "\n",
        "LangChain permite crear agentes que pueden tomar decisiones, consultar diferentes fuentes de datos y ejecutar acciones de forma autónoma. Los agentes pueden utilizar herramientas y modelos de lenguaje para interactuar con el entorno y resolver tareas complejas."
      ]
    },
    {
      "cell_type": "markdown",
      "id": "c453d3eb",
      "metadata": {},
      "source": [
        "Los agentes pueden usar tools predefinidas."
      ]
    },
    {
      "cell_type": "code",
      "execution_count": 68,
      "id": "83e9ec90",
      "metadata": {},
      "outputs": [
        {
          "data": {
            "text/plain": [
              "[Tool(name='Calculator', description='Useful for when you need to answer questions about math.', func=<bound method Chain.run of LLMMathChain(verbose=False, llm_chain=LLMChain(verbose=False, prompt=PromptTemplate(input_variables=['question'], input_types={}, partial_variables={}, template='Translate a math problem into a expression that can be executed using Python\\'s numexpr library. Use the output of running this code to answer the question.\\n\\nQuestion: ${{Question with math problem.}}\\n```text\\n${{single line mathematical expression that solves the problem}}\\n```\\n...numexpr.evaluate(text)...\\n```output\\n${{Output of running the code}}\\n```\\nAnswer: ${{Answer}}\\n\\nBegin.\\n\\nQuestion: What is 37593 * 67?\\n```text\\n37593 * 67\\n```\\n...numexpr.evaluate(\"37593 * 67\")...\\n```output\\n2518731\\n```\\nAnswer: 2518731\\n\\nQuestion: 37593^(1/5)\\n```text\\n37593**(1/5)\\n```\\n...numexpr.evaluate(\"37593**(1/5)\")...\\n```output\\n8.222831614237718\\n```\\nAnswer: 8.222831614237718\\n\\nQuestion: {question}\\n'), llm=ChatGoogleGenerativeAI(model='models/gemini-2.0-flash', google_api_key=SecretStr('**********'), client=<google.ai.generativelanguage_v1beta.services.generative_service.client.GenerativeServiceClient object at 0x7f3b17b20590>, default_metadata=(), model_kwargs={}), output_parser=StrOutputParser(), llm_kwargs={}))>, coroutine=<bound method Chain.arun of LLMMathChain(verbose=False, llm_chain=LLMChain(verbose=False, prompt=PromptTemplate(input_variables=['question'], input_types={}, partial_variables={}, template='Translate a math problem into a expression that can be executed using Python\\'s numexpr library. Use the output of running this code to answer the question.\\n\\nQuestion: ${{Question with math problem.}}\\n```text\\n${{single line mathematical expression that solves the problem}}\\n```\\n...numexpr.evaluate(text)...\\n```output\\n${{Output of running the code}}\\n```\\nAnswer: ${{Answer}}\\n\\nBegin.\\n\\nQuestion: What is 37593 * 67?\\n```text\\n37593 * 67\\n```\\n...numexpr.evaluate(\"37593 * 67\")...\\n```output\\n2518731\\n```\\nAnswer: 2518731\\n\\nQuestion: 37593^(1/5)\\n```text\\n37593**(1/5)\\n```\\n...numexpr.evaluate(\"37593**(1/5)\")...\\n```output\\n8.222831614237718\\n```\\nAnswer: 8.222831614237718\\n\\nQuestion: {question}\\n'), llm=ChatGoogleGenerativeAI(model='models/gemini-2.0-flash', google_api_key=SecretStr('**********'), client=<google.ai.generativelanguage_v1beta.services.generative_service.client.GenerativeServiceClient object at 0x7f3b17b20590>, default_metadata=(), model_kwargs={}), output_parser=StrOutputParser(), llm_kwargs={}))>)]"
            ]
          },
          "execution_count": 68,
          "metadata": {},
          "output_type": "execute_result"
        }
      ],
      "source": [
        "from langchain.agents import load_tools\n",
        "from langchain.agents import AgentType\n",
        "\n",
        "tool_names = [\"llm-math\"]\n",
        "tools = load_tools(tool_names, llm=llm)\n",
        "tools"
      ]
    },
    {
      "cell_type": "code",
      "execution_count": 69,
      "id": "bf305511",
      "metadata": {},
      "outputs": [
        {
          "name": "stderr",
          "output_type": "stream",
          "text": [
            "/tmp/ipykernel_349417/3660245525.py:3: LangChainDeprecationWarning: LangChain agents will continue to be supported, but it is recommended for new use cases to be built with LangGraph. LangGraph offers a more flexible and full-featured framework for building agents, including support for tool-calling, persistence of state, and human-in-the-loop workflows. For details, refer to the `LangGraph documentation <https://langchain-ai.github.io/langgraph/>`_ as well as guides for `Migrating from AgentExecutor <https://python.langchain.com/docs/how_to/migrate_agent/>`_ and LangGraph's `Pre-built ReAct agent <https://langchain-ai.github.io/langgraph/how-tos/create-react-agent/>`_.\n",
            "  agent = initialize_agent(tools,\n"
          ]
        }
      ],
      "source": [
        "from langchain.agents import initialize_agent\n",
        "\n",
        "agent = initialize_agent(tools,\n",
        "                         llm,\n",
        "                         agent=AgentType.ZERO_SHOT_REACT_DESCRIPTION,\n",
        "                         verbose=True,\n",
        "                         max_iterations=3)"
      ]
    },
    {
      "cell_type": "code",
      "execution_count": 70,
      "id": "88c960ee",
      "metadata": {},
      "outputs": [
        {
          "name": "stdout",
          "output_type": "stream",
          "text": [
            "\n",
            "\n",
            "\u001b[1m> Entering new AgentExecutor chain...\u001b[0m\n",
            "\u001b[32;1m\u001b[1;3mI cannot answer the question \"Qué día es hoy?\" because I do not have access to a calendar or real-time date information. My capabilities are limited to mathematical calculations.\n",
            "Final Answer: I cannot answer this question.\u001b[0m\n",
            "\n",
            "\u001b[1m> Finished chain.\u001b[0m\n"
          ]
        },
        {
          "data": {
            "text/plain": [
              "{'input': '¿Qué día es hoy?', 'output': 'I cannot answer this question.'}"
            ]
          },
          "execution_count": 70,
          "metadata": {},
          "output_type": "execute_result"
        }
      ],
      "source": [
        "agent.invoke(\"¿Qué día es hoy?\")"
      ]
    },
    {
      "cell_type": "code",
      "execution_count": 71,
      "id": "8de6352e",
      "metadata": {},
      "outputs": [
        {
          "name": "stdout",
          "output_type": "stream",
          "text": [
            "\n",
            "\n",
            "\u001b[1m> Entering new AgentExecutor chain...\u001b[0m\n",
            "\u001b[32;1m\u001b[1;3mI need to calculate 2 to the power of 10.\n",
            "Action: Calculator\n",
            "Action Input: 2^10\u001b[0m\n",
            "Observation: \u001b[36;1m\u001b[1;3mAnswer: 1024\u001b[0m\n",
            "Thought:\u001b[32;1m\u001b[1;3mI now know the final answer.\n",
            "Final Answer: 1024\u001b[0m\n",
            "\n",
            "\u001b[1m> Finished chain.\u001b[0m\n"
          ]
        },
        {
          "data": {
            "text/plain": [
              "{'input': '¿Cuánto es 2 elevado a la potencia de 10?', 'output': '1024'}"
            ]
          },
          "execution_count": 71,
          "metadata": {},
          "output_type": "execute_result"
        }
      ],
      "source": [
        "agent.invoke(\"¿Cuánto es 2 elevado a la potencia de 10?\")"
      ]
    },
    {
      "cell_type": "markdown",
      "id": "628553ca",
      "metadata": {},
      "source": [
        "También pueden usar tools personalizadas."
      ]
    },
    {
      "cell_type": "code",
      "execution_count": 112,
      "id": "9df47a94",
      "metadata": {},
      "outputs": [
        {
          "name": "stdout",
          "output_type": "stream",
          "text": [
            "\n",
            "\n",
            "\u001b[1m> Entering new AgentExecutor chain...\u001b[0m\n",
            "\u001b[32;1m\u001b[1;3mI need to reverse the given text.\n",
            "Action: invertir_texto\n",
            "Action Input: LangChain es genial\u001b[0m\n",
            "Observation: \u001b[36;1m\u001b[1;3mlaineg se niahCgnaL\u001b[0m\n",
            "Thought:\u001b[32;1m\u001b[1;3mI now know the final answer\n",
            "Final Answer: laineg se niahCgnaL\u001b[0m\n",
            "\n",
            "\u001b[1m> Finished chain.\u001b[0m\n",
            "laineg se niahCgnaL\n"
          ]
        }
      ],
      "source": [
        "from langchain_core.tools import tool\n",
        "from langchain.agents import initialize_agent, AgentType\n",
        "\n",
        "# 1. Define tu herramienta personalizada usando @tool\n",
        "@tool\n",
        "def invertir_texto(texto: str) -> str:\n",
        "    \"\"\"Invierte el texto proporcionado.\"\"\"\n",
        "    return texto[::-1]\n",
        "\n",
        "\n",
        "# 3. Inicializa el agente con la herramienta custom\n",
        "agent = initialize_agent(\n",
        "    tools=[invertir_texto],  # Lista de herramientas; aquí solo la custom\n",
        "    llm=llm,\n",
        "    agent=AgentType.ZERO_SHOT_REACT_DESCRIPTION,\n",
        "    verbose=True\n",
        ")\n",
        "\n",
        "# 4. Usa el agente\n",
        "resultado = agent.run(\"Invierte el texto: LangChain es genial\")\n",
        "print(resultado)"
      ]
    },
    {
      "cell_type": "markdown",
      "id": "f7585b04",
      "metadata": {},
      "source": [
        "El agente puede combinarse con un chat."
      ]
    },
    {
      "cell_type": "code",
      "execution_count": 115,
      "id": "d345cfec",
      "metadata": {},
      "outputs": [
        {
          "name": "stdout",
          "output_type": "stream",
          "text": [
            "\n",
            "\n",
            "\u001b[1m> Entering new AgentExecutor chain...\u001b[0m\n",
            "\u001b[32;1m\u001b[1;3m```json\n",
            "{\n",
            "    \"action\": \"Final Answer\",\n",
            "    \"action_input\": \"laienG se niahCgnaL\"\n",
            "}\n",
            "```\u001b[0m\n",
            "\n",
            "\u001b[1m> Finished chain.\u001b[0m\n"
          ]
        },
        {
          "data": {
            "text/plain": [
              "'laienG se niahCgnaL'"
            ]
          },
          "execution_count": 115,
          "metadata": {},
          "output_type": "execute_result"
        }
      ],
      "source": [
        "memory = ConversationBufferMemory(memory_key=\"chat_history\", return_messages=True)\n",
        "agent_chain = initialize_agent(tools, llm, agent=AgentType.CHAT_CONVERSATIONAL_REACT_DESCRIPTION, verbose=True, memory=memory)\n",
        "\n",
        "agent_chain.run(\"Invierte esta cadena: LangChain es genial\")"
      ]
    }
  ],
  "metadata": {
    "accelerator": "GPU",
    "colab": {
      "gpuType": "T4",
      "provenance": []
    },
    "kernelspec": {
      "display_name": ".venv",
      "language": "python",
      "name": "python3"
    },
    "language_info": {
      "codemirror_mode": {
        "name": "ipython",
        "version": 3
      },
      "file_extension": ".py",
      "mimetype": "text/x-python",
      "name": "python",
      "nbconvert_exporter": "python",
      "pygments_lexer": "ipython3",
      "version": "3.13.3"
    },
    "widgets": {
      "application/vnd.jupyter.widget-state+json": {
        "00115dff128b4ce491022ea616fa6169": {
          "model_module": "@jupyter-widgets/controls",
          "model_module_version": "1.5.0",
          "model_name": "HBoxModel",
          "state": {
            "_dom_classes": [],
            "_model_module": "@jupyter-widgets/controls",
            "_model_module_version": "1.5.0",
            "_model_name": "HBoxModel",
            "_view_count": null,
            "_view_module": "@jupyter-widgets/controls",
            "_view_module_version": "1.5.0",
            "_view_name": "HBoxView",
            "box_style": "",
            "children": [
              "IPY_MODEL_34a76f7a0a634634afbd0d00f57e7e4d",
              "IPY_MODEL_f4439d866d764e1385c42a92c9483a0b",
              "IPY_MODEL_cf9cb58f0ebc415483dc8db19e0bf7e9"
            ],
            "layout": "IPY_MODEL_94551b393e2f49409d3367945baac152"
          }
        },
        "0263b9e3493445ea81b5ac19c2d9798f": {
          "model_module": "@jupyter-widgets/controls",
          "model_module_version": "1.5.0",
          "model_name": "DescriptionStyleModel",
          "state": {
            "_model_module": "@jupyter-widgets/controls",
            "_model_module_version": "1.5.0",
            "_model_name": "DescriptionStyleModel",
            "_view_count": null,
            "_view_module": "@jupyter-widgets/base",
            "_view_module_version": "1.2.0",
            "_view_name": "StyleView",
            "description_width": ""
          }
        },
        "03703e6de116439992d029f32a9597db": {
          "model_module": "@jupyter-widgets/base",
          "model_module_version": "1.2.0",
          "model_name": "LayoutModel",
          "state": {
            "_model_module": "@jupyter-widgets/base",
            "_model_module_version": "1.2.0",
            "_model_name": "LayoutModel",
            "_view_count": null,
            "_view_module": "@jupyter-widgets/base",
            "_view_module_version": "1.2.0",
            "_view_name": "LayoutView",
            "align_content": null,
            "align_items": null,
            "align_self": null,
            "border": null,
            "bottom": null,
            "display": null,
            "flex": null,
            "flex_flow": null,
            "grid_area": null,
            "grid_auto_columns": null,
            "grid_auto_flow": null,
            "grid_auto_rows": null,
            "grid_column": null,
            "grid_gap": null,
            "grid_row": null,
            "grid_template_areas": null,
            "grid_template_columns": null,
            "grid_template_rows": null,
            "height": null,
            "justify_content": null,
            "justify_items": null,
            "left": null,
            "margin": null,
            "max_height": null,
            "max_width": null,
            "min_height": null,
            "min_width": null,
            "object_fit": null,
            "object_position": null,
            "order": null,
            "overflow": null,
            "overflow_x": null,
            "overflow_y": null,
            "padding": null,
            "right": null,
            "top": null,
            "visibility": null,
            "width": null
          }
        },
        "03f8eaed886e49839f1ddd065a2fbcdb": {
          "model_module": "@jupyter-widgets/controls",
          "model_module_version": "1.5.0",
          "model_name": "FloatProgressModel",
          "state": {
            "_dom_classes": [],
            "_model_module": "@jupyter-widgets/controls",
            "_model_module_version": "1.5.0",
            "_model_name": "FloatProgressModel",
            "_view_count": null,
            "_view_module": "@jupyter-widgets/controls",
            "_view_module_version": "1.5.0",
            "_view_name": "ProgressView",
            "bar_style": "success",
            "description": "",
            "description_tooltip": null,
            "layout": "IPY_MODEL_5f4b72fc2c034e38829246605f1144e2",
            "max": 112,
            "min": 0,
            "orientation": "horizontal",
            "style": "IPY_MODEL_1775e65515f74245b5598d1350260afc",
            "value": 112
          }
        },
        "04b30c353bad468ea0ed27a30703ef56": {
          "model_module": "@jupyter-widgets/controls",
          "model_module_version": "1.5.0",
          "model_name": "HTMLModel",
          "state": {
            "_dom_classes": [],
            "_model_module": "@jupyter-widgets/controls",
            "_model_module_version": "1.5.0",
            "_model_name": "HTMLModel",
            "_view_count": null,
            "_view_module": "@jupyter-widgets/controls",
            "_view_module_version": "1.5.0",
            "_view_name": "HTMLView",
            "description": "",
            "description_tooltip": null,
            "layout": "IPY_MODEL_bc0570fb9655474da5b7b9800be54ec5",
            "placeholder": "​",
            "style": "IPY_MODEL_156453925ca54d0dae07e4aad52137c1",
            "value": " 10.5k/10.5k [00:00&lt;00:00, 1.11MB/s]"
          }
        },
        "0942714ebf884f29b9ed17b7bd69a1b7": {
          "model_module": "@jupyter-widgets/base",
          "model_module_version": "1.2.0",
          "model_name": "LayoutModel",
          "state": {
            "_model_module": "@jupyter-widgets/base",
            "_model_module_version": "1.2.0",
            "_model_name": "LayoutModel",
            "_view_count": null,
            "_view_module": "@jupyter-widgets/base",
            "_view_module_version": "1.2.0",
            "_view_name": "LayoutView",
            "align_content": null,
            "align_items": null,
            "align_self": null,
            "border": null,
            "bottom": null,
            "display": null,
            "flex": null,
            "flex_flow": null,
            "grid_area": null,
            "grid_auto_columns": null,
            "grid_auto_flow": null,
            "grid_auto_rows": null,
            "grid_column": null,
            "grid_gap": null,
            "grid_row": null,
            "grid_template_areas": null,
            "grid_template_columns": null,
            "grid_template_rows": null,
            "height": null,
            "justify_content": null,
            "justify_items": null,
            "left": null,
            "margin": null,
            "max_height": null,
            "max_width": null,
            "min_height": null,
            "min_width": null,
            "object_fit": null,
            "object_position": null,
            "order": null,
            "overflow": null,
            "overflow_x": null,
            "overflow_y": null,
            "padding": null,
            "right": null,
            "top": null,
            "visibility": null,
            "width": null
          }
        },
        "0bf203538d5148728077dad4c79d07f2": {
          "model_module": "@jupyter-widgets/base",
          "model_module_version": "1.2.0",
          "model_name": "LayoutModel",
          "state": {
            "_model_module": "@jupyter-widgets/base",
            "_model_module_version": "1.2.0",
            "_model_name": "LayoutModel",
            "_view_count": null,
            "_view_module": "@jupyter-widgets/base",
            "_view_module_version": "1.2.0",
            "_view_name": "LayoutView",
            "align_content": null,
            "align_items": null,
            "align_self": null,
            "border": null,
            "bottom": null,
            "display": null,
            "flex": null,
            "flex_flow": null,
            "grid_area": null,
            "grid_auto_columns": null,
            "grid_auto_flow": null,
            "grid_auto_rows": null,
            "grid_column": null,
            "grid_gap": null,
            "grid_row": null,
            "grid_template_areas": null,
            "grid_template_columns": null,
            "grid_template_rows": null,
            "height": null,
            "justify_content": null,
            "justify_items": null,
            "left": null,
            "margin": null,
            "max_height": null,
            "max_width": null,
            "min_height": null,
            "min_width": null,
            "object_fit": null,
            "object_position": null,
            "order": null,
            "overflow": null,
            "overflow_x": null,
            "overflow_y": null,
            "padding": null,
            "right": null,
            "top": null,
            "visibility": null,
            "width": null
          }
        },
        "0f1f02ca9dd24aab8834d92344f59f78": {
          "model_module": "@jupyter-widgets/base",
          "model_module_version": "1.2.0",
          "model_name": "LayoutModel",
          "state": {
            "_model_module": "@jupyter-widgets/base",
            "_model_module_version": "1.2.0",
            "_model_name": "LayoutModel",
            "_view_count": null,
            "_view_module": "@jupyter-widgets/base",
            "_view_module_version": "1.2.0",
            "_view_name": "LayoutView",
            "align_content": null,
            "align_items": null,
            "align_self": null,
            "border": null,
            "bottom": null,
            "display": null,
            "flex": null,
            "flex_flow": null,
            "grid_area": null,
            "grid_auto_columns": null,
            "grid_auto_flow": null,
            "grid_auto_rows": null,
            "grid_column": null,
            "grid_gap": null,
            "grid_row": null,
            "grid_template_areas": null,
            "grid_template_columns": null,
            "grid_template_rows": null,
            "height": null,
            "justify_content": null,
            "justify_items": null,
            "left": null,
            "margin": null,
            "max_height": null,
            "max_width": null,
            "min_height": null,
            "min_width": null,
            "object_fit": null,
            "object_position": null,
            "order": null,
            "overflow": null,
            "overflow_x": null,
            "overflow_y": null,
            "padding": null,
            "right": null,
            "top": null,
            "visibility": null,
            "width": null
          }
        },
        "0ffd39003cd641b6b80cbec18c47007d": {
          "model_module": "@jupyter-widgets/controls",
          "model_module_version": "1.5.0",
          "model_name": "DescriptionStyleModel",
          "state": {
            "_model_module": "@jupyter-widgets/controls",
            "_model_module_version": "1.5.0",
            "_model_name": "DescriptionStyleModel",
            "_view_count": null,
            "_view_module": "@jupyter-widgets/base",
            "_view_module_version": "1.2.0",
            "_view_name": "StyleView",
            "description_width": ""
          }
        },
        "1102e8bb4f2248e8bca5d595f6599ab1": {
          "model_module": "@jupyter-widgets/base",
          "model_module_version": "1.2.0",
          "model_name": "LayoutModel",
          "state": {
            "_model_module": "@jupyter-widgets/base",
            "_model_module_version": "1.2.0",
            "_model_name": "LayoutModel",
            "_view_count": null,
            "_view_module": "@jupyter-widgets/base",
            "_view_module_version": "1.2.0",
            "_view_name": "LayoutView",
            "align_content": null,
            "align_items": null,
            "align_self": null,
            "border": null,
            "bottom": null,
            "display": null,
            "flex": null,
            "flex_flow": null,
            "grid_area": null,
            "grid_auto_columns": null,
            "grid_auto_flow": null,
            "grid_auto_rows": null,
            "grid_column": null,
            "grid_gap": null,
            "grid_row": null,
            "grid_template_areas": null,
            "grid_template_columns": null,
            "grid_template_rows": null,
            "height": null,
            "justify_content": null,
            "justify_items": null,
            "left": null,
            "margin": null,
            "max_height": null,
            "max_width": null,
            "min_height": null,
            "min_width": null,
            "object_fit": null,
            "object_position": null,
            "order": null,
            "overflow": null,
            "overflow_x": null,
            "overflow_y": null,
            "padding": null,
            "right": null,
            "top": null,
            "visibility": null,
            "width": null
          }
        },
        "11e059dfd286439fa4ab4cdebd61e2ef": {
          "model_module": "@jupyter-widgets/controls",
          "model_module_version": "1.5.0",
          "model_name": "DescriptionStyleModel",
          "state": {
            "_model_module": "@jupyter-widgets/controls",
            "_model_module_version": "1.5.0",
            "_model_name": "DescriptionStyleModel",
            "_view_count": null,
            "_view_module": "@jupyter-widgets/base",
            "_view_module_version": "1.2.0",
            "_view_name": "StyleView",
            "description_width": ""
          }
        },
        "12a607abf4fd43dc83aeb16729691459": {
          "model_module": "@jupyter-widgets/controls",
          "model_module_version": "1.5.0",
          "model_name": "ProgressStyleModel",
          "state": {
            "_model_module": "@jupyter-widgets/controls",
            "_model_module_version": "1.5.0",
            "_model_name": "ProgressStyleModel",
            "_view_count": null,
            "_view_module": "@jupyter-widgets/base",
            "_view_module_version": "1.2.0",
            "_view_name": "StyleView",
            "bar_color": null,
            "description_width": ""
          }
        },
        "14a31d73c41141a383e260fd2747bb77": {
          "model_module": "@jupyter-widgets/controls",
          "model_module_version": "1.5.0",
          "model_name": "FloatProgressModel",
          "state": {
            "_dom_classes": [],
            "_model_module": "@jupyter-widgets/controls",
            "_model_module_version": "1.5.0",
            "_model_name": "FloatProgressModel",
            "_view_count": null,
            "_view_module": "@jupyter-widgets/controls",
            "_view_module_version": "1.5.0",
            "_view_name": "ProgressView",
            "bar_style": "success",
            "description": "",
            "description_tooltip": null,
            "layout": "IPY_MODEL_d1352b78aeee4b5bb03a22dc593f2a7e",
            "max": 612,
            "min": 0,
            "orientation": "horizontal",
            "style": "IPY_MODEL_fe8cdc21ddc441e48d8ace86c46fda35",
            "value": 612
          }
        },
        "150bdb4dfe1544ec8f39ab68d915a403": {
          "model_module": "@jupyter-widgets/base",
          "model_module_version": "1.2.0",
          "model_name": "LayoutModel",
          "state": {
            "_model_module": "@jupyter-widgets/base",
            "_model_module_version": "1.2.0",
            "_model_name": "LayoutModel",
            "_view_count": null,
            "_view_module": "@jupyter-widgets/base",
            "_view_module_version": "1.2.0",
            "_view_name": "LayoutView",
            "align_content": null,
            "align_items": null,
            "align_self": null,
            "border": null,
            "bottom": null,
            "display": null,
            "flex": null,
            "flex_flow": null,
            "grid_area": null,
            "grid_auto_columns": null,
            "grid_auto_flow": null,
            "grid_auto_rows": null,
            "grid_column": null,
            "grid_gap": null,
            "grid_row": null,
            "grid_template_areas": null,
            "grid_template_columns": null,
            "grid_template_rows": null,
            "height": null,
            "justify_content": null,
            "justify_items": null,
            "left": null,
            "margin": null,
            "max_height": null,
            "max_width": null,
            "min_height": null,
            "min_width": null,
            "object_fit": null,
            "object_position": null,
            "order": null,
            "overflow": null,
            "overflow_x": null,
            "overflow_y": null,
            "padding": null,
            "right": null,
            "top": null,
            "visibility": null,
            "width": null
          }
        },
        "156453925ca54d0dae07e4aad52137c1": {
          "model_module": "@jupyter-widgets/controls",
          "model_module_version": "1.5.0",
          "model_name": "DescriptionStyleModel",
          "state": {
            "_model_module": "@jupyter-widgets/controls",
            "_model_module_version": "1.5.0",
            "_model_name": "DescriptionStyleModel",
            "_view_count": null,
            "_view_module": "@jupyter-widgets/base",
            "_view_module_version": "1.2.0",
            "_view_name": "StyleView",
            "description_width": ""
          }
        },
        "1572fe7d776745bda8b15efe6a49562a": {
          "model_module": "@jupyter-widgets/base",
          "model_module_version": "1.2.0",
          "model_name": "LayoutModel",
          "state": {
            "_model_module": "@jupyter-widgets/base",
            "_model_module_version": "1.2.0",
            "_model_name": "LayoutModel",
            "_view_count": null,
            "_view_module": "@jupyter-widgets/base",
            "_view_module_version": "1.2.0",
            "_view_name": "LayoutView",
            "align_content": null,
            "align_items": null,
            "align_self": null,
            "border": null,
            "bottom": null,
            "display": null,
            "flex": null,
            "flex_flow": null,
            "grid_area": null,
            "grid_auto_columns": null,
            "grid_auto_flow": null,
            "grid_auto_rows": null,
            "grid_column": null,
            "grid_gap": null,
            "grid_row": null,
            "grid_template_areas": null,
            "grid_template_columns": null,
            "grid_template_rows": null,
            "height": null,
            "justify_content": null,
            "justify_items": null,
            "left": null,
            "margin": null,
            "max_height": null,
            "max_width": null,
            "min_height": null,
            "min_width": null,
            "object_fit": null,
            "object_position": null,
            "order": null,
            "overflow": null,
            "overflow_x": null,
            "overflow_y": null,
            "padding": null,
            "right": null,
            "top": null,
            "visibility": null,
            "width": null
          }
        },
        "177028efa747491394df9dbacdbea5b0": {
          "model_module": "@jupyter-widgets/controls",
          "model_module_version": "1.5.0",
          "model_name": "DescriptionStyleModel",
          "state": {
            "_model_module": "@jupyter-widgets/controls",
            "_model_module_version": "1.5.0",
            "_model_name": "DescriptionStyleModel",
            "_view_count": null,
            "_view_module": "@jupyter-widgets/base",
            "_view_module_version": "1.2.0",
            "_view_name": "StyleView",
            "description_width": ""
          }
        },
        "1775e65515f74245b5598d1350260afc": {
          "model_module": "@jupyter-widgets/controls",
          "model_module_version": "1.5.0",
          "model_name": "ProgressStyleModel",
          "state": {
            "_model_module": "@jupyter-widgets/controls",
            "_model_module_version": "1.5.0",
            "_model_name": "ProgressStyleModel",
            "_view_count": null,
            "_view_module": "@jupyter-widgets/base",
            "_view_module_version": "1.2.0",
            "_view_name": "StyleView",
            "bar_color": null,
            "description_width": ""
          }
        },
        "1ac039745ec44ad8af8cef4f68aacc83": {
          "model_module": "@jupyter-widgets/controls",
          "model_module_version": "1.5.0",
          "model_name": "HTMLModel",
          "state": {
            "_dom_classes": [],
            "_model_module": "@jupyter-widgets/controls",
            "_model_module_version": "1.5.0",
            "_model_name": "HTMLModel",
            "_view_count": null,
            "_view_module": "@jupyter-widgets/controls",
            "_view_module_version": "1.5.0",
            "_view_name": "HTMLView",
            "description": "",
            "description_tooltip": null,
            "layout": "IPY_MODEL_73a4b4df27644cfa9d30c5c91a773ba6",
            "placeholder": "​",
            "style": "IPY_MODEL_f6b3c7d0a6b34b19833209b19b4b1c71",
            "value": "README.md: 100%"
          }
        },
        "1b58c33f23414aacae3efb5875d7f6ba": {
          "model_module": "@jupyter-widgets/base",
          "model_module_version": "1.2.0",
          "model_name": "LayoutModel",
          "state": {
            "_model_module": "@jupyter-widgets/base",
            "_model_module_version": "1.2.0",
            "_model_name": "LayoutModel",
            "_view_count": null,
            "_view_module": "@jupyter-widgets/base",
            "_view_module_version": "1.2.0",
            "_view_name": "LayoutView",
            "align_content": null,
            "align_items": null,
            "align_self": null,
            "border": null,
            "bottom": null,
            "display": null,
            "flex": null,
            "flex_flow": null,
            "grid_area": null,
            "grid_auto_columns": null,
            "grid_auto_flow": null,
            "grid_auto_rows": null,
            "grid_column": null,
            "grid_gap": null,
            "grid_row": null,
            "grid_template_areas": null,
            "grid_template_columns": null,
            "grid_template_rows": null,
            "height": null,
            "justify_content": null,
            "justify_items": null,
            "left": null,
            "margin": null,
            "max_height": null,
            "max_width": null,
            "min_height": null,
            "min_width": null,
            "object_fit": null,
            "object_position": null,
            "order": null,
            "overflow": null,
            "overflow_x": null,
            "overflow_y": null,
            "padding": null,
            "right": null,
            "top": null,
            "visibility": null,
            "width": null
          }
        },
        "1c8847fa665847259a5ee939b464ea58": {
          "model_module": "@jupyter-widgets/base",
          "model_module_version": "1.2.0",
          "model_name": "LayoutModel",
          "state": {
            "_model_module": "@jupyter-widgets/base",
            "_model_module_version": "1.2.0",
            "_model_name": "LayoutModel",
            "_view_count": null,
            "_view_module": "@jupyter-widgets/base",
            "_view_module_version": "1.2.0",
            "_view_name": "LayoutView",
            "align_content": null,
            "align_items": null,
            "align_self": null,
            "border": null,
            "bottom": null,
            "display": null,
            "flex": null,
            "flex_flow": null,
            "grid_area": null,
            "grid_auto_columns": null,
            "grid_auto_flow": null,
            "grid_auto_rows": null,
            "grid_column": null,
            "grid_gap": null,
            "grid_row": null,
            "grid_template_areas": null,
            "grid_template_columns": null,
            "grid_template_rows": null,
            "height": null,
            "justify_content": null,
            "justify_items": null,
            "left": null,
            "margin": null,
            "max_height": null,
            "max_width": null,
            "min_height": null,
            "min_width": null,
            "object_fit": null,
            "object_position": null,
            "order": null,
            "overflow": null,
            "overflow_x": null,
            "overflow_y": null,
            "padding": null,
            "right": null,
            "top": null,
            "visibility": null,
            "width": null
          }
        },
        "1fb14ab444864891829433252970a46f": {
          "model_module": "@jupyter-widgets/controls",
          "model_module_version": "1.5.0",
          "model_name": "DescriptionStyleModel",
          "state": {
            "_model_module": "@jupyter-widgets/controls",
            "_model_module_version": "1.5.0",
            "_model_name": "DescriptionStyleModel",
            "_view_count": null,
            "_view_module": "@jupyter-widgets/base",
            "_view_module_version": "1.2.0",
            "_view_name": "StyleView",
            "description_width": ""
          }
        },
        "224e25d730cd452585c4826516a2aa5a": {
          "model_module": "@jupyter-widgets/base",
          "model_module_version": "1.2.0",
          "model_name": "LayoutModel",
          "state": {
            "_model_module": "@jupyter-widgets/base",
            "_model_module_version": "1.2.0",
            "_model_name": "LayoutModel",
            "_view_count": null,
            "_view_module": "@jupyter-widgets/base",
            "_view_module_version": "1.2.0",
            "_view_name": "LayoutView",
            "align_content": null,
            "align_items": null,
            "align_self": null,
            "border": null,
            "bottom": null,
            "display": null,
            "flex": null,
            "flex_flow": null,
            "grid_area": null,
            "grid_auto_columns": null,
            "grid_auto_flow": null,
            "grid_auto_rows": null,
            "grid_column": null,
            "grid_gap": null,
            "grid_row": null,
            "grid_template_areas": null,
            "grid_template_columns": null,
            "grid_template_rows": null,
            "height": null,
            "justify_content": null,
            "justify_items": null,
            "left": null,
            "margin": null,
            "max_height": null,
            "max_width": null,
            "min_height": null,
            "min_width": null,
            "object_fit": null,
            "object_position": null,
            "order": null,
            "overflow": null,
            "overflow_x": null,
            "overflow_y": null,
            "padding": null,
            "right": null,
            "top": null,
            "visibility": null,
            "width": null
          }
        },
        "2812a33744304044a05d985e59a994a3": {
          "model_module": "@jupyter-widgets/base",
          "model_module_version": "1.2.0",
          "model_name": "LayoutModel",
          "state": {
            "_model_module": "@jupyter-widgets/base",
            "_model_module_version": "1.2.0",
            "_model_name": "LayoutModel",
            "_view_count": null,
            "_view_module": "@jupyter-widgets/base",
            "_view_module_version": "1.2.0",
            "_view_name": "LayoutView",
            "align_content": null,
            "align_items": null,
            "align_self": null,
            "border": null,
            "bottom": null,
            "display": null,
            "flex": null,
            "flex_flow": null,
            "grid_area": null,
            "grid_auto_columns": null,
            "grid_auto_flow": null,
            "grid_auto_rows": null,
            "grid_column": null,
            "grid_gap": null,
            "grid_row": null,
            "grid_template_areas": null,
            "grid_template_columns": null,
            "grid_template_rows": null,
            "height": null,
            "justify_content": null,
            "justify_items": null,
            "left": null,
            "margin": null,
            "max_height": null,
            "max_width": null,
            "min_height": null,
            "min_width": null,
            "object_fit": null,
            "object_position": null,
            "order": null,
            "overflow": null,
            "overflow_x": null,
            "overflow_y": null,
            "padding": null,
            "right": null,
            "top": null,
            "visibility": null,
            "width": null
          }
        },
        "2a92d1d1e4234c609cebabd40be9703b": {
          "model_module": "@jupyter-widgets/base",
          "model_module_version": "1.2.0",
          "model_name": "LayoutModel",
          "state": {
            "_model_module": "@jupyter-widgets/base",
            "_model_module_version": "1.2.0",
            "_model_name": "LayoutModel",
            "_view_count": null,
            "_view_module": "@jupyter-widgets/base",
            "_view_module_version": "1.2.0",
            "_view_name": "LayoutView",
            "align_content": null,
            "align_items": null,
            "align_self": null,
            "border": null,
            "bottom": null,
            "display": null,
            "flex": null,
            "flex_flow": null,
            "grid_area": null,
            "grid_auto_columns": null,
            "grid_auto_flow": null,
            "grid_auto_rows": null,
            "grid_column": null,
            "grid_gap": null,
            "grid_row": null,
            "grid_template_areas": null,
            "grid_template_columns": null,
            "grid_template_rows": null,
            "height": null,
            "justify_content": null,
            "justify_items": null,
            "left": null,
            "margin": null,
            "max_height": null,
            "max_width": null,
            "min_height": null,
            "min_width": null,
            "object_fit": null,
            "object_position": null,
            "order": null,
            "overflow": null,
            "overflow_x": null,
            "overflow_y": null,
            "padding": null,
            "right": null,
            "top": null,
            "visibility": null,
            "width": null
          }
        },
        "2ab232182d134d349cc23fcbf454a2f4": {
          "model_module": "@jupyter-widgets/controls",
          "model_module_version": "1.5.0",
          "model_name": "DescriptionStyleModel",
          "state": {
            "_model_module": "@jupyter-widgets/controls",
            "_model_module_version": "1.5.0",
            "_model_name": "DescriptionStyleModel",
            "_view_count": null,
            "_view_module": "@jupyter-widgets/base",
            "_view_module_version": "1.2.0",
            "_view_name": "StyleView",
            "description_width": ""
          }
        },
        "2c978f4173f84bd58558a3f3e9ea17cf": {
          "model_module": "@jupyter-widgets/controls",
          "model_module_version": "1.5.0",
          "model_name": "DescriptionStyleModel",
          "state": {
            "_model_module": "@jupyter-widgets/controls",
            "_model_module_version": "1.5.0",
            "_model_name": "DescriptionStyleModel",
            "_view_count": null,
            "_view_module": "@jupyter-widgets/base",
            "_view_module_version": "1.2.0",
            "_view_name": "StyleView",
            "description_width": ""
          }
        },
        "2ed3bde63dbf4655a046dd18ee7fe0a0": {
          "model_module": "@jupyter-widgets/controls",
          "model_module_version": "1.5.0",
          "model_name": "HTMLModel",
          "state": {
            "_dom_classes": [],
            "_model_module": "@jupyter-widgets/controls",
            "_model_module_version": "1.5.0",
            "_model_name": "HTMLModel",
            "_view_count": null,
            "_view_module": "@jupyter-widgets/controls",
            "_view_module_version": "1.5.0",
            "_view_name": "HTMLView",
            "description": "",
            "description_tooltip": null,
            "layout": "IPY_MODEL_fc07eaee217a43dbb7b3983bd18d7916",
            "placeholder": "​",
            "style": "IPY_MODEL_d31cd50957b94cbd8fa743aa9337de1a",
            "value": "vocab.txt: 100%"
          }
        },
        "2fd11b35be614d528df963c16e32e501": {
          "model_module": "@jupyter-widgets/controls",
          "model_module_version": "1.5.0",
          "model_name": "DescriptionStyleModel",
          "state": {
            "_model_module": "@jupyter-widgets/controls",
            "_model_module_version": "1.5.0",
            "_model_name": "DescriptionStyleModel",
            "_view_count": null,
            "_view_module": "@jupyter-widgets/base",
            "_view_module_version": "1.2.0",
            "_view_name": "StyleView",
            "description_width": ""
          }
        },
        "30eeacce3c2644fa8aae20729d910111": {
          "model_module": "@jupyter-widgets/base",
          "model_module_version": "1.2.0",
          "model_name": "LayoutModel",
          "state": {
            "_model_module": "@jupyter-widgets/base",
            "_model_module_version": "1.2.0",
            "_model_name": "LayoutModel",
            "_view_count": null,
            "_view_module": "@jupyter-widgets/base",
            "_view_module_version": "1.2.0",
            "_view_name": "LayoutView",
            "align_content": null,
            "align_items": null,
            "align_self": null,
            "border": null,
            "bottom": null,
            "display": null,
            "flex": null,
            "flex_flow": null,
            "grid_area": null,
            "grid_auto_columns": null,
            "grid_auto_flow": null,
            "grid_auto_rows": null,
            "grid_column": null,
            "grid_gap": null,
            "grid_row": null,
            "grid_template_areas": null,
            "grid_template_columns": null,
            "grid_template_rows": null,
            "height": null,
            "justify_content": null,
            "justify_items": null,
            "left": null,
            "margin": null,
            "max_height": null,
            "max_width": null,
            "min_height": null,
            "min_width": null,
            "object_fit": null,
            "object_position": null,
            "order": null,
            "overflow": null,
            "overflow_x": null,
            "overflow_y": null,
            "padding": null,
            "right": null,
            "top": null,
            "visibility": null,
            "width": null
          }
        },
        "3139f074dd6842f38125ab012fca9e0e": {
          "model_module": "@jupyter-widgets/controls",
          "model_module_version": "1.5.0",
          "model_name": "DescriptionStyleModel",
          "state": {
            "_model_module": "@jupyter-widgets/controls",
            "_model_module_version": "1.5.0",
            "_model_name": "DescriptionStyleModel",
            "_view_count": null,
            "_view_module": "@jupyter-widgets/base",
            "_view_module_version": "1.2.0",
            "_view_name": "StyleView",
            "description_width": ""
          }
        },
        "31d8793c06a74dd0a67e5a362182ce85": {
          "model_module": "@jupyter-widgets/base",
          "model_module_version": "1.2.0",
          "model_name": "LayoutModel",
          "state": {
            "_model_module": "@jupyter-widgets/base",
            "_model_module_version": "1.2.0",
            "_model_name": "LayoutModel",
            "_view_count": null,
            "_view_module": "@jupyter-widgets/base",
            "_view_module_version": "1.2.0",
            "_view_name": "LayoutView",
            "align_content": null,
            "align_items": null,
            "align_self": null,
            "border": null,
            "bottom": null,
            "display": null,
            "flex": null,
            "flex_flow": null,
            "grid_area": null,
            "grid_auto_columns": null,
            "grid_auto_flow": null,
            "grid_auto_rows": null,
            "grid_column": null,
            "grid_gap": null,
            "grid_row": null,
            "grid_template_areas": null,
            "grid_template_columns": null,
            "grid_template_rows": null,
            "height": null,
            "justify_content": null,
            "justify_items": null,
            "left": null,
            "margin": null,
            "max_height": null,
            "max_width": null,
            "min_height": null,
            "min_width": null,
            "object_fit": null,
            "object_position": null,
            "order": null,
            "overflow": null,
            "overflow_x": null,
            "overflow_y": null,
            "padding": null,
            "right": null,
            "top": null,
            "visibility": null,
            "width": null
          }
        },
        "32526099902f4c36a285c65239181f2f": {
          "model_module": "@jupyter-widgets/controls",
          "model_module_version": "1.5.0",
          "model_name": "DescriptionStyleModel",
          "state": {
            "_model_module": "@jupyter-widgets/controls",
            "_model_module_version": "1.5.0",
            "_model_name": "DescriptionStyleModel",
            "_view_count": null,
            "_view_module": "@jupyter-widgets/base",
            "_view_module_version": "1.2.0",
            "_view_name": "StyleView",
            "description_width": ""
          }
        },
        "34a76f7a0a634634afbd0d00f57e7e4d": {
          "model_module": "@jupyter-widgets/controls",
          "model_module_version": "1.5.0",
          "model_name": "HTMLModel",
          "state": {
            "_dom_classes": [],
            "_model_module": "@jupyter-widgets/controls",
            "_model_module_version": "1.5.0",
            "_model_name": "HTMLModel",
            "_view_count": null,
            "_view_module": "@jupyter-widgets/controls",
            "_view_module_version": "1.5.0",
            "_view_name": "HTMLView",
            "description": "",
            "description_tooltip": null,
            "layout": "IPY_MODEL_527780cb61bb44f49e49ff6a7acd8600",
            "placeholder": "​",
            "style": "IPY_MODEL_8d63c8233d1c485b8aef856b6f19d20b",
            "value": "tokenizer_config.json: 100%"
          }
        },
        "34e54ce984ce48a183b556676c0a0fe5": {
          "model_module": "@jupyter-widgets/base",
          "model_module_version": "1.2.0",
          "model_name": "LayoutModel",
          "state": {
            "_model_module": "@jupyter-widgets/base",
            "_model_module_version": "1.2.0",
            "_model_name": "LayoutModel",
            "_view_count": null,
            "_view_module": "@jupyter-widgets/base",
            "_view_module_version": "1.2.0",
            "_view_name": "LayoutView",
            "align_content": null,
            "align_items": null,
            "align_self": null,
            "border": null,
            "bottom": null,
            "display": null,
            "flex": null,
            "flex_flow": null,
            "grid_area": null,
            "grid_auto_columns": null,
            "grid_auto_flow": null,
            "grid_auto_rows": null,
            "grid_column": null,
            "grid_gap": null,
            "grid_row": null,
            "grid_template_areas": null,
            "grid_template_columns": null,
            "grid_template_rows": null,
            "height": null,
            "justify_content": null,
            "justify_items": null,
            "left": null,
            "margin": null,
            "max_height": null,
            "max_width": null,
            "min_height": null,
            "min_width": null,
            "object_fit": null,
            "object_position": null,
            "order": null,
            "overflow": null,
            "overflow_x": null,
            "overflow_y": null,
            "padding": null,
            "right": null,
            "top": null,
            "visibility": null,
            "width": null
          }
        },
        "35bdccddd00f47549d5068f8b2bcff13": {
          "model_module": "@jupyter-widgets/controls",
          "model_module_version": "1.5.0",
          "model_name": "ProgressStyleModel",
          "state": {
            "_model_module": "@jupyter-widgets/controls",
            "_model_module_version": "1.5.0",
            "_model_name": "ProgressStyleModel",
            "_view_count": null,
            "_view_module": "@jupyter-widgets/base",
            "_view_module_version": "1.2.0",
            "_view_name": "StyleView",
            "bar_color": null,
            "description_width": ""
          }
        },
        "3be4a27aff8349298d69a74dd4bd0cb1": {
          "model_module": "@jupyter-widgets/controls",
          "model_module_version": "1.5.0",
          "model_name": "HTMLModel",
          "state": {
            "_dom_classes": [],
            "_model_module": "@jupyter-widgets/controls",
            "_model_module_version": "1.5.0",
            "_model_name": "HTMLModel",
            "_view_count": null,
            "_view_module": "@jupyter-widgets/controls",
            "_view_module_version": "1.5.0",
            "_view_name": "HTMLView",
            "description": "",
            "description_tooltip": null,
            "layout": "IPY_MODEL_94807108bffb4d0cae8675f94dff0d8f",
            "placeholder": "​",
            "style": "IPY_MODEL_48596b517f854eab90a9645a0b4a941c",
            "value": " 190/190 [00:00&lt;00:00, 12.6kB/s]"
          }
        },
        "3f5ed19078104502a7245a0b59a02a28": {
          "model_module": "@jupyter-widgets/controls",
          "model_module_version": "1.5.0",
          "model_name": "HTMLModel",
          "state": {
            "_dom_classes": [],
            "_model_module": "@jupyter-widgets/controls",
            "_model_module_version": "1.5.0",
            "_model_name": "HTMLModel",
            "_view_count": null,
            "_view_module": "@jupyter-widgets/controls",
            "_view_module_version": "1.5.0",
            "_view_name": "HTMLView",
            "description": "",
            "description_tooltip": null,
            "layout": "IPY_MODEL_beea5f88841c41ae834fa4259626ab60",
            "placeholder": "​",
            "style": "IPY_MODEL_f5dfcde47aee4b398dcdacd36888df59",
            "value": "modules.json: 100%"
          }
        },
        "3f77bcac5eaf40c39f83c36f9a98aad3": {
          "model_module": "@jupyter-widgets/controls",
          "model_module_version": "1.5.0",
          "model_name": "HTMLModel",
          "state": {
            "_dom_classes": [],
            "_model_module": "@jupyter-widgets/controls",
            "_model_module_version": "1.5.0",
            "_model_name": "HTMLModel",
            "_view_count": null,
            "_view_module": "@jupyter-widgets/controls",
            "_view_module_version": "1.5.0",
            "_view_name": "HTMLView",
            "description": "",
            "description_tooltip": null,
            "layout": "IPY_MODEL_eab3da7df57540aa913af816b85abacf",
            "placeholder": "​",
            "style": "IPY_MODEL_2c978f4173f84bd58558a3f3e9ea17cf",
            "value": " 116/116 [00:00&lt;00:00, 11.8kB/s]"
          }
        },
        "3fa4cd62426546ac931df26f4968e1e4": {
          "model_module": "@jupyter-widgets/controls",
          "model_module_version": "1.5.0",
          "model_name": "ProgressStyleModel",
          "state": {
            "_model_module": "@jupyter-widgets/controls",
            "_model_module_version": "1.5.0",
            "_model_name": "ProgressStyleModel",
            "_view_count": null,
            "_view_module": "@jupyter-widgets/base",
            "_view_module_version": "1.2.0",
            "_view_name": "StyleView",
            "bar_color": null,
            "description_width": ""
          }
        },
        "48596b517f854eab90a9645a0b4a941c": {
          "model_module": "@jupyter-widgets/controls",
          "model_module_version": "1.5.0",
          "model_name": "DescriptionStyleModel",
          "state": {
            "_model_module": "@jupyter-widgets/controls",
            "_model_module_version": "1.5.0",
            "_model_name": "DescriptionStyleModel",
            "_view_count": null,
            "_view_module": "@jupyter-widgets/base",
            "_view_module_version": "1.2.0",
            "_view_name": "StyleView",
            "description_width": ""
          }
        },
        "4f8bdba6be1f43849b6ca979858d3de1": {
          "model_module": "@jupyter-widgets/controls",
          "model_module_version": "1.5.0",
          "model_name": "DescriptionStyleModel",
          "state": {
            "_model_module": "@jupyter-widgets/controls",
            "_model_module_version": "1.5.0",
            "_model_name": "DescriptionStyleModel",
            "_view_count": null,
            "_view_module": "@jupyter-widgets/base",
            "_view_module_version": "1.2.0",
            "_view_name": "StyleView",
            "description_width": ""
          }
        },
        "51749a97108a419d852b0b92b7609c3d": {
          "model_module": "@jupyter-widgets/controls",
          "model_module_version": "1.5.0",
          "model_name": "ProgressStyleModel",
          "state": {
            "_model_module": "@jupyter-widgets/controls",
            "_model_module_version": "1.5.0",
            "_model_name": "ProgressStyleModel",
            "_view_count": null,
            "_view_module": "@jupyter-widgets/base",
            "_view_module_version": "1.2.0",
            "_view_name": "StyleView",
            "bar_color": null,
            "description_width": ""
          }
        },
        "527780cb61bb44f49e49ff6a7acd8600": {
          "model_module": "@jupyter-widgets/base",
          "model_module_version": "1.2.0",
          "model_name": "LayoutModel",
          "state": {
            "_model_module": "@jupyter-widgets/base",
            "_model_module_version": "1.2.0",
            "_model_name": "LayoutModel",
            "_view_count": null,
            "_view_module": "@jupyter-widgets/base",
            "_view_module_version": "1.2.0",
            "_view_name": "LayoutView",
            "align_content": null,
            "align_items": null,
            "align_self": null,
            "border": null,
            "bottom": null,
            "display": null,
            "flex": null,
            "flex_flow": null,
            "grid_area": null,
            "grid_auto_columns": null,
            "grid_auto_flow": null,
            "grid_auto_rows": null,
            "grid_column": null,
            "grid_gap": null,
            "grid_row": null,
            "grid_template_areas": null,
            "grid_template_columns": null,
            "grid_template_rows": null,
            "height": null,
            "justify_content": null,
            "justify_items": null,
            "left": null,
            "margin": null,
            "max_height": null,
            "max_width": null,
            "min_height": null,
            "min_width": null,
            "object_fit": null,
            "object_position": null,
            "order": null,
            "overflow": null,
            "overflow_x": null,
            "overflow_y": null,
            "padding": null,
            "right": null,
            "top": null,
            "visibility": null,
            "width": null
          }
        },
        "55cbe1a8853f4f74b9a3ccab10dd88cc": {
          "model_module": "@jupyter-widgets/controls",
          "model_module_version": "1.5.0",
          "model_name": "HTMLModel",
          "state": {
            "_dom_classes": [],
            "_model_module": "@jupyter-widgets/controls",
            "_model_module_version": "1.5.0",
            "_model_name": "HTMLModel",
            "_view_count": null,
            "_view_module": "@jupyter-widgets/controls",
            "_view_module_version": "1.5.0",
            "_view_name": "HTMLView",
            "description": "",
            "description_tooltip": null,
            "layout": "IPY_MODEL_0f1f02ca9dd24aab8834d92344f59f78",
            "placeholder": "​",
            "style": "IPY_MODEL_997714216fa349ccbe0bfdd0ce82b0fb",
            "value": " 112/112 [00:00&lt;00:00, 7.25kB/s]"
          }
        },
        "5804b1b858954b62a7af7a058790d733": {
          "model_module": "@jupyter-widgets/base",
          "model_module_version": "1.2.0",
          "model_name": "LayoutModel",
          "state": {
            "_model_module": "@jupyter-widgets/base",
            "_model_module_version": "1.2.0",
            "_model_name": "LayoutModel",
            "_view_count": null,
            "_view_module": "@jupyter-widgets/base",
            "_view_module_version": "1.2.0",
            "_view_name": "LayoutView",
            "align_content": null,
            "align_items": null,
            "align_self": null,
            "border": null,
            "bottom": null,
            "display": null,
            "flex": null,
            "flex_flow": null,
            "grid_area": null,
            "grid_auto_columns": null,
            "grid_auto_flow": null,
            "grid_auto_rows": null,
            "grid_column": null,
            "grid_gap": null,
            "grid_row": null,
            "grid_template_areas": null,
            "grid_template_columns": null,
            "grid_template_rows": null,
            "height": null,
            "justify_content": null,
            "justify_items": null,
            "left": null,
            "margin": null,
            "max_height": null,
            "max_width": null,
            "min_height": null,
            "min_width": null,
            "object_fit": null,
            "object_position": null,
            "order": null,
            "overflow": null,
            "overflow_x": null,
            "overflow_y": null,
            "padding": null,
            "right": null,
            "top": null,
            "visibility": null,
            "width": null
          }
        },
        "5a2541dbd21e4dffbe9652946f097078": {
          "model_module": "@jupyter-widgets/controls",
          "model_module_version": "1.5.0",
          "model_name": "HTMLModel",
          "state": {
            "_dom_classes": [],
            "_model_module": "@jupyter-widgets/controls",
            "_model_module_version": "1.5.0",
            "_model_name": "HTMLModel",
            "_view_count": null,
            "_view_module": "@jupyter-widgets/controls",
            "_view_module_version": "1.5.0",
            "_view_name": "HTMLView",
            "description": "",
            "description_tooltip": null,
            "layout": "IPY_MODEL_03703e6de116439992d029f32a9597db",
            "placeholder": "​",
            "style": "IPY_MODEL_2fd11b35be614d528df963c16e32e501",
            "value": " 349/349 [00:00&lt;00:00, 31.6kB/s]"
          }
        },
        "5bbff26a36a54fe99161ca6fbcc5b597": {
          "model_module": "@jupyter-widgets/base",
          "model_module_version": "1.2.0",
          "model_name": "LayoutModel",
          "state": {
            "_model_module": "@jupyter-widgets/base",
            "_model_module_version": "1.2.0",
            "_model_name": "LayoutModel",
            "_view_count": null,
            "_view_module": "@jupyter-widgets/base",
            "_view_module_version": "1.2.0",
            "_view_name": "LayoutView",
            "align_content": null,
            "align_items": null,
            "align_self": null,
            "border": null,
            "bottom": null,
            "display": null,
            "flex": null,
            "flex_flow": null,
            "grid_area": null,
            "grid_auto_columns": null,
            "grid_auto_flow": null,
            "grid_auto_rows": null,
            "grid_column": null,
            "grid_gap": null,
            "grid_row": null,
            "grid_template_areas": null,
            "grid_template_columns": null,
            "grid_template_rows": null,
            "height": null,
            "justify_content": null,
            "justify_items": null,
            "left": null,
            "margin": null,
            "max_height": null,
            "max_width": null,
            "min_height": null,
            "min_width": null,
            "object_fit": null,
            "object_position": null,
            "order": null,
            "overflow": null,
            "overflow_x": null,
            "overflow_y": null,
            "padding": null,
            "right": null,
            "top": null,
            "visibility": null,
            "width": null
          }
        },
        "5c53afd79675403c9f210ac7796f3064": {
          "model_module": "@jupyter-widgets/controls",
          "model_module_version": "1.5.0",
          "model_name": "FloatProgressModel",
          "state": {
            "_dom_classes": [],
            "_model_module": "@jupyter-widgets/controls",
            "_model_module_version": "1.5.0",
            "_model_name": "FloatProgressModel",
            "_view_count": null,
            "_view_module": "@jupyter-widgets/controls",
            "_view_module_version": "1.5.0",
            "_view_name": "ProgressView",
            "bar_style": "success",
            "description": "",
            "description_tooltip": null,
            "layout": "IPY_MODEL_224e25d730cd452585c4826516a2aa5a",
            "max": 90868376,
            "min": 0,
            "orientation": "horizontal",
            "style": "IPY_MODEL_3fa4cd62426546ac931df26f4968e1e4",
            "value": 90868376
          }
        },
        "5f4b72fc2c034e38829246605f1144e2": {
          "model_module": "@jupyter-widgets/base",
          "model_module_version": "1.2.0",
          "model_name": "LayoutModel",
          "state": {
            "_model_module": "@jupyter-widgets/base",
            "_model_module_version": "1.2.0",
            "_model_name": "LayoutModel",
            "_view_count": null,
            "_view_module": "@jupyter-widgets/base",
            "_view_module_version": "1.2.0",
            "_view_name": "LayoutView",
            "align_content": null,
            "align_items": null,
            "align_self": null,
            "border": null,
            "bottom": null,
            "display": null,
            "flex": null,
            "flex_flow": null,
            "grid_area": null,
            "grid_auto_columns": null,
            "grid_auto_flow": null,
            "grid_auto_rows": null,
            "grid_column": null,
            "grid_gap": null,
            "grid_row": null,
            "grid_template_areas": null,
            "grid_template_columns": null,
            "grid_template_rows": null,
            "height": null,
            "justify_content": null,
            "justify_items": null,
            "left": null,
            "margin": null,
            "max_height": null,
            "max_width": null,
            "min_height": null,
            "min_width": null,
            "object_fit": null,
            "object_position": null,
            "order": null,
            "overflow": null,
            "overflow_x": null,
            "overflow_y": null,
            "padding": null,
            "right": null,
            "top": null,
            "visibility": null,
            "width": null
          }
        },
        "6996254bdaef434bbbc21440644dbccf": {
          "model_module": "@jupyter-widgets/controls",
          "model_module_version": "1.5.0",
          "model_name": "HBoxModel",
          "state": {
            "_dom_classes": [],
            "_model_module": "@jupyter-widgets/controls",
            "_model_module_version": "1.5.0",
            "_model_name": "HBoxModel",
            "_view_count": null,
            "_view_module": "@jupyter-widgets/controls",
            "_view_module_version": "1.5.0",
            "_view_name": "HBoxView",
            "box_style": "",
            "children": [
              "IPY_MODEL_1ac039745ec44ad8af8cef4f68aacc83",
              "IPY_MODEL_72951793ad254285aeb2e1e1acba7a76",
              "IPY_MODEL_04b30c353bad468ea0ed27a30703ef56"
            ],
            "layout": "IPY_MODEL_80c7acdfb93544f9adf3b352684bdf1d"
          }
        },
        "6d054f51755049ddb31ad97e3e361290": {
          "model_module": "@jupyter-widgets/base",
          "model_module_version": "1.2.0",
          "model_name": "LayoutModel",
          "state": {
            "_model_module": "@jupyter-widgets/base",
            "_model_module_version": "1.2.0",
            "_model_name": "LayoutModel",
            "_view_count": null,
            "_view_module": "@jupyter-widgets/base",
            "_view_module_version": "1.2.0",
            "_view_name": "LayoutView",
            "align_content": null,
            "align_items": null,
            "align_self": null,
            "border": null,
            "bottom": null,
            "display": null,
            "flex": null,
            "flex_flow": null,
            "grid_area": null,
            "grid_auto_columns": null,
            "grid_auto_flow": null,
            "grid_auto_rows": null,
            "grid_column": null,
            "grid_gap": null,
            "grid_row": null,
            "grid_template_areas": null,
            "grid_template_columns": null,
            "grid_template_rows": null,
            "height": null,
            "justify_content": null,
            "justify_items": null,
            "left": null,
            "margin": null,
            "max_height": null,
            "max_width": null,
            "min_height": null,
            "min_width": null,
            "object_fit": null,
            "object_position": null,
            "order": null,
            "overflow": null,
            "overflow_x": null,
            "overflow_y": null,
            "padding": null,
            "right": null,
            "top": null,
            "visibility": null,
            "width": null
          }
        },
        "6ef140f7638647718d6ccc7abe241073": {
          "model_module": "@jupyter-widgets/base",
          "model_module_version": "1.2.0",
          "model_name": "LayoutModel",
          "state": {
            "_model_module": "@jupyter-widgets/base",
            "_model_module_version": "1.2.0",
            "_model_name": "LayoutModel",
            "_view_count": null,
            "_view_module": "@jupyter-widgets/base",
            "_view_module_version": "1.2.0",
            "_view_name": "LayoutView",
            "align_content": null,
            "align_items": null,
            "align_self": null,
            "border": null,
            "bottom": null,
            "display": null,
            "flex": null,
            "flex_flow": null,
            "grid_area": null,
            "grid_auto_columns": null,
            "grid_auto_flow": null,
            "grid_auto_rows": null,
            "grid_column": null,
            "grid_gap": null,
            "grid_row": null,
            "grid_template_areas": null,
            "grid_template_columns": null,
            "grid_template_rows": null,
            "height": null,
            "justify_content": null,
            "justify_items": null,
            "left": null,
            "margin": null,
            "max_height": null,
            "max_width": null,
            "min_height": null,
            "min_width": null,
            "object_fit": null,
            "object_position": null,
            "order": null,
            "overflow": null,
            "overflow_x": null,
            "overflow_y": null,
            "padding": null,
            "right": null,
            "top": null,
            "visibility": null,
            "width": null
          }
        },
        "72951793ad254285aeb2e1e1acba7a76": {
          "model_module": "@jupyter-widgets/controls",
          "model_module_version": "1.5.0",
          "model_name": "FloatProgressModel",
          "state": {
            "_dom_classes": [],
            "_model_module": "@jupyter-widgets/controls",
            "_model_module_version": "1.5.0",
            "_model_name": "FloatProgressModel",
            "_view_count": null,
            "_view_module": "@jupyter-widgets/controls",
            "_view_module_version": "1.5.0",
            "_view_name": "ProgressView",
            "bar_style": "success",
            "description": "",
            "description_tooltip": null,
            "layout": "IPY_MODEL_5804b1b858954b62a7af7a058790d733",
            "max": 10454,
            "min": 0,
            "orientation": "horizontal",
            "style": "IPY_MODEL_d7a6a852d1a14e2ca157d50943b04748",
            "value": 10454
          }
        },
        "73a4b4df27644cfa9d30c5c91a773ba6": {
          "model_module": "@jupyter-widgets/base",
          "model_module_version": "1.2.0",
          "model_name": "LayoutModel",
          "state": {
            "_model_module": "@jupyter-widgets/base",
            "_model_module_version": "1.2.0",
            "_model_name": "LayoutModel",
            "_view_count": null,
            "_view_module": "@jupyter-widgets/base",
            "_view_module_version": "1.2.0",
            "_view_name": "LayoutView",
            "align_content": null,
            "align_items": null,
            "align_self": null,
            "border": null,
            "bottom": null,
            "display": null,
            "flex": null,
            "flex_flow": null,
            "grid_area": null,
            "grid_auto_columns": null,
            "grid_auto_flow": null,
            "grid_auto_rows": null,
            "grid_column": null,
            "grid_gap": null,
            "grid_row": null,
            "grid_template_areas": null,
            "grid_template_columns": null,
            "grid_template_rows": null,
            "height": null,
            "justify_content": null,
            "justify_items": null,
            "left": null,
            "margin": null,
            "max_height": null,
            "max_width": null,
            "min_height": null,
            "min_width": null,
            "object_fit": null,
            "object_position": null,
            "order": null,
            "overflow": null,
            "overflow_x": null,
            "overflow_y": null,
            "padding": null,
            "right": null,
            "top": null,
            "visibility": null,
            "width": null
          }
        },
        "74d131182a994b9a89b8e0263494bd94": {
          "model_module": "@jupyter-widgets/controls",
          "model_module_version": "1.5.0",
          "model_name": "HTMLModel",
          "state": {
            "_dom_classes": [],
            "_model_module": "@jupyter-widgets/controls",
            "_model_module_version": "1.5.0",
            "_model_name": "HTMLModel",
            "_view_count": null,
            "_view_module": "@jupyter-widgets/controls",
            "_view_module_version": "1.5.0",
            "_view_name": "HTMLView",
            "description": "",
            "description_tooltip": null,
            "layout": "IPY_MODEL_6d054f51755049ddb31ad97e3e361290",
            "placeholder": "​",
            "style": "IPY_MODEL_0ffd39003cd641b6b80cbec18c47007d",
            "value": "sentence_bert_config.json: 100%"
          }
        },
        "7584ab4d21a04670866901960ef68332": {
          "model_module": "@jupyter-widgets/base",
          "model_module_version": "1.2.0",
          "model_name": "LayoutModel",
          "state": {
            "_model_module": "@jupyter-widgets/base",
            "_model_module_version": "1.2.0",
            "_model_name": "LayoutModel",
            "_view_count": null,
            "_view_module": "@jupyter-widgets/base",
            "_view_module_version": "1.2.0",
            "_view_name": "LayoutView",
            "align_content": null,
            "align_items": null,
            "align_self": null,
            "border": null,
            "bottom": null,
            "display": null,
            "flex": null,
            "flex_flow": null,
            "grid_area": null,
            "grid_auto_columns": null,
            "grid_auto_flow": null,
            "grid_auto_rows": null,
            "grid_column": null,
            "grid_gap": null,
            "grid_row": null,
            "grid_template_areas": null,
            "grid_template_columns": null,
            "grid_template_rows": null,
            "height": null,
            "justify_content": null,
            "justify_items": null,
            "left": null,
            "margin": null,
            "max_height": null,
            "max_width": null,
            "min_height": null,
            "min_width": null,
            "object_fit": null,
            "object_position": null,
            "order": null,
            "overflow": null,
            "overflow_x": null,
            "overflow_y": null,
            "padding": null,
            "right": null,
            "top": null,
            "visibility": null,
            "width": null
          }
        },
        "78d7c8532189452485ed6c79b770c5c5": {
          "model_module": "@jupyter-widgets/controls",
          "model_module_version": "1.5.0",
          "model_name": "ProgressStyleModel",
          "state": {
            "_model_module": "@jupyter-widgets/controls",
            "_model_module_version": "1.5.0",
            "_model_name": "ProgressStyleModel",
            "_view_count": null,
            "_view_module": "@jupyter-widgets/base",
            "_view_module_version": "1.2.0",
            "_view_name": "StyleView",
            "bar_color": null,
            "description_width": ""
          }
        },
        "7a1f648013654312b09af92690e2f827": {
          "model_module": "@jupyter-widgets/controls",
          "model_module_version": "1.5.0",
          "model_name": "FloatProgressModel",
          "state": {
            "_dom_classes": [],
            "_model_module": "@jupyter-widgets/controls",
            "_model_module_version": "1.5.0",
            "_model_name": "FloatProgressModel",
            "_view_count": null,
            "_view_module": "@jupyter-widgets/controls",
            "_view_module_version": "1.5.0",
            "_view_name": "ProgressView",
            "bar_style": "success",
            "description": "",
            "description_tooltip": null,
            "layout": "IPY_MODEL_c2b050e8868443faabc2b66ebb60a500",
            "max": 116,
            "min": 0,
            "orientation": "horizontal",
            "style": "IPY_MODEL_f003d1cd607c4b1e824769dbc7ffa7f3",
            "value": 116
          }
        },
        "7c0cc76e33f24757bdbdaa5374297c0d": {
          "model_module": "@jupyter-widgets/controls",
          "model_module_version": "1.5.0",
          "model_name": "HTMLModel",
          "state": {
            "_dom_classes": [],
            "_model_module": "@jupyter-widgets/controls",
            "_model_module_version": "1.5.0",
            "_model_name": "HTMLModel",
            "_view_count": null,
            "_view_module": "@jupyter-widgets/controls",
            "_view_module_version": "1.5.0",
            "_view_name": "HTMLView",
            "description": "",
            "description_tooltip": null,
            "layout": "IPY_MODEL_30eeacce3c2644fa8aae20729d910111",
            "placeholder": "​",
            "style": "IPY_MODEL_32526099902f4c36a285c65239181f2f",
            "value": "model.safetensors: 100%"
          }
        },
        "7ffc28c3b8194f7f862860f5ed173083": {
          "model_module": "@jupyter-widgets/controls",
          "model_module_version": "1.5.0",
          "model_name": "HTMLModel",
          "state": {
            "_dom_classes": [],
            "_model_module": "@jupyter-widgets/controls",
            "_model_module_version": "1.5.0",
            "_model_name": "HTMLModel",
            "_view_count": null,
            "_view_module": "@jupyter-widgets/controls",
            "_view_module_version": "1.5.0",
            "_view_name": "HTMLView",
            "description": "",
            "description_tooltip": null,
            "layout": "IPY_MODEL_e8964086d5d748ecb598bdd55ed561d5",
            "placeholder": "​",
            "style": "IPY_MODEL_0263b9e3493445ea81b5ac19c2d9798f",
            "value": " 612/612 [00:00&lt;00:00, 56.2kB/s]"
          }
        },
        "80c7acdfb93544f9adf3b352684bdf1d": {
          "model_module": "@jupyter-widgets/base",
          "model_module_version": "1.2.0",
          "model_name": "LayoutModel",
          "state": {
            "_model_module": "@jupyter-widgets/base",
            "_model_module_version": "1.2.0",
            "_model_name": "LayoutModel",
            "_view_count": null,
            "_view_module": "@jupyter-widgets/base",
            "_view_module_version": "1.2.0",
            "_view_name": "LayoutView",
            "align_content": null,
            "align_items": null,
            "align_self": null,
            "border": null,
            "bottom": null,
            "display": null,
            "flex": null,
            "flex_flow": null,
            "grid_area": null,
            "grid_auto_columns": null,
            "grid_auto_flow": null,
            "grid_auto_rows": null,
            "grid_column": null,
            "grid_gap": null,
            "grid_row": null,
            "grid_template_areas": null,
            "grid_template_columns": null,
            "grid_template_rows": null,
            "height": null,
            "justify_content": null,
            "justify_items": null,
            "left": null,
            "margin": null,
            "max_height": null,
            "max_width": null,
            "min_height": null,
            "min_width": null,
            "object_fit": null,
            "object_position": null,
            "order": null,
            "overflow": null,
            "overflow_x": null,
            "overflow_y": null,
            "padding": null,
            "right": null,
            "top": null,
            "visibility": null,
            "width": null
          }
        },
        "85efd174d8ad4518b81a7c9338c43338": {
          "model_module": "@jupyter-widgets/controls",
          "model_module_version": "1.5.0",
          "model_name": "FloatProgressModel",
          "state": {
            "_dom_classes": [],
            "_model_module": "@jupyter-widgets/controls",
            "_model_module_version": "1.5.0",
            "_model_name": "FloatProgressModel",
            "_view_count": null,
            "_view_module": "@jupyter-widgets/controls",
            "_view_module_version": "1.5.0",
            "_view_name": "ProgressView",
            "bar_style": "success",
            "description": "",
            "description_tooltip": null,
            "layout": "IPY_MODEL_150bdb4dfe1544ec8f39ab68d915a403",
            "max": 466247,
            "min": 0,
            "orientation": "horizontal",
            "style": "IPY_MODEL_51749a97108a419d852b0b92b7609c3d",
            "value": 466247
          }
        },
        "86b0fb74ee084c4b85a4e73d117123fc": {
          "model_module": "@jupyter-widgets/controls",
          "model_module_version": "1.5.0",
          "model_name": "HBoxModel",
          "state": {
            "_dom_classes": [],
            "_model_module": "@jupyter-widgets/controls",
            "_model_module_version": "1.5.0",
            "_model_name": "HBoxModel",
            "_view_count": null,
            "_view_module": "@jupyter-widgets/controls",
            "_view_module_version": "1.5.0",
            "_view_name": "HBoxView",
            "box_style": "",
            "children": [
              "IPY_MODEL_2ed3bde63dbf4655a046dd18ee7fe0a0",
              "IPY_MODEL_f816064dc70442388709bbaf24494da7",
              "IPY_MODEL_ff4351a8e320456c88699faffb448720"
            ],
            "layout": "IPY_MODEL_d0ba88002fbe4692b6a3b5f01bb71b0e"
          }
        },
        "8932d930231148118ca84b6d9fc93adc": {
          "model_module": "@jupyter-widgets/base",
          "model_module_version": "1.2.0",
          "model_name": "LayoutModel",
          "state": {
            "_model_module": "@jupyter-widgets/base",
            "_model_module_version": "1.2.0",
            "_model_name": "LayoutModel",
            "_view_count": null,
            "_view_module": "@jupyter-widgets/base",
            "_view_module_version": "1.2.0",
            "_view_name": "LayoutView",
            "align_content": null,
            "align_items": null,
            "align_self": null,
            "border": null,
            "bottom": null,
            "display": null,
            "flex": null,
            "flex_flow": null,
            "grid_area": null,
            "grid_auto_columns": null,
            "grid_auto_flow": null,
            "grid_auto_rows": null,
            "grid_column": null,
            "grid_gap": null,
            "grid_row": null,
            "grid_template_areas": null,
            "grid_template_columns": null,
            "grid_template_rows": null,
            "height": null,
            "justify_content": null,
            "justify_items": null,
            "left": null,
            "margin": null,
            "max_height": null,
            "max_width": null,
            "min_height": null,
            "min_width": null,
            "object_fit": null,
            "object_position": null,
            "order": null,
            "overflow": null,
            "overflow_x": null,
            "overflow_y": null,
            "padding": null,
            "right": null,
            "top": null,
            "visibility": null,
            "width": null
          }
        },
        "8ad4d6a72007484ba9c7fe12113720de": {
          "model_module": "@jupyter-widgets/controls",
          "model_module_version": "1.5.0",
          "model_name": "HTMLModel",
          "state": {
            "_dom_classes": [],
            "_model_module": "@jupyter-widgets/controls",
            "_model_module_version": "1.5.0",
            "_model_name": "HTMLModel",
            "_view_count": null,
            "_view_module": "@jupyter-widgets/controls",
            "_view_module_version": "1.5.0",
            "_view_name": "HTMLView",
            "description": "",
            "description_tooltip": null,
            "layout": "IPY_MODEL_1c8847fa665847259a5ee939b464ea58",
            "placeholder": "​",
            "style": "IPY_MODEL_3139f074dd6842f38125ab012fca9e0e",
            "value": "tokenizer.json: 100%"
          }
        },
        "8d63c8233d1c485b8aef856b6f19d20b": {
          "model_module": "@jupyter-widgets/controls",
          "model_module_version": "1.5.0",
          "model_name": "DescriptionStyleModel",
          "state": {
            "_model_module": "@jupyter-widgets/controls",
            "_model_module_version": "1.5.0",
            "_model_name": "DescriptionStyleModel",
            "_view_count": null,
            "_view_module": "@jupyter-widgets/base",
            "_view_module_version": "1.2.0",
            "_view_name": "StyleView",
            "description_width": ""
          }
        },
        "918a0122f0ae4e19b4bff370ac4278c6": {
          "model_module": "@jupyter-widgets/base",
          "model_module_version": "1.2.0",
          "model_name": "LayoutModel",
          "state": {
            "_model_module": "@jupyter-widgets/base",
            "_model_module_version": "1.2.0",
            "_model_name": "LayoutModel",
            "_view_count": null,
            "_view_module": "@jupyter-widgets/base",
            "_view_module_version": "1.2.0",
            "_view_name": "LayoutView",
            "align_content": null,
            "align_items": null,
            "align_self": null,
            "border": null,
            "bottom": null,
            "display": null,
            "flex": null,
            "flex_flow": null,
            "grid_area": null,
            "grid_auto_columns": null,
            "grid_auto_flow": null,
            "grid_auto_rows": null,
            "grid_column": null,
            "grid_gap": null,
            "grid_row": null,
            "grid_template_areas": null,
            "grid_template_columns": null,
            "grid_template_rows": null,
            "height": null,
            "justify_content": null,
            "justify_items": null,
            "left": null,
            "margin": null,
            "max_height": null,
            "max_width": null,
            "min_height": null,
            "min_width": null,
            "object_fit": null,
            "object_position": null,
            "order": null,
            "overflow": null,
            "overflow_x": null,
            "overflow_y": null,
            "padding": null,
            "right": null,
            "top": null,
            "visibility": null,
            "width": null
          }
        },
        "94551b393e2f49409d3367945baac152": {
          "model_module": "@jupyter-widgets/base",
          "model_module_version": "1.2.0",
          "model_name": "LayoutModel",
          "state": {
            "_model_module": "@jupyter-widgets/base",
            "_model_module_version": "1.2.0",
            "_model_name": "LayoutModel",
            "_view_count": null,
            "_view_module": "@jupyter-widgets/base",
            "_view_module_version": "1.2.0",
            "_view_name": "LayoutView",
            "align_content": null,
            "align_items": null,
            "align_self": null,
            "border": null,
            "bottom": null,
            "display": null,
            "flex": null,
            "flex_flow": null,
            "grid_area": null,
            "grid_auto_columns": null,
            "grid_auto_flow": null,
            "grid_auto_rows": null,
            "grid_column": null,
            "grid_gap": null,
            "grid_row": null,
            "grid_template_areas": null,
            "grid_template_columns": null,
            "grid_template_rows": null,
            "height": null,
            "justify_content": null,
            "justify_items": null,
            "left": null,
            "margin": null,
            "max_height": null,
            "max_width": null,
            "min_height": null,
            "min_width": null,
            "object_fit": null,
            "object_position": null,
            "order": null,
            "overflow": null,
            "overflow_x": null,
            "overflow_y": null,
            "padding": null,
            "right": null,
            "top": null,
            "visibility": null,
            "width": null
          }
        },
        "94807108bffb4d0cae8675f94dff0d8f": {
          "model_module": "@jupyter-widgets/base",
          "model_module_version": "1.2.0",
          "model_name": "LayoutModel",
          "state": {
            "_model_module": "@jupyter-widgets/base",
            "_model_module_version": "1.2.0",
            "_model_name": "LayoutModel",
            "_view_count": null,
            "_view_module": "@jupyter-widgets/base",
            "_view_module_version": "1.2.0",
            "_view_name": "LayoutView",
            "align_content": null,
            "align_items": null,
            "align_self": null,
            "border": null,
            "bottom": null,
            "display": null,
            "flex": null,
            "flex_flow": null,
            "grid_area": null,
            "grid_auto_columns": null,
            "grid_auto_flow": null,
            "grid_auto_rows": null,
            "grid_column": null,
            "grid_gap": null,
            "grid_row": null,
            "grid_template_areas": null,
            "grid_template_columns": null,
            "grid_template_rows": null,
            "height": null,
            "justify_content": null,
            "justify_items": null,
            "left": null,
            "margin": null,
            "max_height": null,
            "max_width": null,
            "min_height": null,
            "min_width": null,
            "object_fit": null,
            "object_position": null,
            "order": null,
            "overflow": null,
            "overflow_x": null,
            "overflow_y": null,
            "padding": null,
            "right": null,
            "top": null,
            "visibility": null,
            "width": null
          }
        },
        "96fb6194fa4b4e7888044e5de7c8de65": {
          "model_module": "@jupyter-widgets/base",
          "model_module_version": "1.2.0",
          "model_name": "LayoutModel",
          "state": {
            "_model_module": "@jupyter-widgets/base",
            "_model_module_version": "1.2.0",
            "_model_name": "LayoutModel",
            "_view_count": null,
            "_view_module": "@jupyter-widgets/base",
            "_view_module_version": "1.2.0",
            "_view_name": "LayoutView",
            "align_content": null,
            "align_items": null,
            "align_self": null,
            "border": null,
            "bottom": null,
            "display": null,
            "flex": null,
            "flex_flow": null,
            "grid_area": null,
            "grid_auto_columns": null,
            "grid_auto_flow": null,
            "grid_auto_rows": null,
            "grid_column": null,
            "grid_gap": null,
            "grid_row": null,
            "grid_template_areas": null,
            "grid_template_columns": null,
            "grid_template_rows": null,
            "height": null,
            "justify_content": null,
            "justify_items": null,
            "left": null,
            "margin": null,
            "max_height": null,
            "max_width": null,
            "min_height": null,
            "min_width": null,
            "object_fit": null,
            "object_position": null,
            "order": null,
            "overflow": null,
            "overflow_x": null,
            "overflow_y": null,
            "padding": null,
            "right": null,
            "top": null,
            "visibility": null,
            "width": null
          }
        },
        "997714216fa349ccbe0bfdd0ce82b0fb": {
          "model_module": "@jupyter-widgets/controls",
          "model_module_version": "1.5.0",
          "model_name": "DescriptionStyleModel",
          "state": {
            "_model_module": "@jupyter-widgets/controls",
            "_model_module_version": "1.5.0",
            "_model_name": "DescriptionStyleModel",
            "_view_count": null,
            "_view_module": "@jupyter-widgets/base",
            "_view_module_version": "1.2.0",
            "_view_name": "StyleView",
            "description_width": ""
          }
        },
        "9e8de3c7b81d40ab802c22f26d13e921": {
          "model_module": "@jupyter-widgets/base",
          "model_module_version": "1.2.0",
          "model_name": "LayoutModel",
          "state": {
            "_model_module": "@jupyter-widgets/base",
            "_model_module_version": "1.2.0",
            "_model_name": "LayoutModel",
            "_view_count": null,
            "_view_module": "@jupyter-widgets/base",
            "_view_module_version": "1.2.0",
            "_view_name": "LayoutView",
            "align_content": null,
            "align_items": null,
            "align_self": null,
            "border": null,
            "bottom": null,
            "display": null,
            "flex": null,
            "flex_flow": null,
            "grid_area": null,
            "grid_auto_columns": null,
            "grid_auto_flow": null,
            "grid_auto_rows": null,
            "grid_column": null,
            "grid_gap": null,
            "grid_row": null,
            "grid_template_areas": null,
            "grid_template_columns": null,
            "grid_template_rows": null,
            "height": null,
            "justify_content": null,
            "justify_items": null,
            "left": null,
            "margin": null,
            "max_height": null,
            "max_width": null,
            "min_height": null,
            "min_width": null,
            "object_fit": null,
            "object_position": null,
            "order": null,
            "overflow": null,
            "overflow_x": null,
            "overflow_y": null,
            "padding": null,
            "right": null,
            "top": null,
            "visibility": null,
            "width": null
          }
        },
        "9f97cc1bbcfa4c778add5f253f99c658": {
          "model_module": "@jupyter-widgets/controls",
          "model_module_version": "1.5.0",
          "model_name": "DescriptionStyleModel",
          "state": {
            "_model_module": "@jupyter-widgets/controls",
            "_model_module_version": "1.5.0",
            "_model_name": "DescriptionStyleModel",
            "_view_count": null,
            "_view_module": "@jupyter-widgets/base",
            "_view_module_version": "1.2.0",
            "_view_name": "StyleView",
            "description_width": ""
          }
        },
        "a3dcc93ccd19471994caf4848374df02": {
          "model_module": "@jupyter-widgets/base",
          "model_module_version": "1.2.0",
          "model_name": "LayoutModel",
          "state": {
            "_model_module": "@jupyter-widgets/base",
            "_model_module_version": "1.2.0",
            "_model_name": "LayoutModel",
            "_view_count": null,
            "_view_module": "@jupyter-widgets/base",
            "_view_module_version": "1.2.0",
            "_view_name": "LayoutView",
            "align_content": null,
            "align_items": null,
            "align_self": null,
            "border": null,
            "bottom": null,
            "display": null,
            "flex": null,
            "flex_flow": null,
            "grid_area": null,
            "grid_auto_columns": null,
            "grid_auto_flow": null,
            "grid_auto_rows": null,
            "grid_column": null,
            "grid_gap": null,
            "grid_row": null,
            "grid_template_areas": null,
            "grid_template_columns": null,
            "grid_template_rows": null,
            "height": null,
            "justify_content": null,
            "justify_items": null,
            "left": null,
            "margin": null,
            "max_height": null,
            "max_width": null,
            "min_height": null,
            "min_width": null,
            "object_fit": null,
            "object_position": null,
            "order": null,
            "overflow": null,
            "overflow_x": null,
            "overflow_y": null,
            "padding": null,
            "right": null,
            "top": null,
            "visibility": null,
            "width": null
          }
        },
        "a87d879961614cc4bbf72b074a5f0db8": {
          "model_module": "@jupyter-widgets/controls",
          "model_module_version": "1.5.0",
          "model_name": "HBoxModel",
          "state": {
            "_dom_classes": [],
            "_model_module": "@jupyter-widgets/controls",
            "_model_module_version": "1.5.0",
            "_model_name": "HBoxModel",
            "_view_count": null,
            "_view_module": "@jupyter-widgets/controls",
            "_view_module_version": "1.5.0",
            "_view_name": "HBoxView",
            "box_style": "",
            "children": [
              "IPY_MODEL_ee912cb260fe4867bfaee66a13f57390",
              "IPY_MODEL_03f8eaed886e49839f1ddd065a2fbcdb",
              "IPY_MODEL_55cbe1a8853f4f74b9a3ccab10dd88cc"
            ],
            "layout": "IPY_MODEL_f56e0f02049745f991c3f623d07cffb8"
          }
        },
        "b1dd816acb334775b7fbca1e7a4b3454": {
          "model_module": "@jupyter-widgets/controls",
          "model_module_version": "1.5.0",
          "model_name": "HBoxModel",
          "state": {
            "_dom_classes": [],
            "_model_module": "@jupyter-widgets/controls",
            "_model_module_version": "1.5.0",
            "_model_name": "HBoxModel",
            "_view_count": null,
            "_view_module": "@jupyter-widgets/controls",
            "_view_module_version": "1.5.0",
            "_view_name": "HBoxView",
            "box_style": "",
            "children": [
              "IPY_MODEL_74d131182a994b9a89b8e0263494bd94",
              "IPY_MODEL_eb9edd47aad64847a4af71fcb758cb21",
              "IPY_MODEL_bc3d726f3612435587302d2fae02e639"
            ],
            "layout": "IPY_MODEL_1102e8bb4f2248e8bca5d595f6599ab1"
          }
        },
        "b37726f42c10483980feb6a240475d6d": {
          "model_module": "@jupyter-widgets/controls",
          "model_module_version": "1.5.0",
          "model_name": "HTMLModel",
          "state": {
            "_dom_classes": [],
            "_model_module": "@jupyter-widgets/controls",
            "_model_module_version": "1.5.0",
            "_model_name": "HTMLModel",
            "_view_count": null,
            "_view_module": "@jupyter-widgets/controls",
            "_view_module_version": "1.5.0",
            "_view_name": "HTMLView",
            "description": "",
            "description_tooltip": null,
            "layout": "IPY_MODEL_8932d930231148118ca84b6d9fc93adc",
            "placeholder": "​",
            "style": "IPY_MODEL_ee610d33e46349eeaade5a21044d442e",
            "value": "config.json: 100%"
          }
        },
        "b61cfd16434c4a409cd679acdf13949e": {
          "model_module": "@jupyter-widgets/controls",
          "model_module_version": "1.5.0",
          "model_name": "DescriptionStyleModel",
          "state": {
            "_model_module": "@jupyter-widgets/controls",
            "_model_module_version": "1.5.0",
            "_model_name": "DescriptionStyleModel",
            "_view_count": null,
            "_view_module": "@jupyter-widgets/base",
            "_view_module_version": "1.2.0",
            "_view_name": "StyleView",
            "description_width": ""
          }
        },
        "b81d8d0091db419c94e0e6d0b7210021": {
          "model_module": "@jupyter-widgets/controls",
          "model_module_version": "1.5.0",
          "model_name": "HBoxModel",
          "state": {
            "_dom_classes": [],
            "_model_module": "@jupyter-widgets/controls",
            "_model_module_version": "1.5.0",
            "_model_name": "HBoxModel",
            "_view_count": null,
            "_view_module": "@jupyter-widgets/controls",
            "_view_module_version": "1.5.0",
            "_view_name": "HBoxView",
            "box_style": "",
            "children": [
              "IPY_MODEL_7c0cc76e33f24757bdbdaa5374297c0d",
              "IPY_MODEL_5c53afd79675403c9f210ac7796f3064",
              "IPY_MODEL_e67587ff910c44bab88411682d03ec64"
            ],
            "layout": "IPY_MODEL_ef56d19701934f63ae818e358ea15fba"
          }
        },
        "ba13da21a40e4f27aa787fb69ce7ad97": {
          "model_module": "@jupyter-widgets/controls",
          "model_module_version": "1.5.0",
          "model_name": "HBoxModel",
          "state": {
            "_dom_classes": [],
            "_model_module": "@jupyter-widgets/controls",
            "_model_module_version": "1.5.0",
            "_model_name": "HBoxModel",
            "_view_count": null,
            "_view_module": "@jupyter-widgets/controls",
            "_view_module_version": "1.5.0",
            "_view_name": "HBoxView",
            "box_style": "",
            "children": [
              "IPY_MODEL_3f5ed19078104502a7245a0b59a02a28",
              "IPY_MODEL_c9f5cc7252454eb4a58ae054355586f2",
              "IPY_MODEL_5a2541dbd21e4dffbe9652946f097078"
            ],
            "layout": "IPY_MODEL_9e8de3c7b81d40ab802c22f26d13e921"
          }
        },
        "ba94dea6571b4248b591e7c34418c5e6": {
          "model_module": "@jupyter-widgets/controls",
          "model_module_version": "1.5.0",
          "model_name": "ProgressStyleModel",
          "state": {
            "_model_module": "@jupyter-widgets/controls",
            "_model_module_version": "1.5.0",
            "_model_name": "ProgressStyleModel",
            "_view_count": null,
            "_view_module": "@jupyter-widgets/base",
            "_view_module_version": "1.2.0",
            "_view_name": "StyleView",
            "bar_color": null,
            "description_width": ""
          }
        },
        "bc0570fb9655474da5b7b9800be54ec5": {
          "model_module": "@jupyter-widgets/base",
          "model_module_version": "1.2.0",
          "model_name": "LayoutModel",
          "state": {
            "_model_module": "@jupyter-widgets/base",
            "_model_module_version": "1.2.0",
            "_model_name": "LayoutModel",
            "_view_count": null,
            "_view_module": "@jupyter-widgets/base",
            "_view_module_version": "1.2.0",
            "_view_name": "LayoutView",
            "align_content": null,
            "align_items": null,
            "align_self": null,
            "border": null,
            "bottom": null,
            "display": null,
            "flex": null,
            "flex_flow": null,
            "grid_area": null,
            "grid_auto_columns": null,
            "grid_auto_flow": null,
            "grid_auto_rows": null,
            "grid_column": null,
            "grid_gap": null,
            "grid_row": null,
            "grid_template_areas": null,
            "grid_template_columns": null,
            "grid_template_rows": null,
            "height": null,
            "justify_content": null,
            "justify_items": null,
            "left": null,
            "margin": null,
            "max_height": null,
            "max_width": null,
            "min_height": null,
            "min_width": null,
            "object_fit": null,
            "object_position": null,
            "order": null,
            "overflow": null,
            "overflow_x": null,
            "overflow_y": null,
            "padding": null,
            "right": null,
            "top": null,
            "visibility": null,
            "width": null
          }
        },
        "bc3d726f3612435587302d2fae02e639": {
          "model_module": "@jupyter-widgets/controls",
          "model_module_version": "1.5.0",
          "model_name": "HTMLModel",
          "state": {
            "_dom_classes": [],
            "_model_module": "@jupyter-widgets/controls",
            "_model_module_version": "1.5.0",
            "_model_name": "HTMLModel",
            "_view_count": null,
            "_view_module": "@jupyter-widgets/controls",
            "_view_module_version": "1.5.0",
            "_view_name": "HTMLView",
            "description": "",
            "description_tooltip": null,
            "layout": "IPY_MODEL_0942714ebf884f29b9ed17b7bd69a1b7",
            "placeholder": "​",
            "style": "IPY_MODEL_11e059dfd286439fa4ab4cdebd61e2ef",
            "value": " 53.0/53.0 [00:00&lt;00:00, 4.25kB/s]"
          }
        },
        "bdf8701358794a0cb44b37fac2438fa8": {
          "model_module": "@jupyter-widgets/controls",
          "model_module_version": "1.5.0",
          "model_name": "HBoxModel",
          "state": {
            "_dom_classes": [],
            "_model_module": "@jupyter-widgets/controls",
            "_model_module_version": "1.5.0",
            "_model_name": "HBoxModel",
            "_view_count": null,
            "_view_module": "@jupyter-widgets/controls",
            "_view_module_version": "1.5.0",
            "_view_name": "HBoxView",
            "box_style": "",
            "children": [
              "IPY_MODEL_b37726f42c10483980feb6a240475d6d",
              "IPY_MODEL_e7cef2e0e54f456286944bb09db93b54",
              "IPY_MODEL_3be4a27aff8349298d69a74dd4bd0cb1"
            ],
            "layout": "IPY_MODEL_34e54ce984ce48a183b556676c0a0fe5"
          }
        },
        "beea5f88841c41ae834fa4259626ab60": {
          "model_module": "@jupyter-widgets/base",
          "model_module_version": "1.2.0",
          "model_name": "LayoutModel",
          "state": {
            "_model_module": "@jupyter-widgets/base",
            "_model_module_version": "1.2.0",
            "_model_name": "LayoutModel",
            "_view_count": null,
            "_view_module": "@jupyter-widgets/base",
            "_view_module_version": "1.2.0",
            "_view_name": "LayoutView",
            "align_content": null,
            "align_items": null,
            "align_self": null,
            "border": null,
            "bottom": null,
            "display": null,
            "flex": null,
            "flex_flow": null,
            "grid_area": null,
            "grid_auto_columns": null,
            "grid_auto_flow": null,
            "grid_auto_rows": null,
            "grid_column": null,
            "grid_gap": null,
            "grid_row": null,
            "grid_template_areas": null,
            "grid_template_columns": null,
            "grid_template_rows": null,
            "height": null,
            "justify_content": null,
            "justify_items": null,
            "left": null,
            "margin": null,
            "max_height": null,
            "max_width": null,
            "min_height": null,
            "min_width": null,
            "object_fit": null,
            "object_position": null,
            "order": null,
            "overflow": null,
            "overflow_x": null,
            "overflow_y": null,
            "padding": null,
            "right": null,
            "top": null,
            "visibility": null,
            "width": null
          }
        },
        "bf361c131e324f4e8389d4cd6afe90b5": {
          "model_module": "@jupyter-widgets/controls",
          "model_module_version": "1.5.0",
          "model_name": "DescriptionStyleModel",
          "state": {
            "_model_module": "@jupyter-widgets/controls",
            "_model_module_version": "1.5.0",
            "_model_name": "DescriptionStyleModel",
            "_view_count": null,
            "_view_module": "@jupyter-widgets/base",
            "_view_module_version": "1.2.0",
            "_view_name": "StyleView",
            "description_width": ""
          }
        },
        "c0c5a7c22dc2461fae450a5f5bea7237": {
          "model_module": "@jupyter-widgets/controls",
          "model_module_version": "1.5.0",
          "model_name": "HTMLModel",
          "state": {
            "_dom_classes": [],
            "_model_module": "@jupyter-widgets/controls",
            "_model_module_version": "1.5.0",
            "_model_name": "HTMLModel",
            "_view_count": null,
            "_view_module": "@jupyter-widgets/controls",
            "_view_module_version": "1.5.0",
            "_view_name": "HTMLView",
            "description": "",
            "description_tooltip": null,
            "layout": "IPY_MODEL_918a0122f0ae4e19b4bff370ac4278c6",
            "placeholder": "​",
            "style": "IPY_MODEL_b61cfd16434c4a409cd679acdf13949e",
            "value": "config.json: 100%"
          }
        },
        "c2b050e8868443faabc2b66ebb60a500": {
          "model_module": "@jupyter-widgets/base",
          "model_module_version": "1.2.0",
          "model_name": "LayoutModel",
          "state": {
            "_model_module": "@jupyter-widgets/base",
            "_model_module_version": "1.2.0",
            "_model_name": "LayoutModel",
            "_view_count": null,
            "_view_module": "@jupyter-widgets/base",
            "_view_module_version": "1.2.0",
            "_view_name": "LayoutView",
            "align_content": null,
            "align_items": null,
            "align_self": null,
            "border": null,
            "bottom": null,
            "display": null,
            "flex": null,
            "flex_flow": null,
            "grid_area": null,
            "grid_auto_columns": null,
            "grid_auto_flow": null,
            "grid_auto_rows": null,
            "grid_column": null,
            "grid_gap": null,
            "grid_row": null,
            "grid_template_areas": null,
            "grid_template_columns": null,
            "grid_template_rows": null,
            "height": null,
            "justify_content": null,
            "justify_items": null,
            "left": null,
            "margin": null,
            "max_height": null,
            "max_width": null,
            "min_height": null,
            "min_width": null,
            "object_fit": null,
            "object_position": null,
            "order": null,
            "overflow": null,
            "overflow_x": null,
            "overflow_y": null,
            "padding": null,
            "right": null,
            "top": null,
            "visibility": null,
            "width": null
          }
        },
        "c9f5cc7252454eb4a58ae054355586f2": {
          "model_module": "@jupyter-widgets/controls",
          "model_module_version": "1.5.0",
          "model_name": "FloatProgressModel",
          "state": {
            "_dom_classes": [],
            "_model_module": "@jupyter-widgets/controls",
            "_model_module_version": "1.5.0",
            "_model_name": "FloatProgressModel",
            "_view_count": null,
            "_view_module": "@jupyter-widgets/controls",
            "_view_module_version": "1.5.0",
            "_view_name": "ProgressView",
            "bar_style": "success",
            "description": "",
            "description_tooltip": null,
            "layout": "IPY_MODEL_dff2b55eac5e49149142e39fc75870a6",
            "max": 349,
            "min": 0,
            "orientation": "horizontal",
            "style": "IPY_MODEL_12a607abf4fd43dc83aeb16729691459",
            "value": 349
          }
        },
        "cbcfeb235d5c4ae8a6bac55a18a4d993": {
          "model_module": "@jupyter-widgets/base",
          "model_module_version": "1.2.0",
          "model_name": "LayoutModel",
          "state": {
            "_model_module": "@jupyter-widgets/base",
            "_model_module_version": "1.2.0",
            "_model_name": "LayoutModel",
            "_view_count": null,
            "_view_module": "@jupyter-widgets/base",
            "_view_module_version": "1.2.0",
            "_view_name": "LayoutView",
            "align_content": null,
            "align_items": null,
            "align_self": null,
            "border": null,
            "bottom": null,
            "display": null,
            "flex": null,
            "flex_flow": null,
            "grid_area": null,
            "grid_auto_columns": null,
            "grid_auto_flow": null,
            "grid_auto_rows": null,
            "grid_column": null,
            "grid_gap": null,
            "grid_row": null,
            "grid_template_areas": null,
            "grid_template_columns": null,
            "grid_template_rows": null,
            "height": null,
            "justify_content": null,
            "justify_items": null,
            "left": null,
            "margin": null,
            "max_height": null,
            "max_width": null,
            "min_height": null,
            "min_width": null,
            "object_fit": null,
            "object_position": null,
            "order": null,
            "overflow": null,
            "overflow_x": null,
            "overflow_y": null,
            "padding": null,
            "right": null,
            "top": null,
            "visibility": null,
            "width": null
          }
        },
        "cf9cb58f0ebc415483dc8db19e0bf7e9": {
          "model_module": "@jupyter-widgets/controls",
          "model_module_version": "1.5.0",
          "model_name": "HTMLModel",
          "state": {
            "_dom_classes": [],
            "_model_module": "@jupyter-widgets/controls",
            "_model_module_version": "1.5.0",
            "_model_name": "HTMLModel",
            "_view_count": null,
            "_view_module": "@jupyter-widgets/controls",
            "_view_module_version": "1.5.0",
            "_view_name": "HTMLView",
            "description": "",
            "description_tooltip": null,
            "layout": "IPY_MODEL_96fb6194fa4b4e7888044e5de7c8de65",
            "placeholder": "​",
            "style": "IPY_MODEL_1fb14ab444864891829433252970a46f",
            "value": " 350/350 [00:00&lt;00:00, 11.3kB/s]"
          }
        },
        "d0ba88002fbe4692b6a3b5f01bb71b0e": {
          "model_module": "@jupyter-widgets/base",
          "model_module_version": "1.2.0",
          "model_name": "LayoutModel",
          "state": {
            "_model_module": "@jupyter-widgets/base",
            "_model_module_version": "1.2.0",
            "_model_name": "LayoutModel",
            "_view_count": null,
            "_view_module": "@jupyter-widgets/base",
            "_view_module_version": "1.2.0",
            "_view_name": "LayoutView",
            "align_content": null,
            "align_items": null,
            "align_self": null,
            "border": null,
            "bottom": null,
            "display": null,
            "flex": null,
            "flex_flow": null,
            "grid_area": null,
            "grid_auto_columns": null,
            "grid_auto_flow": null,
            "grid_auto_rows": null,
            "grid_column": null,
            "grid_gap": null,
            "grid_row": null,
            "grid_template_areas": null,
            "grid_template_columns": null,
            "grid_template_rows": null,
            "height": null,
            "justify_content": null,
            "justify_items": null,
            "left": null,
            "margin": null,
            "max_height": null,
            "max_width": null,
            "min_height": null,
            "min_width": null,
            "object_fit": null,
            "object_position": null,
            "order": null,
            "overflow": null,
            "overflow_x": null,
            "overflow_y": null,
            "padding": null,
            "right": null,
            "top": null,
            "visibility": null,
            "width": null
          }
        },
        "d1352b78aeee4b5bb03a22dc593f2a7e": {
          "model_module": "@jupyter-widgets/base",
          "model_module_version": "1.2.0",
          "model_name": "LayoutModel",
          "state": {
            "_model_module": "@jupyter-widgets/base",
            "_model_module_version": "1.2.0",
            "_model_name": "LayoutModel",
            "_view_count": null,
            "_view_module": "@jupyter-widgets/base",
            "_view_module_version": "1.2.0",
            "_view_name": "LayoutView",
            "align_content": null,
            "align_items": null,
            "align_self": null,
            "border": null,
            "bottom": null,
            "display": null,
            "flex": null,
            "flex_flow": null,
            "grid_area": null,
            "grid_auto_columns": null,
            "grid_auto_flow": null,
            "grid_auto_rows": null,
            "grid_column": null,
            "grid_gap": null,
            "grid_row": null,
            "grid_template_areas": null,
            "grid_template_columns": null,
            "grid_template_rows": null,
            "height": null,
            "justify_content": null,
            "justify_items": null,
            "left": null,
            "margin": null,
            "max_height": null,
            "max_width": null,
            "min_height": null,
            "min_width": null,
            "object_fit": null,
            "object_position": null,
            "order": null,
            "overflow": null,
            "overflow_x": null,
            "overflow_y": null,
            "padding": null,
            "right": null,
            "top": null,
            "visibility": null,
            "width": null
          }
        },
        "d30a8fe7ac664733836552108e2dc7a1": {
          "model_module": "@jupyter-widgets/controls",
          "model_module_version": "1.5.0",
          "model_name": "HTMLModel",
          "state": {
            "_dom_classes": [],
            "_model_module": "@jupyter-widgets/controls",
            "_model_module_version": "1.5.0",
            "_model_name": "HTMLModel",
            "_view_count": null,
            "_view_module": "@jupyter-widgets/controls",
            "_view_module_version": "1.5.0",
            "_view_name": "HTMLView",
            "description": "",
            "description_tooltip": null,
            "layout": "IPY_MODEL_5bbff26a36a54fe99161ca6fbcc5b597",
            "placeholder": "​",
            "style": "IPY_MODEL_bf361c131e324f4e8389d4cd6afe90b5",
            "value": " 466k/466k [00:00&lt;00:00, 2.79MB/s]"
          }
        },
        "d31cd50957b94cbd8fa743aa9337de1a": {
          "model_module": "@jupyter-widgets/controls",
          "model_module_version": "1.5.0",
          "model_name": "DescriptionStyleModel",
          "state": {
            "_model_module": "@jupyter-widgets/controls",
            "_model_module_version": "1.5.0",
            "_model_name": "DescriptionStyleModel",
            "_view_count": null,
            "_view_module": "@jupyter-widgets/base",
            "_view_module_version": "1.2.0",
            "_view_name": "StyleView",
            "description_width": ""
          }
        },
        "d7a6a852d1a14e2ca157d50943b04748": {
          "model_module": "@jupyter-widgets/controls",
          "model_module_version": "1.5.0",
          "model_name": "ProgressStyleModel",
          "state": {
            "_model_module": "@jupyter-widgets/controls",
            "_model_module_version": "1.5.0",
            "_model_name": "ProgressStyleModel",
            "_view_count": null,
            "_view_module": "@jupyter-widgets/base",
            "_view_module_version": "1.2.0",
            "_view_name": "StyleView",
            "bar_color": null,
            "description_width": ""
          }
        },
        "dea997cb1ce2468e9589e97a94678abd": {
          "model_module": "@jupyter-widgets/controls",
          "model_module_version": "1.5.0",
          "model_name": "ProgressStyleModel",
          "state": {
            "_model_module": "@jupyter-widgets/controls",
            "_model_module_version": "1.5.0",
            "_model_name": "ProgressStyleModel",
            "_view_count": null,
            "_view_module": "@jupyter-widgets/base",
            "_view_module_version": "1.2.0",
            "_view_name": "StyleView",
            "bar_color": null,
            "description_width": ""
          }
        },
        "dff2b55eac5e49149142e39fc75870a6": {
          "model_module": "@jupyter-widgets/base",
          "model_module_version": "1.2.0",
          "model_name": "LayoutModel",
          "state": {
            "_model_module": "@jupyter-widgets/base",
            "_model_module_version": "1.2.0",
            "_model_name": "LayoutModel",
            "_view_count": null,
            "_view_module": "@jupyter-widgets/base",
            "_view_module_version": "1.2.0",
            "_view_name": "LayoutView",
            "align_content": null,
            "align_items": null,
            "align_self": null,
            "border": null,
            "bottom": null,
            "display": null,
            "flex": null,
            "flex_flow": null,
            "grid_area": null,
            "grid_auto_columns": null,
            "grid_auto_flow": null,
            "grid_auto_rows": null,
            "grid_column": null,
            "grid_gap": null,
            "grid_row": null,
            "grid_template_areas": null,
            "grid_template_columns": null,
            "grid_template_rows": null,
            "height": null,
            "justify_content": null,
            "justify_items": null,
            "left": null,
            "margin": null,
            "max_height": null,
            "max_width": null,
            "min_height": null,
            "min_width": null,
            "object_fit": null,
            "object_position": null,
            "order": null,
            "overflow": null,
            "overflow_x": null,
            "overflow_y": null,
            "padding": null,
            "right": null,
            "top": null,
            "visibility": null,
            "width": null
          }
        },
        "e49139b98015422ea7b85cbdd5af1637": {
          "model_module": "@jupyter-widgets/controls",
          "model_module_version": "1.5.0",
          "model_name": "HBoxModel",
          "state": {
            "_dom_classes": [],
            "_model_module": "@jupyter-widgets/controls",
            "_model_module_version": "1.5.0",
            "_model_name": "HBoxModel",
            "_view_count": null,
            "_view_module": "@jupyter-widgets/controls",
            "_view_module_version": "1.5.0",
            "_view_name": "HBoxView",
            "box_style": "",
            "children": [
              "IPY_MODEL_8ad4d6a72007484ba9c7fe12113720de",
              "IPY_MODEL_85efd174d8ad4518b81a7c9338c43338",
              "IPY_MODEL_d30a8fe7ac664733836552108e2dc7a1"
            ],
            "layout": "IPY_MODEL_a3dcc93ccd19471994caf4848374df02"
          }
        },
        "e67587ff910c44bab88411682d03ec64": {
          "model_module": "@jupyter-widgets/controls",
          "model_module_version": "1.5.0",
          "model_name": "HTMLModel",
          "state": {
            "_dom_classes": [],
            "_model_module": "@jupyter-widgets/controls",
            "_model_module_version": "1.5.0",
            "_model_name": "HTMLModel",
            "_view_count": null,
            "_view_module": "@jupyter-widgets/controls",
            "_view_module_version": "1.5.0",
            "_view_name": "HTMLView",
            "description": "",
            "description_tooltip": null,
            "layout": "IPY_MODEL_1572fe7d776745bda8b15efe6a49562a",
            "placeholder": "​",
            "style": "IPY_MODEL_9f97cc1bbcfa4c778add5f253f99c658",
            "value": " 90.9M/90.9M [00:00&lt;00:00, 136MB/s]"
          }
        },
        "e7cef2e0e54f456286944bb09db93b54": {
          "model_module": "@jupyter-widgets/controls",
          "model_module_version": "1.5.0",
          "model_name": "FloatProgressModel",
          "state": {
            "_dom_classes": [],
            "_model_module": "@jupyter-widgets/controls",
            "_model_module_version": "1.5.0",
            "_model_name": "FloatProgressModel",
            "_view_count": null,
            "_view_module": "@jupyter-widgets/controls",
            "_view_module_version": "1.5.0",
            "_view_name": "ProgressView",
            "bar_style": "success",
            "description": "",
            "description_tooltip": null,
            "layout": "IPY_MODEL_2a92d1d1e4234c609cebabd40be9703b",
            "max": 190,
            "min": 0,
            "orientation": "horizontal",
            "style": "IPY_MODEL_35bdccddd00f47549d5068f8b2bcff13",
            "value": 190
          }
        },
        "e8964086d5d748ecb598bdd55ed561d5": {
          "model_module": "@jupyter-widgets/base",
          "model_module_version": "1.2.0",
          "model_name": "LayoutModel",
          "state": {
            "_model_module": "@jupyter-widgets/base",
            "_model_module_version": "1.2.0",
            "_model_name": "LayoutModel",
            "_view_count": null,
            "_view_module": "@jupyter-widgets/base",
            "_view_module_version": "1.2.0",
            "_view_name": "LayoutView",
            "align_content": null,
            "align_items": null,
            "align_self": null,
            "border": null,
            "bottom": null,
            "display": null,
            "flex": null,
            "flex_flow": null,
            "grid_area": null,
            "grid_auto_columns": null,
            "grid_auto_flow": null,
            "grid_auto_rows": null,
            "grid_column": null,
            "grid_gap": null,
            "grid_row": null,
            "grid_template_areas": null,
            "grid_template_columns": null,
            "grid_template_rows": null,
            "height": null,
            "justify_content": null,
            "justify_items": null,
            "left": null,
            "margin": null,
            "max_height": null,
            "max_width": null,
            "min_height": null,
            "min_width": null,
            "object_fit": null,
            "object_position": null,
            "order": null,
            "overflow": null,
            "overflow_x": null,
            "overflow_y": null,
            "padding": null,
            "right": null,
            "top": null,
            "visibility": null,
            "width": null
          }
        },
        "ea0e93abed1e4857b2e443ffaafde951": {
          "model_module": "@jupyter-widgets/controls",
          "model_module_version": "1.5.0",
          "model_name": "HBoxModel",
          "state": {
            "_dom_classes": [],
            "_model_module": "@jupyter-widgets/controls",
            "_model_module_version": "1.5.0",
            "_model_name": "HBoxModel",
            "_view_count": null,
            "_view_module": "@jupyter-widgets/controls",
            "_view_module_version": "1.5.0",
            "_view_name": "HBoxView",
            "box_style": "",
            "children": [
              "IPY_MODEL_c0c5a7c22dc2461fae450a5f5bea7237",
              "IPY_MODEL_14a31d73c41141a383e260fd2747bb77",
              "IPY_MODEL_7ffc28c3b8194f7f862860f5ed173083"
            ],
            "layout": "IPY_MODEL_7584ab4d21a04670866901960ef68332"
          }
        },
        "eab3da7df57540aa913af816b85abacf": {
          "model_module": "@jupyter-widgets/base",
          "model_module_version": "1.2.0",
          "model_name": "LayoutModel",
          "state": {
            "_model_module": "@jupyter-widgets/base",
            "_model_module_version": "1.2.0",
            "_model_name": "LayoutModel",
            "_view_count": null,
            "_view_module": "@jupyter-widgets/base",
            "_view_module_version": "1.2.0",
            "_view_name": "LayoutView",
            "align_content": null,
            "align_items": null,
            "align_self": null,
            "border": null,
            "bottom": null,
            "display": null,
            "flex": null,
            "flex_flow": null,
            "grid_area": null,
            "grid_auto_columns": null,
            "grid_auto_flow": null,
            "grid_auto_rows": null,
            "grid_column": null,
            "grid_gap": null,
            "grid_row": null,
            "grid_template_areas": null,
            "grid_template_columns": null,
            "grid_template_rows": null,
            "height": null,
            "justify_content": null,
            "justify_items": null,
            "left": null,
            "margin": null,
            "max_height": null,
            "max_width": null,
            "min_height": null,
            "min_width": null,
            "object_fit": null,
            "object_position": null,
            "order": null,
            "overflow": null,
            "overflow_x": null,
            "overflow_y": null,
            "padding": null,
            "right": null,
            "top": null,
            "visibility": null,
            "width": null
          }
        },
        "eb9edd47aad64847a4af71fcb758cb21": {
          "model_module": "@jupyter-widgets/controls",
          "model_module_version": "1.5.0",
          "model_name": "FloatProgressModel",
          "state": {
            "_dom_classes": [],
            "_model_module": "@jupyter-widgets/controls",
            "_model_module_version": "1.5.0",
            "_model_name": "FloatProgressModel",
            "_view_count": null,
            "_view_module": "@jupyter-widgets/controls",
            "_view_module_version": "1.5.0",
            "_view_name": "ProgressView",
            "bar_style": "success",
            "description": "",
            "description_tooltip": null,
            "layout": "IPY_MODEL_fb9abcb214734888b5ceb2948d6095ec",
            "max": 53,
            "min": 0,
            "orientation": "horizontal",
            "style": "IPY_MODEL_ba94dea6571b4248b591e7c34418c5e6",
            "value": 53
          }
        },
        "ee610d33e46349eeaade5a21044d442e": {
          "model_module": "@jupyter-widgets/controls",
          "model_module_version": "1.5.0",
          "model_name": "DescriptionStyleModel",
          "state": {
            "_model_module": "@jupyter-widgets/controls",
            "_model_module_version": "1.5.0",
            "_model_name": "DescriptionStyleModel",
            "_view_count": null,
            "_view_module": "@jupyter-widgets/base",
            "_view_module_version": "1.2.0",
            "_view_name": "StyleView",
            "description_width": ""
          }
        },
        "ee912cb260fe4867bfaee66a13f57390": {
          "model_module": "@jupyter-widgets/controls",
          "model_module_version": "1.5.0",
          "model_name": "HTMLModel",
          "state": {
            "_dom_classes": [],
            "_model_module": "@jupyter-widgets/controls",
            "_model_module_version": "1.5.0",
            "_model_name": "HTMLModel",
            "_view_count": null,
            "_view_module": "@jupyter-widgets/controls",
            "_view_module_version": "1.5.0",
            "_view_name": "HTMLView",
            "description": "",
            "description_tooltip": null,
            "layout": "IPY_MODEL_6ef140f7638647718d6ccc7abe241073",
            "placeholder": "​",
            "style": "IPY_MODEL_2ab232182d134d349cc23fcbf454a2f4",
            "value": "special_tokens_map.json: 100%"
          }
        },
        "ef56d19701934f63ae818e358ea15fba": {
          "model_module": "@jupyter-widgets/base",
          "model_module_version": "1.2.0",
          "model_name": "LayoutModel",
          "state": {
            "_model_module": "@jupyter-widgets/base",
            "_model_module_version": "1.2.0",
            "_model_name": "LayoutModel",
            "_view_count": null,
            "_view_module": "@jupyter-widgets/base",
            "_view_module_version": "1.2.0",
            "_view_name": "LayoutView",
            "align_content": null,
            "align_items": null,
            "align_self": null,
            "border": null,
            "bottom": null,
            "display": null,
            "flex": null,
            "flex_flow": null,
            "grid_area": null,
            "grid_auto_columns": null,
            "grid_auto_flow": null,
            "grid_auto_rows": null,
            "grid_column": null,
            "grid_gap": null,
            "grid_row": null,
            "grid_template_areas": null,
            "grid_template_columns": null,
            "grid_template_rows": null,
            "height": null,
            "justify_content": null,
            "justify_items": null,
            "left": null,
            "margin": null,
            "max_height": null,
            "max_width": null,
            "min_height": null,
            "min_width": null,
            "object_fit": null,
            "object_position": null,
            "order": null,
            "overflow": null,
            "overflow_x": null,
            "overflow_y": null,
            "padding": null,
            "right": null,
            "top": null,
            "visibility": null,
            "width": null
          }
        },
        "f003d1cd607c4b1e824769dbc7ffa7f3": {
          "model_module": "@jupyter-widgets/controls",
          "model_module_version": "1.5.0",
          "model_name": "ProgressStyleModel",
          "state": {
            "_model_module": "@jupyter-widgets/controls",
            "_model_module_version": "1.5.0",
            "_model_name": "ProgressStyleModel",
            "_view_count": null,
            "_view_module": "@jupyter-widgets/base",
            "_view_module_version": "1.2.0",
            "_view_name": "StyleView",
            "bar_color": null,
            "description_width": ""
          }
        },
        "f4439d866d764e1385c42a92c9483a0b": {
          "model_module": "@jupyter-widgets/controls",
          "model_module_version": "1.5.0",
          "model_name": "FloatProgressModel",
          "state": {
            "_dom_classes": [],
            "_model_module": "@jupyter-widgets/controls",
            "_model_module_version": "1.5.0",
            "_model_name": "FloatProgressModel",
            "_view_count": null,
            "_view_module": "@jupyter-widgets/controls",
            "_view_module_version": "1.5.0",
            "_view_name": "ProgressView",
            "bar_style": "success",
            "description": "",
            "description_tooltip": null,
            "layout": "IPY_MODEL_2812a33744304044a05d985e59a994a3",
            "max": 350,
            "min": 0,
            "orientation": "horizontal",
            "style": "IPY_MODEL_78d7c8532189452485ed6c79b770c5c5",
            "value": 350
          }
        },
        "f56e0f02049745f991c3f623d07cffb8": {
          "model_module": "@jupyter-widgets/base",
          "model_module_version": "1.2.0",
          "model_name": "LayoutModel",
          "state": {
            "_model_module": "@jupyter-widgets/base",
            "_model_module_version": "1.2.0",
            "_model_name": "LayoutModel",
            "_view_count": null,
            "_view_module": "@jupyter-widgets/base",
            "_view_module_version": "1.2.0",
            "_view_name": "LayoutView",
            "align_content": null,
            "align_items": null,
            "align_self": null,
            "border": null,
            "bottom": null,
            "display": null,
            "flex": null,
            "flex_flow": null,
            "grid_area": null,
            "grid_auto_columns": null,
            "grid_auto_flow": null,
            "grid_auto_rows": null,
            "grid_column": null,
            "grid_gap": null,
            "grid_row": null,
            "grid_template_areas": null,
            "grid_template_columns": null,
            "grid_template_rows": null,
            "height": null,
            "justify_content": null,
            "justify_items": null,
            "left": null,
            "margin": null,
            "max_height": null,
            "max_width": null,
            "min_height": null,
            "min_width": null,
            "object_fit": null,
            "object_position": null,
            "order": null,
            "overflow": null,
            "overflow_x": null,
            "overflow_y": null,
            "padding": null,
            "right": null,
            "top": null,
            "visibility": null,
            "width": null
          }
        },
        "f5dfcde47aee4b398dcdacd36888df59": {
          "model_module": "@jupyter-widgets/controls",
          "model_module_version": "1.5.0",
          "model_name": "DescriptionStyleModel",
          "state": {
            "_model_module": "@jupyter-widgets/controls",
            "_model_module_version": "1.5.0",
            "_model_name": "DescriptionStyleModel",
            "_view_count": null,
            "_view_module": "@jupyter-widgets/base",
            "_view_module_version": "1.2.0",
            "_view_name": "StyleView",
            "description_width": ""
          }
        },
        "f6b3c7d0a6b34b19833209b19b4b1c71": {
          "model_module": "@jupyter-widgets/controls",
          "model_module_version": "1.5.0",
          "model_name": "DescriptionStyleModel",
          "state": {
            "_model_module": "@jupyter-widgets/controls",
            "_model_module_version": "1.5.0",
            "_model_name": "DescriptionStyleModel",
            "_view_count": null,
            "_view_module": "@jupyter-widgets/base",
            "_view_module_version": "1.2.0",
            "_view_name": "StyleView",
            "description_width": ""
          }
        },
        "f7d07f22be25487c9197545d13288933": {
          "model_module": "@jupyter-widgets/controls",
          "model_module_version": "1.5.0",
          "model_name": "HBoxModel",
          "state": {
            "_dom_classes": [],
            "_model_module": "@jupyter-widgets/controls",
            "_model_module_version": "1.5.0",
            "_model_name": "HBoxModel",
            "_view_count": null,
            "_view_module": "@jupyter-widgets/controls",
            "_view_module_version": "1.5.0",
            "_view_name": "HBoxView",
            "box_style": "",
            "children": [
              "IPY_MODEL_f96ed3ea50f745eb82d7e7280e274b6d",
              "IPY_MODEL_7a1f648013654312b09af92690e2f827",
              "IPY_MODEL_3f77bcac5eaf40c39f83c36f9a98aad3"
            ],
            "layout": "IPY_MODEL_0bf203538d5148728077dad4c79d07f2"
          }
        },
        "f816064dc70442388709bbaf24494da7": {
          "model_module": "@jupyter-widgets/controls",
          "model_module_version": "1.5.0",
          "model_name": "FloatProgressModel",
          "state": {
            "_dom_classes": [],
            "_model_module": "@jupyter-widgets/controls",
            "_model_module_version": "1.5.0",
            "_model_name": "FloatProgressModel",
            "_view_count": null,
            "_view_module": "@jupyter-widgets/controls",
            "_view_module_version": "1.5.0",
            "_view_name": "ProgressView",
            "bar_style": "success",
            "description": "",
            "description_tooltip": null,
            "layout": "IPY_MODEL_31d8793c06a74dd0a67e5a362182ce85",
            "max": 231508,
            "min": 0,
            "orientation": "horizontal",
            "style": "IPY_MODEL_dea997cb1ce2468e9589e97a94678abd",
            "value": 231508
          }
        },
        "f96ed3ea50f745eb82d7e7280e274b6d": {
          "model_module": "@jupyter-widgets/controls",
          "model_module_version": "1.5.0",
          "model_name": "HTMLModel",
          "state": {
            "_dom_classes": [],
            "_model_module": "@jupyter-widgets/controls",
            "_model_module_version": "1.5.0",
            "_model_name": "HTMLModel",
            "_view_count": null,
            "_view_module": "@jupyter-widgets/controls",
            "_view_module_version": "1.5.0",
            "_view_name": "HTMLView",
            "description": "",
            "description_tooltip": null,
            "layout": "IPY_MODEL_1b58c33f23414aacae3efb5875d7f6ba",
            "placeholder": "​",
            "style": "IPY_MODEL_177028efa747491394df9dbacdbea5b0",
            "value": "config_sentence_transformers.json: 100%"
          }
        },
        "fb9abcb214734888b5ceb2948d6095ec": {
          "model_module": "@jupyter-widgets/base",
          "model_module_version": "1.2.0",
          "model_name": "LayoutModel",
          "state": {
            "_model_module": "@jupyter-widgets/base",
            "_model_module_version": "1.2.0",
            "_model_name": "LayoutModel",
            "_view_count": null,
            "_view_module": "@jupyter-widgets/base",
            "_view_module_version": "1.2.0",
            "_view_name": "LayoutView",
            "align_content": null,
            "align_items": null,
            "align_self": null,
            "border": null,
            "bottom": null,
            "display": null,
            "flex": null,
            "flex_flow": null,
            "grid_area": null,
            "grid_auto_columns": null,
            "grid_auto_flow": null,
            "grid_auto_rows": null,
            "grid_column": null,
            "grid_gap": null,
            "grid_row": null,
            "grid_template_areas": null,
            "grid_template_columns": null,
            "grid_template_rows": null,
            "height": null,
            "justify_content": null,
            "justify_items": null,
            "left": null,
            "margin": null,
            "max_height": null,
            "max_width": null,
            "min_height": null,
            "min_width": null,
            "object_fit": null,
            "object_position": null,
            "order": null,
            "overflow": null,
            "overflow_x": null,
            "overflow_y": null,
            "padding": null,
            "right": null,
            "top": null,
            "visibility": null,
            "width": null
          }
        },
        "fc07eaee217a43dbb7b3983bd18d7916": {
          "model_module": "@jupyter-widgets/base",
          "model_module_version": "1.2.0",
          "model_name": "LayoutModel",
          "state": {
            "_model_module": "@jupyter-widgets/base",
            "_model_module_version": "1.2.0",
            "_model_name": "LayoutModel",
            "_view_count": null,
            "_view_module": "@jupyter-widgets/base",
            "_view_module_version": "1.2.0",
            "_view_name": "LayoutView",
            "align_content": null,
            "align_items": null,
            "align_self": null,
            "border": null,
            "bottom": null,
            "display": null,
            "flex": null,
            "flex_flow": null,
            "grid_area": null,
            "grid_auto_columns": null,
            "grid_auto_flow": null,
            "grid_auto_rows": null,
            "grid_column": null,
            "grid_gap": null,
            "grid_row": null,
            "grid_template_areas": null,
            "grid_template_columns": null,
            "grid_template_rows": null,
            "height": null,
            "justify_content": null,
            "justify_items": null,
            "left": null,
            "margin": null,
            "max_height": null,
            "max_width": null,
            "min_height": null,
            "min_width": null,
            "object_fit": null,
            "object_position": null,
            "order": null,
            "overflow": null,
            "overflow_x": null,
            "overflow_y": null,
            "padding": null,
            "right": null,
            "top": null,
            "visibility": null,
            "width": null
          }
        },
        "fe8cdc21ddc441e48d8ace86c46fda35": {
          "model_module": "@jupyter-widgets/controls",
          "model_module_version": "1.5.0",
          "model_name": "ProgressStyleModel",
          "state": {
            "_model_module": "@jupyter-widgets/controls",
            "_model_module_version": "1.5.0",
            "_model_name": "ProgressStyleModel",
            "_view_count": null,
            "_view_module": "@jupyter-widgets/base",
            "_view_module_version": "1.2.0",
            "_view_name": "StyleView",
            "bar_color": null,
            "description_width": ""
          }
        },
        "ff4351a8e320456c88699faffb448720": {
          "model_module": "@jupyter-widgets/controls",
          "model_module_version": "1.5.0",
          "model_name": "HTMLModel",
          "state": {
            "_dom_classes": [],
            "_model_module": "@jupyter-widgets/controls",
            "_model_module_version": "1.5.0",
            "_model_name": "HTMLModel",
            "_view_count": null,
            "_view_module": "@jupyter-widgets/controls",
            "_view_module_version": "1.5.0",
            "_view_name": "HTMLView",
            "description": "",
            "description_tooltip": null,
            "layout": "IPY_MODEL_cbcfeb235d5c4ae8a6bac55a18a4d993",
            "placeholder": "​",
            "style": "IPY_MODEL_4f8bdba6be1f43849b6ca979858d3de1",
            "value": " 232k/232k [00:00&lt;00:00, 1.41MB/s]"
          }
        }
      }
    }
  },
  "nbformat": 4,
  "nbformat_minor": 5
}
