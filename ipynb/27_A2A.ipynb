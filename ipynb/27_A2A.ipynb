{
 "cells": [
  {
   "cell_type": "markdown",
   "id": "c41bb721",
   "metadata": {},
   "source": [
    "### Agent to Agent Protocol (A2A)\n",
    "\n",
    "**A2A (Agent-to-Agent)** es un protocolo abierto impulsado por Google que permite la comunicación y colaboración directa entre agentes de inteligencia artificial, sin importar qué empresa, tecnología o plataforma los haya desarrollado. Su objetivo es estandarizar la forma en que los agentes de IA se descubren, intercambian tareas, negocian resultados y coordinan acciones, facilitando la creación de sistemas multiagente interoperables, modulares y seguros.\n",
    "\n",
    "A2A se basa en tecnologías ampliamente adoptadas como HTTP, JSON-RPC y Server-Sent Events, lo que facilita su integración en infraestructuras existentes. Cada agente publica una “tarjeta de agente” (Agent Card) en formato JSON, donde describe sus capacidades, puntos de contacto y requisitos de autenticación. Así, otros agentes pueden descubrirlo y saber qué tareas puede realizar.\n",
    "\n",
    "El protocolo gestiona el ciclo de vida de las tareas, permitiendo que un agente delegue trabajos a otros, reciba actualizaciones de estado y comparta resultados en distintos formatos (texto, imágenes, audio, etc.). Además, A2A es seguro por diseño, incorporando mecanismos de autenticación y autorización de nivel empresarial.\n",
    "\n",
    "En resumen, A2A es la base técnica para que los agentes de IA no solo piensen de forma autónoma, sino que colaboren entre sí, abriendo la puerta a ecosistemas de inteligencia artificial distribuidos y mucho más potentes.\n",
    "\n",
    "**Los componentes principales del protocolo A2A son:**\n",
    "\n",
    "- **Tarjeta de Agente** : Es un archivo JSON publicado por cada agente en una ruta estándar. Describe sus capacidades, endpoints, métodos de autenticación y tipos de mensajes soportados. Permite el descubrimiento automático y la negociación de tareas entre agentes.\n",
    "\n",
    "- **Cliente A2A**: Es el agente que inicia una tarea, actuando como solicitante. Se encarga de identificar qué agentes pueden ejecutar la tarea y de coordinar el flujo de trabajo.\n",
    "\n",
    "- **Servidor A2A**: Es el agente que recibe la tarea y la ejecuta. Expone endpoints HTTP y anuncia sus capacidades mediante la Tarjeta de Agente.\n",
    "\n",
    "- **Tarea**: Es la unidad central de trabajo en A2A. Cada tarea tiene un ciclo de vida definido (por ejemplo: enviada, en progreso, completada) e incluye el objetivo, el contexto y los resultados esperados.\n",
    "\n",
    "- **Mensaje**: Es la comunicación que se intercambia entre cliente y servidor en el contexto de una tarea. Los mensajes pueden contener varias partes con diferentes tipos de contenido.\n",
    "\n",
    "- **Parte**: Es la unidad mínima de contenido dentro de un mensaje o artefacto. Puede ser texto, archivo, datos estructurados (JSON), etc.\n",
    "\n",
    "- **Artefacto**: Es el resultado generado por un agente durante la ejecución de una tarea. Puede incluir archivos, fragmentos de conocimiento o cualquier otro tipo de salida relevante.\n"
   ]
  },
  {
   "cell_type": "markdown",
   "id": "dd538c36",
   "metadata": {},
   "source": [
    "\n",
    "```mermaid\n",
    "flowchart LR\n",
    "    Client[Client]\n",
    "    ClientAgent[Client Agent]\n",
    "    subgraph Server[\"A2A Starlette Application / Server\"]\n",
    "        subgraph Executor[\"Weather Agent Executor\"]\n",
    "            WeatherAgent[\"Weather Agent\"]\n",
    "        end\n",
    "    end\n",
    "\n",
    "    Client -- \"Request\\n<span style='font-size:10px'>(Get weather for Miami Florida)</span>\" --> ClientAgent\n",
    "    ClientAgent -- \"agent_card\" --> Server\n",
    "    ClientAgent <--> |\"RPC\"| Server\n",
    "\n",
    "```\n",
    "\n"
   ]
  },
  {
   "cell_type": "markdown",
   "id": "82753f70",
   "metadata": {},
   "source": [
    "### Hello World A2A\n",
    "\n",
    "Para arrancar el servidor. Situarse en `27_A2A/a2a_simple` y:\n",
    "\n",
    "```bash\n",
    "uv run .\n",
    "```\n",
    "\n",
    "Para ejecutar el cliente\n",
    "\n",
    "```bash\n",
    "uv run --activate test_client\n",
    "```"
   ]
  },
  {
   "cell_type": "code",
   "execution_count": 4,
   "id": "28094f4b",
   "metadata": {},
   "outputs": [],
   "source": [
    "import os\n",
    "os.makedirs(\"27_A2A/a2a_simple\", exist_ok=True)"
   ]
  },
  {
   "cell_type": "code",
   "execution_count": 6,
   "id": "59e01eaa",
   "metadata": {},
   "outputs": [
    {
     "name": "stdout",
     "output_type": "stream",
     "text": [
      "Overwriting 27_A2A/a2a_simple/__main__.py\n"
     ]
    }
   ],
   "source": [
    "%%writefile \"27_A2A/a2a_simple/__main__.py\"\n",
    "import uvicorn\n",
    "from a2a.server.apps import A2AStarletteApplication\n",
    "from a2a.server.request_handlers import DefaultRequestHandler\n",
    "from a2a.server.tasks import InMemoryTaskStore\n",
    "from a2a.types import AgentCapabilities, AgentCard, AgentSkill\n",
    "from agent_executor import GreetingAgentExecutor\n",
    "\n",
    "\n",
    "def main():\n",
    "    skill = AgentSkill(\n",
    "        id=\"hello_world\",\n",
    "        name=\"Saludar\",\n",
    "        description=\"Devuelve un saludo\",\n",
    "        tags=[\"saludo\", \"hola\", \"mundo\"],\n",
    "        examples=[\"Hola\", \"¿Qué tal?\", \"Saludos\"],\n",
    "    )\n",
    "\n",
    "    agent_card = AgentCard(\n",
    "        name=\"Agente de Saludo\",\n",
    "        description=\"Un agente simple que devuelve un saludo\",\n",
    "        url=\"http://localhost:9999/\",\n",
    "        defaultInputModes=[\"text\"],\n",
    "        defaultOutputModes=[\"text\"],\n",
    "        skills=[skill],\n",
    "        version=\"1.0.0\",\n",
    "        capabilities=AgentCapabilities(),\n",
    "    )\n",
    "\n",
    "    request_handler = DefaultRequestHandler(\n",
    "        agent_executor=GreetingAgentExecutor(),\n",
    "        task_store=InMemoryTaskStore(),\n",
    "    )\n",
    "\n",
    "    server = A2AStarletteApplication(\n",
    "        http_handler=request_handler,\n",
    "        agent_card=agent_card,\n",
    "    )\n",
    "\n",
    "    uvicorn.run(server.build(), host=\"0.0.0.0\", port=9999)\n",
    "\n",
    "\n",
    "if __name__ == \"__main__\":\n",
    "    main()"
   ]
  },
  {
   "cell_type": "code",
   "execution_count": 9,
   "id": "48882538",
   "metadata": {},
   "outputs": [
    {
     "name": "stdout",
     "output_type": "stream",
     "text": [
      "Overwriting 27_A2A/a2a_simple/agent_executor.py\n"
     ]
    }
   ],
   "source": [
    "%%writefile \"27_A2A/a2a_simple/agent_executor.py\"\n",
    "from a2a.server.agent_execution import AgentExecutor\n",
    "from a2a.server.agent_execution.context import RequestContext\n",
    "from a2a.server.events.event_queue import EventQueue\n",
    "from a2a.utils import new_agent_text_message\n",
    "from pydantic import BaseModel\n",
    "\n",
    "\n",
    "class GreetingAgent(BaseModel):\n",
    "    \"\"\"Agente de saludo que devuelve un saludo\"\"\"\n",
    "\n",
    "    async def invoke(self) -> str:\n",
    "        return \"¡Hola YouTube! ¡Asegúrense de darle me gusta y suscribirse!\"\n",
    "\n",
    "\n",
    "class GreetingAgentExecutor(AgentExecutor):\n",
    "\n",
    "    def __init__(self):\n",
    "        self.agent = GreetingAgent()\n",
    "\n",
    "    async def execute(self, context: RequestContext, event_queue: EventQueue):\n",
    "        result = await self.agent.invoke()\n",
    "        await event_queue.enqueue_event(new_agent_text_message(result))\n",
    "\n",
    "    async def cancel(self, context: RequestContext, event_queue: EventQueue):\n",
    "        raise Exception(\"Cancelación no soportada\")\n"
   ]
  },
  {
   "cell_type": "code",
   "execution_count": 8,
   "id": "9ed799de",
   "metadata": {},
   "outputs": [
    {
     "name": "stdout",
     "output_type": "stream",
     "text": [
      "Writing 27_A2A/a2a_simple/test_client.py\n"
     ]
    }
   ],
   "source": [
    "%%writefile \"27_A2A/a2a_simple/test_client.py\"\n",
    "import uuid\n",
    "\n",
    "import httpx\n",
    "from a2a.client import A2ACardResolver, A2AClient\n",
    "from a2a.types import (\n",
    "    AgentCard,\n",
    "    Message,\n",
    "    MessageSendParams,\n",
    "    Part,\n",
    "    Role,\n",
    "    SendMessageRequest,\n",
    "    TextPart,\n",
    ")\n",
    "\n",
    "PUBLIC_AGENT_CARD_PATH = \"/.well-known/agent.json\"\n",
    "BASE_URL = \"http://localhost:9999\"\n",
    "\n",
    "\n",
    "async def main() -> None:\n",
    "    async with httpx.AsyncClient() as httpx_client:\n",
    "        # Inicializar A2ACardResolver\n",
    "        resolver = A2ACardResolver(\n",
    "            httpx_client=httpx_client,\n",
    "            base_url=BASE_URL,\n",
    "        )\n",
    "\n",
    "        final_agent_card_to_use: AgentCard | None = None\n",
    "\n",
    "        try:\n",
    "            print(\n",
    "                f\"Obteniendo tarjeta de agente pública de: {BASE_URL}{PUBLIC_AGENT_CARD_PATH}\"\n",
    "            )\n",
    "            _public_card = await resolver.get_agent_card()\n",
    "            print(\"Tarjeta de agente pública obtenida\")\n",
    "            print(_public_card.model_dump_json(indent=2))\n",
    "\n",
    "            final_agent_card_to_use = _public_card\n",
    "\n",
    "        except Exception as e:\n",
    "            print(f\"Error al obtener la tarjeta de agente pública: {e}\")\n",
    "            raise RuntimeError(\"Fallo al obtener la tarjeta de agente pública\")\n",
    "\n",
    "        client = A2AClient(\n",
    "            httpx_client=httpx_client, agent_card=final_agent_card_to_use\n",
    "        )\n",
    "        print(\"A2AClient inicializado\")\n",
    "\n",
    "        message_payload = Message(\n",
    "            role=Role.user,\n",
    "            messageId=str(uuid.uuid4()),\n",
    "            parts=[Part(root=TextPart(text=\"Hola, ¿cómo estás?\"))],\n",
    "        )\n",
    "        request = SendMessageRequest(\n",
    "            id=str(uuid.uuid4()),\n",
    "            params=MessageSendParams(\n",
    "                message=message_payload,\n",
    "            ),\n",
    "        )\n",
    "        print(\"Enviando mensaje\")\n",
    "\n",
    "        response = await client.send_message(request)\n",
    "        print(\"Respuesta:\")\n",
    "        print(response.model_dump_json(indent=2))\n",
    "\n",
    "\n",
    "if __name__ == \"__main__\":\n",
    "    import asyncio\n",
    "\n",
    "    asyncio.run(main())"
   ]
  },
  {
   "cell_type": "markdown",
   "id": "bff90678",
   "metadata": {},
   "source": [
    "### Friend Scheduling Demo\n",
    "\n",
    "Ver directorio `27_A2A/a2a_friend_scheduling`.\n",
    "\n"
   ]
  }
 ],
 "metadata": {
  "kernelspec": {
   "display_name": "ia-para-desarrolladores",
   "language": "python",
   "name": "python3"
  },
  "language_info": {
   "codemirror_mode": {
    "name": "ipython",
    "version": 3
   },
   "file_extension": ".py",
   "mimetype": "text/x-python",
   "name": "python",
   "nbconvert_exporter": "python",
   "pygments_lexer": "ipython3",
   "version": "3.13.3"
  }
 },
 "nbformat": 4,
 "nbformat_minor": 5
}
